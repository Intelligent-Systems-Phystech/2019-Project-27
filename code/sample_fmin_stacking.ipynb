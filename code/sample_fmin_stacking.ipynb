{
 "cells": [
  {
   "cell_type": "markdown",
   "metadata": {},
   "source": [
    "### Построение линейной композиции моделей с использованием сиплекс-метода"
   ]
  },
  {
   "cell_type": "code",
   "execution_count": 1,
   "metadata": {
    "collapsed": true
   },
   "outputs": [],
   "source": [
    "import numpy as np\n",
    "import pandas as pd\n",
    "import matplotlib.pyplot as plt\n",
    "%matplotlib inline\n",
    "\n",
    "from sklearn.cluster import KMeans\n",
    "import scipy.stats as sps\n",
    "from copy import deepcopy"
   ]
  },
  {
   "cell_type": "code",
   "execution_count": 2,
   "metadata": {
    "collapsed": true
   },
   "outputs": [],
   "source": [
    "import receive_data\n",
    "\n",
    "import sys\n",
    "import os\n",
    "CUR_DIR = os.path.dirname(os.path.abspath(\"./\")) + \"/\"\n",
    "\n",
    "sys.path.append(CUR_DIR + 'genetic_algorithm')\n",
    "import mutation\n",
    "import crossover\n",
    "import create_population\n",
    "from mutation import mutate_rand_tree"
   ]
  },
  {
   "cell_type": "code",
   "execution_count": 3,
   "metadata": {
    "collapsed": true
   },
   "outputs": [],
   "source": [
    "from math import sin\n",
    "\n",
    "def f_sin(x, y):\n",
    "    return sin(x + y)"
   ]
  },
  {
   "cell_type": "code",
   "execution_count": 4,
   "metadata": {
    "collapsed": true
   },
   "outputs": [],
   "source": [
    "sin_sample = np.array([sps.uniform(-10, 20).rvs(1000), sps.uniform(-10, 20).rvs(1000)]).T\n",
    "sin_sample_real = np.vectorize(f_sin)(sin_sample[:, 0], sin_sample[:, 1])"
   ]
  },
  {
   "cell_type": "code",
   "execution_count": 5,
   "metadata": {},
   "outputs": [
    {
     "data": {
      "text/plain": [
       "KMeans(algorithm='auto', copy_x=True, init='k-means++', max_iter=300,\n",
       "    n_clusters=8, n_init=10, n_jobs=1, precompute_distances='auto',\n",
       "    random_state=None, tol=0.0001, verbose=0)"
      ]
     },
     "execution_count": 5,
     "metadata": {},
     "output_type": "execute_result"
    }
   ],
   "source": [
    "clusterizer = KMeans()\n",
    "\n",
    "clusterizer.fit(sin_sample)"
   ]
  },
  {
   "cell_type": "code",
   "execution_count": 6,
   "metadata": {
    "collapsed": true
   },
   "outputs": [],
   "source": [
    "cluster_nums = clusterizer.predict(sin_sample)\n",
    "samples = []\n",
    "reals = []\n",
    "\n",
    "for i in range(clusterizer.n_clusters):\n",
    "    samples.append(sin_sample[cluster_nums == i])\n",
    "    reals.append(sin_sample_real[cluster_nums == i])"
   ]
  },
  {
   "cell_type": "code",
   "execution_count": 10,
   "metadata": {
    "collapsed": true
   },
   "outputs": [],
   "source": [
    "from sklearn.metrics import mean_squared_error\n",
    "from tqdm import tqdm\n",
    "\n",
    "def genetic_algo_mse(sample, real, iter_cnt=20, values_history=None):\n",
    "    np.random.seed(42)\n",
    "\n",
    "    size = 20\n",
    "\n",
    "    population = create_population.create_population(size, 5)\n",
    "\n",
    "  #  history = []\n",
    "\n",
    "    for iteration in range(iter_cnt):\n",
    "        new_population = []\n",
    "\n",
    "        sz = len(population)\n",
    "\n",
    "        new_population.append(population[0])\n",
    "\n",
    "        for i in range(sz // 30):\n",
    "            new_population.append(mutate_rand_tree(population[0]))\n",
    "            new_population.append(mutate_rand_tree(population[1]))\n",
    "            new_population.append(mutate_rand_tree(population[2]))\n",
    "        for i in range(sz // 10):\n",
    "            new_population.append(create_population.create_random_model(4))\n",
    "        for i in range(sz):\n",
    "            t1 = population[np.random.randint(0, sz / 2)]\n",
    "            t2 = population[np.random.randint(0, sz / 2)]\n",
    "            new_population.append(mutate_rand_tree(crossover.crossfit(t1, t2)))\n",
    "\n",
    "        population = np.array(list(population) + list(new_population))\n",
    "        values = []\n",
    "        for func in population:\n",
    "            #print(np.vectorize(func.calc)(sample[:, 0], sample[:, 1]))\n",
    "            values.append(mean_squared_error(np.vectorize(func.calc)(sample[:, 0], sample[:, 1]), real))\n",
    "        values = np.array(values)\n",
    "\n",
    "        indexes = np.arange(len(population))\n",
    "        indexes = sorted(indexes, key=lambda i: values[i])\n",
    "\n",
    "        population = (population[indexes])[:size]\n",
    "        values = (values[indexes])[:size]\n",
    "\n",
    "       # vis(population, values)\n",
    "       # history.append((population, values))\n",
    "\n",
    "    print(values[0])\n",
    "    return population[0]\n",
    "        "
   ]
  },
  {
   "cell_type": "markdown",
   "metadata": {},
   "source": [
    "Для начала построим суперпозицию сразу на всей обучающей выборке."
   ]
  },
  {
   "cell_type": "code",
   "execution_count": 11,
   "metadata": {
    "scrolled": false
   },
   "outputs": [
    {
     "name": "stderr",
     "output_type": "stream",
     "text": [
      "/home/mike/Документы/MIPT_sem6/my_science/2019-Project-27/code/base_experiment/genetic_algorithm/primitive.py:76: RuntimeWarning: invalid value encountered in double_scalars\n",
      "  vars = np.array([fr.low * sc.low, fr.low * sc.high, fr.high * sc.low, fr.high * sc.high])\n",
      "/home/mike/Документы/MIPT_sem6/my_science/2019-Project-27/code/base_experiment/genetic_algorithm/primitive.py:84: RuntimeWarning: invalid value encountered in double_scalars\n",
      "  vars = np.array([fr.low * sc.low, fr.low * sc.high, fr.high * sc.low, fr.high * sc.high])\n",
      "/home/mike/Документы/MIPT_sem6/my_science/2019-Project-27/code/base_experiment/genetic_algorithm/primitive.py:52: RuntimeWarning: overflow encountered in exp\n",
      "  return self.get_correct_value(self.func(*[node.calc(x, y) for node in self.nodes]))\n",
      "/home/mike/Документы/MIPT_sem6/my_science/2019-Project-27/code/base_experiment/genetic_algorithm/primitive.py:52: RuntimeWarning: invalid value encountered in sqrt\n",
      "  return self.get_correct_value(self.func(*[node.calc(x, y) for node in self.nodes]))\n",
      "/home/mike/Документы/MIPT_sem6/my_science/2019-Project-27/code/base_experiment/genetic_algorithm/primitive.py:52: RuntimeWarning: divide by zero encountered in true_divide\n",
      "  return self.get_correct_value(self.func(*[node.calc(x, y) for node in self.nodes]))\n",
      "/home/mike/Документы/MIPT_sem6/my_science/2019-Project-27/code/base_experiment/genetic_algorithm/primitive.py:171: RuntimeWarning: invalid value encountered in log10\n",
      "  LOG = Primitive(lambda x: np.log10(1+x), 1, DOMAINS.POSITIVE, DOMAINS.REAL, 'log')\n",
      "/home/mike/Документы/MIPT_sem6/my_science/2019-Project-27/code/base_experiment/genetic_algorithm/primitive.py:52: RuntimeWarning: overflow encountered in true_divide\n",
      "  return self.get_correct_value(self.func(*[node.calc(x, y) for node in self.nodes]))\n",
      "/home/mike/Документы/MIPT_sem6/my_science/2019-Project-27/code/base_experiment/genetic_algorithm/primitive.py:52: RuntimeWarning: invalid value encountered in true_divide\n",
      "  return self.get_correct_value(self.func(*[node.calc(x, y) for node in self.nodes]))\n",
      "/home/mike/Документы/MIPT_sem6/my_science/2019-Project-27/code/base_experiment/genetic_algorithm/primitive.py:171: RuntimeWarning: divide by zero encountered in log10\n",
      "  LOG = Primitive(lambda x: np.log10(1+x), 1, DOMAINS.POSITIVE, DOMAINS.REAL, 'log')\n"
     ]
    },
    {
     "name": "stdout",
     "output_type": "stream",
     "text": [
      "0.4983214637139154\n"
     ]
    }
   ],
   "source": [
    "general_model = genetic_algo_mse(sin_sample, sin_sample_real)"
   ]
  },
  {
   "cell_type": "code",
   "execution_count": 96,
   "metadata": {
    "scrolled": false
   },
   "outputs": [
    {
     "name": "stderr",
     "output_type": "stream",
     "text": [
      "/home/mike/Документы/MIPT_sem6/my_science/2019-Project-27/code/base_experiment/genetic_algorithm/primitive.py:84: RuntimeWarning: invalid value encountered in double_scalars\n",
      "  vars = np.array([fr.low * sc.low, fr.low * sc.high, fr.high * sc.low, fr.high * sc.high])\n",
      "/home/mike/Документы/MIPT_sem6/my_science/2019-Project-27/code/base_experiment/genetic_algorithm/primitive.py:76: RuntimeWarning: invalid value encountered in double_scalars\n",
      "  vars = np.array([fr.low * sc.low, fr.low * sc.high, fr.high * sc.low, fr.high * sc.high])\n",
      "/home/mike/Документы/MIPT_sem6/my_science/2019-Project-27/code/base_experiment/genetic_algorithm/primitive.py:52: RuntimeWarning: overflow encountered in exp\n",
      "  return self.get_correct_value(self.func(*[node.calc(x, y) for node in self.nodes]))\n",
      "/home/mike/Документы/MIPT_sem6/my_science/2019-Project-27/code/base_experiment/genetic_algorithm/primitive.py:52: RuntimeWarning: invalid value encountered in sqrt\n",
      "  return self.get_correct_value(self.func(*[node.calc(x, y) for node in self.nodes]))\n",
      "/home/mike/Документы/MIPT_sem6/my_science/2019-Project-27/code/base_experiment/genetic_algorithm/primitive.py:52: RuntimeWarning: divide by zero encountered in true_divide\n",
      "  return self.get_correct_value(self.func(*[node.calc(x, y) for node in self.nodes]))\n",
      "/home/mike/Документы/MIPT_sem6/my_science/2019-Project-27/code/base_experiment/genetic_algorithm/primitive.py:171: RuntimeWarning: invalid value encountered in log10\n",
      "  LOG = Primitive(lambda x: np.log10(1+x), 1, DOMAINS.POSITIVE, DOMAINS.REAL, 'log')\n"
     ]
    },
    {
     "name": "stdout",
     "output_type": "stream",
     "text": [
      "0.438921188057297\n"
     ]
    },
    {
     "name": "stderr",
     "output_type": "stream",
     "text": [
      "/home/mike/Документы/MIPT_sem6/my_science/2019-Project-27/code/base_experiment/genetic_algorithm/primitive.py:52: RuntimeWarning: invalid value encountered in true_divide\n",
      "  return self.get_correct_value(self.func(*[node.calc(x, y) for node in self.nodes]))\n"
     ]
    },
    {
     "name": "stdout",
     "output_type": "stream",
     "text": [
      "0.4798112168297868\n",
      "0.48171446410103197\n",
      "0.44952674615030824\n",
      "0.4678029068751508\n",
      "0.517228387777265\n",
      "0.4907214956577084\n",
      "0.45274689026643766\n"
     ]
    }
   ],
   "source": [
    "import create_population \n",
    "\n",
    "genetic_result_list = []\n",
    "model_list = []\n",
    "\n",
    "for (sample, real) in zip(samples, reals):\n",
    "    population = create_population.create_population(30, 5)\n",
    "    model_list.append(genetic_algo_mse(sample, real))"
   ]
  },
  {
   "cell_type": "code",
   "execution_count": 97,
   "metadata": {
    "collapsed": true
   },
   "outputs": [],
   "source": [
    "from scipy.optimize import minimize, fmin"
   ]
  },
  {
   "cell_type": "code",
   "execution_count": 121,
   "metadata": {
    "collapsed": true
   },
   "outputs": [],
   "source": [
    "def superposition_model(x, y, weights):\n",
    "    return sum([weights[i] * model_list[i].calc(x, y) for i in range(len(model_list))])\n",
    "\n",
    "def superposition_score(weights):\n",
    "    linear_superposition = lambda x, y: superposition_model(x, y, weights)\n",
    "    return mean_squared_error(np.vectorize(linear_superposition)(sin_sample[:, 0], sin_sample[:, 1]), sin_sample_real)\n",
    "\n",
    "def kek_fun(x):\n",
    "    return (x[0] - 10.0)**2 + np.abs(x[1])"
   ]
  },
  {
   "cell_type": "code",
   "execution_count": 131,
   "metadata": {},
   "outputs": [
    {
     "name": "stdout",
     "output_type": "stream",
     "text": [
      "[0. 0. 0. 0. 0. 0. 0. 0.]\n"
     ]
    },
    {
     "name": "stderr",
     "output_type": "stream",
     "text": [
      "/home/mike/Документы/MIPT_sem6/my_science/2019-Project-27/code/base_experiment/genetic_algorithm/primitive.py:52: RuntimeWarning: invalid value encountered in sqrt\n",
      "  return self.get_correct_value(self.func(*[node.calc(x, y) for node in self.nodes]))\n",
      "/home/mike/Документы/MIPT_sem6/my_science/2019-Project-27/code/base_experiment/genetic_algorithm/primitive.py:171: RuntimeWarning: invalid value encountered in log10\n",
      "  LOG = Primitive(lambda x: np.log10(1+x), 1, DOMAINS.POSITIVE, DOMAINS.REAL, 'log')\n"
     ]
    },
    {
     "name": "stdout",
     "output_type": "stream",
     "text": [
      "Optimization terminated successfully.\n",
      "         Current function value: 0.499013\n",
      "         Iterations: 53\n",
      "         Function evaluations: 99\n"
     ]
    }
   ],
   "source": [
    "x0 = np.zeros(len(model_list))\n",
    "print(x0)\n",
    "\n",
    "minimum = fmin(\n",
    "    superposition_score, \n",
    "    x0,\n",
    "    maxiter=100,\n",
    "    maxfun=1000\n",
    ")"
   ]
  },
  {
   "cell_type": "code",
   "execution_count": 133,
   "metadata": {},
   "outputs": [
    {
     "name": "stderr",
     "output_type": "stream",
     "text": [
      "/home/mike/Документы/MIPT_sem6/my_science/2019-Project-27/code/base_experiment/genetic_algorithm/primitive.py:52: RuntimeWarning: invalid value encountered in sqrt\n",
      "  return self.get_correct_value(self.func(*[node.calc(x, y) for node in self.nodes]))\n",
      "/home/mike/Документы/MIPT_sem6/my_science/2019-Project-27/code/base_experiment/genetic_algorithm/primitive.py:171: RuntimeWarning: invalid value encountered in log10\n",
      "  LOG = Primitive(lambda x: np.log10(1+x), 1, DOMAINS.POSITIVE, DOMAINS.REAL, 'log')\n"
     ]
    },
    {
     "name": "stdout",
     "output_type": "stream",
     "text": [
      "[-1.08100717e-05 -4.29574673e-07  1.02891336e-04 -5.22080906e-06\n",
      " -9.64660614e-07  8.91853698e-06  1.34967350e-04 -3.67513813e-07] 0.4990128120629202\n"
     ]
    }
   ],
   "source": [
    "print(minimum, superposition_score(minimum))"
   ]
  },
  {
   "cell_type": "code",
   "execution_count": null,
   "metadata": {
    "collapsed": true
   },
   "outputs": [],
   "source": []
  }
 ],
 "metadata": {
  "kernelspec": {
   "display_name": "Python 3",
   "language": "python",
   "name": "python3"
  },
  "language_info": {
   "codemirror_mode": {
    "name": "ipython",
    "version": 3
   },
   "file_extension": ".py",
   "mimetype": "text/x-python",
   "name": "python",
   "nbconvert_exporter": "python",
   "pygments_lexer": "ipython3",
   "version": "3.6.7"
  }
 },
 "nbformat": 4,
 "nbformat_minor": 2
}
