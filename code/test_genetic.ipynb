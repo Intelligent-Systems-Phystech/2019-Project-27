{
 "cells": [
  {
   "cell_type": "code",
   "execution_count": 1,
   "metadata": {
    "collapsed": true
   },
   "outputs": [],
   "source": [
    "import receive_data"
   ]
  },
  {
   "cell_type": "code",
   "execution_count": 2,
   "metadata": {},
   "outputs": [
    {
     "name": "stdout",
     "output_type": "stream",
     "text": [
      "Query :  301\n",
      "Query :  302\n",
      "Query :  303\n",
      "Query :  304\n",
      "Query :  305\n",
      "Query :  306\n",
      "Query :  307\n",
      "Query :  308\n",
      "Query :  309\n",
      "Query :  310\n",
      "Query :  311\n",
      "Query :  312\n",
      "Query :  313\n",
      "Query :  314\n",
      "Query :  315\n",
      "Query :  316\n",
      "Query :  317\n",
      "Query :  319\n",
      "Query :  320\n",
      "Query :  321\n",
      "Query :  322\n",
      "Query :  323\n",
      "Query :  324\n",
      "Query :  325\n",
      "Query :  326\n",
      "Query :  327\n",
      "Query :  328\n",
      "Query :  329\n",
      "Query :  330\n",
      "Query :  331\n",
      "Query :  332\n",
      "Query :  333\n",
      "Query :  334\n",
      "Query :  335\n",
      "Query :  336\n",
      "Query :  337\n",
      "Query :  338\n",
      "Query :  339\n",
      "Query :  340\n",
      "Query :  341\n",
      "Query :  342\n",
      "Query :  343\n",
      "Query :  344\n",
      "Query :  345\n",
      "Query :  346\n",
      "Query :  347\n",
      "Query :  348\n",
      "Query :  349\n",
      "Query :  350\n"
     ]
    }
   ],
   "source": [
    "doc_ranks, queries, query_characteristics = receive_data.loadData(6)"
   ]
  },
  {
   "cell_type": "code",
   "execution_count": 3,
   "metadata": {
    "collapsed": true
   },
   "outputs": [],
   "source": [
    "import numpy as np\n",
    "import matplotlib.pyplot as plt\n",
    "\n",
    "import sys\n",
    "import os\n",
    "CUR_DIR = os.path.dirname(os.path.abspath(\"./\")) + \"/\"\n",
    "\n",
    "sys.path.append(CUR_DIR + 'genetic_algorithm')\n",
    "from genetic_algorithm import create_population, learn_population"
   ]
  },
  {
   "cell_type": "code",
   "execution_count": 4,
   "metadata": {},
   "outputs": [
    {
     "name": "stdout",
     "output_type": "stream",
     "text": [
      "Sqrt(Sqrt(exp(tf)))\n",
      "[10.60094049107148]\n"
     ]
    }
   ],
   "source": [
    "learn_population.test(doc_ranks, queries, query_characteristics)"
   ]
  },
  {
   "cell_type": "code",
   "execution_count": 5,
   "metadata": {
    "collapsed": true
   },
   "outputs": [],
   "source": [
    "import primitive\n",
    "import numpy as np\n",
    "\n",
    "from get_quality import get_quality\n",
    "from copy import deepcopy\n",
    "from mutation import mutate_rand_tree\n",
    "from crossover import crossfit\n",
    "from create_population import create_random_model\n",
    "from primitive import Primitives"
   ]
  },
  {
   "cell_type": "code",
   "execution_count": 6,
   "metadata": {
    "collapsed": true
   },
   "outputs": [],
   "source": [
    "def vis(population, vals):\n",
    "    plt.figure(figsize=(10, 5))\n",
    "    plt.scatter(vals, [pop.get_tokens() for pop in population])\n",
    "    plt.show()\n",
    "    print (\"!\")"
   ]
  },
  {
   "cell_type": "code",
   "execution_count": 7,
   "metadata": {
    "collapsed": true
   },
   "outputs": [],
   "source": [
    "def rank_population(population, doc_ranks, queries, query_characteristics):   \n",
    "\n",
    "    qualities = []\n",
    "    for model in population:\n",
    "        quality = get_quality(model, doc_ranks, queries, query_characteristics)\n",
    "        qualities.append(quality)\n",
    "\n",
    "    return qualities"
   ]
  },
  {
   "cell_type": "code",
   "execution_count": 8,
   "metadata": {
    "scrolled": false
   },
   "outputs": [
    {
     "name": "stderr",
     "output_type": "stream",
     "text": [
      "/home/mike/Документы/MIPT_sem6/my_science/2019-Project-27/code/base_experiment/genetic_algorithm/primitive.py:66: RuntimeWarning: invalid value encountered in double_scalars\n",
      "  vars = np.array([fr.low * sc.low, fr.low * sc.high, fr.high * sc.low, fr.high * sc.high])\n",
      "/home/mike/Документы/MIPT_sem6/my_science/2019-Project-27/code/base_experiment/genetic_algorithm/primitive.py:74: RuntimeWarning: invalid value encountered in double_scalars\n",
      "  vars = np.array([fr.low * sc.low, fr.low * sc.high, fr.high * sc.low, fr.high * sc.high])\n",
      "  0%|          | 0/100 [00:00<?, ?it/s]"
     ]
    },
    {
     "name": "stdout",
     "output_type": "stream",
     "text": [
      "36\n"
     ]
    },
    {
     "name": "stderr",
     "output_type": "stream",
     "text": [
      "/home/mike/Документы/MIPT_sem6/my_science/2019-Project-27/code/base_experiment/genetic_algorithm/primitive.py:42: RuntimeWarning: overflow encountered in exp\n",
      "  return self.func(*[node.calc(x, y) for node in self.nodes])\n",
      "/home/mike/Документы/MIPT_sem6/my_science/2019-Project-27/code/base_experiment/genetic_algorithm/primitive.py:42: RuntimeWarning: invalid value encountered in sqrt\n",
      "  return self.func(*[node.calc(x, y) for node in self.nodes])\n"
     ]
    },
    {
     "data": {
      "image/png": "[encoded data removed]",
      "text/plain": [
       "<matplotlib.figure.Figure at 0x7fce3fa80278>"
      ]
     },
     "metadata": {},
     "output_type": "display_data"
    },
    {
     "name": "stderr",
     "output_type": "stream",
     "text": [
      "\r",
      "  1%|          | 1/100 [00:28<46:39, 28.28s/it]"
     ]
    },
    {
     "name": "stdout",
     "output_type": "stream",
     "text": [
      "!\n",
      "-13.669669994275225\n",
      "40\n"
     ]
    },
    {
     "data": {
      "image/png": "[encoded data removed]",
      "text/plain": [
       "<matplotlib.figure.Figure at 0x7fce3fb99860>"
      ]
     },
     "metadata": {},
     "output_type": "display_data"
    },
    {
     "name": "stderr",
     "output_type": "stream",
     "text": [
      "\r",
      "  2%|▏         | 2/100 [00:59<47:49, 29.28s/it]"
     ]
    },
    {
     "name": "stdout",
     "output_type": "stream",
     "text": [
      "!\n",
      "-13.704763918593645\n",
      "40\n"
     ]
    },
    {
     "name": "stderr",
     "output_type": "stream",
     "text": [
      "/home/mike/Документы/MIPT_sem6/my_science/2019-Project-27/code/base_experiment/genetic_algorithm/get_quality.py:17: RuntimeWarning: overflow encountered in double_scalars\n",
      "  result[pos] += values[i]\n"
     ]
    },
    {
     "data": {
      "image/png": "[encoded data removed]",
      "text/plain": [
       "<matplotlib.figure.Figure at 0x7fce3ef75710>"
      ]
     },
     "metadata": {},
     "output_type": "display_data"
    },
    {
     "name": "stderr",
     "output_type": "stream",
     "text": [
      "\r",
      "  3%|▎         | 3/100 [01:28<47:05, 29.13s/it]"
     ]
    },
    {
     "name": "stdout",
     "output_type": "stream",
     "text": [
      "!\n",
      "-13.911953081314012\n",
      "40\n"
     ]
    },
    {
     "name": "stderr",
     "output_type": "stream",
     "text": [
      "/home/mike/Документы/MIPT_sem6/my_science/2019-Project-27/code/base_experiment/genetic_algorithm/primitive.py:161: RuntimeWarning: invalid value encountered in log10\n",
      "  LOG = Primitive(lambda x: np.log10(1+x), 1, DOMAINS.POSITIVE, DOMAINS.REAL, 'log')\n",
      "/home/mike/Документы/MIPT_sem6/my_science/2019-Project-27/code/base_experiment/genetic_algorithm/primitive.py:42: RuntimeWarning: divide by zero encountered in true_divide\n",
      "  return self.func(*[node.calc(x, y) for node in self.nodes])\n"
     ]
    },
    {
     "data": {
      "image/png": "[encoded data removed]",
      "text/plain": [
       "<matplotlib.figure.Figure at 0x7fce3fc6e8d0>"
      ]
     },
     "metadata": {},
     "output_type": "display_data"
    },
    {
     "name": "stderr",
     "output_type": "stream",
     "text": [
      "\r",
      "  4%|▍         | 4/100 [01:58<46:58, 29.36s/it]"
     ]
    },
    {
     "name": "stdout",
     "output_type": "stream",
     "text": [
      "!\n",
      "-13.911953081314012\n",
      "40\n"
     ]
    },
    {
     "data": {
      "image/png": "[encoded data removed]",
      "text/plain": [
       "<matplotlib.figure.Figure at 0x7fce3fb7bba8>"
      ]
     },
     "metadata": {},
     "output_type": "display_data"
    },
    {
     "name": "stderr",
     "output_type": "stream",
     "text": [
      "\r",
      "  5%|▌         | 5/100 [02:27<46:28, 29.35s/it]"
     ]
    },
    {
     "name": "stdout",
     "output_type": "stream",
     "text": [
      "!\n",
      "-13.911953081314012\n",
      "40\n"
     ]
    },
    {
     "name": "stderr",
     "output_type": "stream",
     "text": [
      "/home/mike/Документы/MIPT_sem6/my_science/2019-Project-27/code/base_experiment/genetic_algorithm/primitive.py:42: RuntimeWarning: overflow encountered in multiply\n",
      "  return self.func(*[node.calc(x, y) for node in self.nodes])\n"
     ]
    },
    {
     "data": {
      "image/png": "[encoded data removed]",
      "text/plain": [
       "<matplotlib.figure.Figure at 0x7fce3ef5dc18>"
      ]
     },
     "metadata": {},
     "output_type": "display_data"
    },
    {
     "name": "stderr",
     "output_type": "stream",
     "text": [
      "\r",
      "  6%|▌         | 6/100 [02:58<46:28, 29.66s/it]"
     ]
    },
    {
     "name": "stdout",
     "output_type": "stream",
     "text": [
      "!\n",
      "-13.911953081314012\n",
      "40\n"
     ]
    },
    {
     "data": {
      "image/png": "[encoded data removed]",
      "text/plain": [
       "<matplotlib.figure.Figure at 0x7fce3f1eecc0>"
      ]
     },
     "metadata": {},
     "output_type": "display_data"
    },
    {
     "name": "stderr",
     "output_type": "stream",
     "text": [
      "\r",
      "  7%|▋         | 7/100 [03:29<46:44, 30.16s/it]"
     ]
    },
    {
     "name": "stdout",
     "output_type": "stream",
     "text": [
      "!\n",
      "-13.911953081314012\n",
      "40\n"
     ]
    },
    {
     "data": {
      "image/png": "[encoded data removed]",
      "text/plain": [
       "<matplotlib.figure.Figure at 0x7fce3f1eef98>"
      ]
     },
     "metadata": {},
     "output_type": "display_data"
    },
    {
     "name": "stderr",
     "output_type": "stream",
     "text": [
      "\r",
      "  8%|▊         | 8/100 [04:01<47:14, 30.81s/it]"
     ]
    },
    {
     "name": "stdout",
     "output_type": "stream",
     "text": [
      "!\n",
      "-13.911953081314012\n",
      "40\n"
     ]
    },
    {
     "data": {
      "image/png": "[encoded data removed]",
      "text/plain": [
       "<matplotlib.figure.Figure at 0x7fce3ef46240>"
      ]
     },
     "metadata": {},
     "output_type": "display_data"
    },
    {
     "name": "stderr",
     "output_type": "stream",
     "text": [
      "\r",
      "  9%|▉         | 9/100 [04:31<46:17, 30.52s/it]"
     ]
    },
    {
     "name": "stdout",
     "output_type": "stream",
     "text": [
      "!\n",
      "-13.911953081314012\n",
      "40\n"
     ]
    },
    {
     "data": {
      "image/png": "[encoded data removed]",
      "text/plain": [
       "<matplotlib.figure.Figure at 0x7fce3fa1ef28>"
      ]
     },
     "metadata": {},
     "output_type": "display_data"
    },
    {
     "name": "stderr",
     "output_type": "stream",
     "text": [
      "\r",
      " 10%|█         | 10/100 [05:01<45:24, 30.27s/it]"
     ]
    },
    {
     "name": "stdout",
     "output_type": "stream",
     "text": [
      "!\n",
      "-13.912052817456333\n",
      "40\n"
     ]
    },
    {
     "data": {
      "image/png": "[encoded data removed]",
      "text/plain": [
       "<matplotlib.figure.Figure at 0x7fce72c77390>"
      ]
     },
     "metadata": {},
     "output_type": "display_data"
    },
    {
     "name": "stderr",
     "output_type": "stream",
     "text": [
      "\r",
      " 11%|█         | 11/100 [05:34<46:05, 31.07s/it]"
     ]
    },
    {
     "name": "stdout",
     "output_type": "stream",
     "text": [
      "!\n",
      "-13.912052817456333\n",
      "40\n"
     ]
    },
    {
     "data": {
      "image/png": "[encoded data removed]",
      "text/plain": [
       "<matplotlib.figure.Figure at 0x7fce3fc5c320>"
      ]
     },
     "metadata": {},
     "output_type": "display_data"
    },
    {
     "name": "stderr",
     "output_type": "stream",
     "text": [
      "\r",
      " 12%|█▏        | 12/100 [06:07<46:16, 31.56s/it]"
     ]
    },
    {
     "name": "stdout",
     "output_type": "stream",
     "text": [
      "!\n",
      "-13.912052817456333\n",
      "40\n"
     ]
    },
    {
     "data": {
      "image/png": "[encoded data removed]",
      "text/plain": [
       "<matplotlib.figure.Figure at 0x7fce3fb7bc18>"
      ]
     },
     "metadata": {},
     "output_type": "display_data"
    },
    {
     "name": "stderr",
     "output_type": "stream",
     "text": [
      "\r",
      " 13%|█▎        | 13/100 [06:40<46:21, 31.97s/it]"
     ]
    },
    {
     "name": "stdout",
     "output_type": "stream",
     "text": [
      "!\n",
      "-13.912052817456333\n",
      "40\n"
     ]
    },
    {
     "data": {
      "image/png": "[encoded data removed]",
      "text/plain": [
       "<matplotlib.figure.Figure at 0x7fce3fb1ca90>"
      ]
     },
     "metadata": {},
     "output_type": "display_data"
    },
    {
     "name": "stderr",
     "output_type": "stream",
     "text": [
      "\r",
      " 14%|█▍        | 14/100 [07:13<46:20, 32.33s/it]"
     ]
    },
    {
     "name": "stdout",
     "output_type": "stream",
     "text": [
      "!\n",
      "-13.912052817456333\n",
      "40\n"
     ]
    },
    {
     "ename": "KeyboardInterrupt",
     "evalue": "",
     "output_type": "error",
     "traceback": [
      "\u001b[0;31m---------------------------------------------------------------------------\u001b[0m",
      "\u001b[0;31mKeyboardInterrupt\u001b[0m                         Traceback (most recent call last)",
      "\u001b[0;32m<ipython-input-8-bdb3f4b17ddf>\u001b[0m in \u001b[0;36m<module>\u001b[0;34m()\u001b[0m\n\u001b[1;32m     28\u001b[0m \u001b[0;34m\u001b[0m\u001b[0m\n\u001b[1;32m     29\u001b[0m     \u001b[0mpopulation\u001b[0m \u001b[0;34m=\u001b[0m \u001b[0mnp\u001b[0m\u001b[0;34m.\u001b[0m\u001b[0marray\u001b[0m\u001b[0;34m(\u001b[0m\u001b[0mlist\u001b[0m\u001b[0;34m(\u001b[0m\u001b[0mpopulation\u001b[0m\u001b[0;34m)\u001b[0m \u001b[0;34m+\u001b[0m \u001b[0mlist\u001b[0m\u001b[0;34m(\u001b[0m\u001b[0mnew_population\u001b[0m\u001b[0;34m)\u001b[0m\u001b[0;34m)\u001b[0m\u001b[0;34m\u001b[0m\u001b[0m\n\u001b[0;32m---> 30\u001b[0;31m     \u001b[0mvalues\u001b[0m \u001b[0;34m=\u001b[0m \u001b[0mrank_population\u001b[0m\u001b[0;34m(\u001b[0m\u001b[0mpopulation\u001b[0m\u001b[0;34m,\u001b[0m \u001b[0mdoc_ranks\u001b[0m\u001b[0;34m,\u001b[0m \u001b[0mqueries\u001b[0m\u001b[0;34m,\u001b[0m \u001b[0mquery_characteristics\u001b[0m\u001b[0;34m)\u001b[0m\u001b[0;34m\u001b[0m\u001b[0m\n\u001b[0m\u001b[1;32m     31\u001b[0m     \u001b[0mvalues\u001b[0m \u001b[0;34m=\u001b[0m \u001b[0mnp\u001b[0m\u001b[0;34m.\u001b[0m\u001b[0marray\u001b[0m\u001b[0;34m(\u001b[0m\u001b[0mvalues\u001b[0m\u001b[0;34m)\u001b[0m\u001b[0;34m\u001b[0m\u001b[0m\n\u001b[1;32m     32\u001b[0m \u001b[0;34m\u001b[0m\u001b[0m\n",
      "\u001b[0;32m<ipython-input-7-f6faa8552296>\u001b[0m in \u001b[0;36mrank_population\u001b[0;34m(population, doc_ranks, queries, query_characteristics)\u001b[0m\n\u001b[1;32m      3\u001b[0m     \u001b[0mqualities\u001b[0m \u001b[0;34m=\u001b[0m \u001b[0;34m[\u001b[0m\u001b[0;34m]\u001b[0m\u001b[0;34m\u001b[0m\u001b[0m\n\u001b[1;32m      4\u001b[0m     \u001b[0;32mfor\u001b[0m \u001b[0mmodel\u001b[0m \u001b[0;32min\u001b[0m \u001b[0mpopulation\u001b[0m\u001b[0;34m:\u001b[0m\u001b[0;34m\u001b[0m\u001b[0m\n\u001b[0;32m----> 5\u001b[0;31m         \u001b[0mquality\u001b[0m \u001b[0;34m=\u001b[0m \u001b[0mget_quality\u001b[0m\u001b[0;34m(\u001b[0m\u001b[0mmodel\u001b[0m\u001b[0;34m,\u001b[0m \u001b[0mdoc_ranks\u001b[0m\u001b[0;34m,\u001b[0m \u001b[0mqueries\u001b[0m\u001b[0;34m,\u001b[0m \u001b[0mquery_characteristics\u001b[0m\u001b[0;34m)\u001b[0m\u001b[0;34m\u001b[0m\u001b[0m\n\u001b[0m\u001b[1;32m      6\u001b[0m         \u001b[0mqualities\u001b[0m\u001b[0;34m.\u001b[0m\u001b[0mappend\u001b[0m\u001b[0;34m(\u001b[0m\u001b[0mquality\u001b[0m\u001b[0;34m)\u001b[0m\u001b[0;34m\u001b[0m\u001b[0m\n\u001b[1;32m      7\u001b[0m \u001b[0;34m\u001b[0m\u001b[0m\n",
      "\u001b[0;32m~/Документы/MIPT_sem6/my_science/2019-Project-27/code/base_experiment/genetic_algorithm/get_quality.py\u001b[0m in \u001b[0;36mget_quality\u001b[0;34m(model, doc_ranks, queries, query_characteristics)\u001b[0m\n\u001b[1;32m     44\u001b[0m     \u001b[0;32mfor\u001b[0m \u001b[0mi\u001b[0m\u001b[0;34m,\u001b[0m \u001b[0mquery_id\u001b[0m \u001b[0;32min\u001b[0m \u001b[0menumerate\u001b[0m\u001b[0;34m(\u001b[0m\u001b[0mqueries\u001b[0m\u001b[0;34m[\u001b[0m\u001b[0;34m'Id'\u001b[0m\u001b[0;34m]\u001b[0m\u001b[0;34m.\u001b[0m\u001b[0mvalues\u001b[0m\u001b[0;34m)\u001b[0m\u001b[0;34m:\u001b[0m\u001b[0;34m\u001b[0m\u001b[0m\n\u001b[1;32m     45\u001b[0m         \u001b[0mdoc_related\u001b[0m \u001b[0;34m=\u001b[0m \u001b[0mevaluate_model\u001b[0m\u001b[0;34m(\u001b[0m\u001b[0mmodel\u001b[0m\u001b[0;34m,\u001b[0m \u001b[0mquery_characteristics\u001b[0m\u001b[0;34m[\u001b[0m\u001b[0mi\u001b[0m\u001b[0;34m]\u001b[0m\u001b[0;34m)\u001b[0m\u001b[0;34m\u001b[0m\u001b[0m\n\u001b[0;32m---> 46\u001b[0;31m         \u001b[0mquality\u001b[0m \u001b[0;34m=\u001b[0m \u001b[0mevaluate_quality\u001b[0m\u001b[0;34m(\u001b[0m\u001b[0mquery_id\u001b[0m\u001b[0;34m,\u001b[0m \u001b[0mdoc_related\u001b[0m\u001b[0;34m,\u001b[0m \u001b[0mdoc_ranks\u001b[0m\u001b[0;34m[\u001b[0m\u001b[0mi\u001b[0m\u001b[0;34m]\u001b[0m\u001b[0;34m)\u001b[0m\u001b[0;34m\u001b[0m\u001b[0m\n\u001b[0m\u001b[1;32m     47\u001b[0m         \u001b[0mvec_quality\u001b[0m\u001b[0;34m.\u001b[0m\u001b[0mappend\u001b[0m\u001b[0;34m(\u001b[0m\u001b[0mquality\u001b[0m\u001b[0;34m)\u001b[0m\u001b[0;34m\u001b[0m\u001b[0m\n\u001b[1;32m     48\u001b[0m \u001b[0;34m\u001b[0m\u001b[0m\n",
      "\u001b[0;32m~/Документы/MIPT_sem6/my_science/2019-Project-27/code/base_experiment/genetic_algorithm/get_quality.py\u001b[0m in \u001b[0;36mevaluate_quality\u001b[0;34m(query_id, doc_related, doc_ranks)\u001b[0m\n\u001b[1;32m     26\u001b[0m     \u001b[0mdoc_related\u001b[0m \u001b[0;34m=\u001b[0m \u001b[0mdoc_related\u001b[0m\u001b[0;34m[\u001b[0m\u001b[0;34m:\u001b[0m\u001b[0;34m,\u001b[0m \u001b[0msort_indexes\u001b[0m\u001b[0;34m]\u001b[0m\u001b[0;34m\u001b[0m\u001b[0m\n\u001b[1;32m     27\u001b[0m \u001b[0;34m\u001b[0m\u001b[0m\n\u001b[0;32m---> 28\u001b[0;31m     \u001b[0mindsWhichAppear\u001b[0m\u001b[0;34m,\u001b[0m \u001b[0m_\u001b[0m \u001b[0;34m=\u001b[0m \u001b[0misMember\u001b[0m\u001b[0;34m(\u001b[0m\u001b[0mdoc_related\u001b[0m\u001b[0;34m[\u001b[0m\u001b[0;36m0\u001b[0m\u001b[0;34m]\u001b[0m\u001b[0;34m,\u001b[0m \u001b[0mvecDocIdEv\u001b[0m\u001b[0;34m)\u001b[0m\u001b[0;34m\u001b[0m\u001b[0m\n\u001b[0m\u001b[1;32m     29\u001b[0m     \u001b[0mdoc_related\u001b[0m \u001b[0;34m=\u001b[0m \u001b[0mnp\u001b[0m\u001b[0;34m.\u001b[0m\u001b[0mvstack\u001b[0m\u001b[0;34m(\u001b[0m\u001b[0;34m(\u001b[0m\u001b[0mdoc_related\u001b[0m\u001b[0;34m,\u001b[0m \u001b[0mindsWhichAppear\u001b[0m\u001b[0;34m)\u001b[0m\u001b[0;34m)\u001b[0m\u001b[0;34m\u001b[0m\u001b[0m\n\u001b[1;32m     30\u001b[0m \u001b[0;34m\u001b[0m\u001b[0m\n",
      "\u001b[0;32m~/Документы/MIPT_sem6/my_science/2019-Project-27/code/base_experiment/genetic_algorithm/get_quality.py\u001b[0m in \u001b[0;36misMember\u001b[0;34m(arr, to_remain)\u001b[0m\n\u001b[1;32m      4\u001b[0m     \u001b[0mresult\u001b[0m\u001b[0;34m,\u001b[0m \u001b[0mindexes\u001b[0m \u001b[0;34m=\u001b[0m \u001b[0;34m[\u001b[0m\u001b[0;34m]\u001b[0m\u001b[0;34m,\u001b[0m \u001b[0;34m[\u001b[0m\u001b[0;34m]\u001b[0m\u001b[0;34m\u001b[0m\u001b[0m\n\u001b[1;32m      5\u001b[0m     \u001b[0;32mfor\u001b[0m \u001b[0mi\u001b[0m\u001b[0;34m,\u001b[0m \u001b[0melem\u001b[0m \u001b[0;32min\u001b[0m \u001b[0menumerate\u001b[0m\u001b[0;34m(\u001b[0m\u001b[0marr\u001b[0m\u001b[0;34m)\u001b[0m\u001b[0;34m:\u001b[0m\u001b[0;34m\u001b[0m\u001b[0m\n\u001b[0;32m----> 6\u001b[0;31m         \u001b[0mresult\u001b[0m\u001b[0;34m.\u001b[0m\u001b[0mappend\u001b[0m\u001b[0;34m(\u001b[0m\u001b[0melem\u001b[0m \u001b[0;32min\u001b[0m \u001b[0mto_remain\u001b[0m\u001b[0;34m)\u001b[0m\u001b[0;34m\u001b[0m\u001b[0m\n\u001b[0m\u001b[1;32m      7\u001b[0m         \u001b[0;32mif\u001b[0m \u001b[0mresult\u001b[0m\u001b[0;34m[\u001b[0m\u001b[0;34m-\u001b[0m\u001b[0;36m1\u001b[0m\u001b[0;34m]\u001b[0m\u001b[0;34m:\u001b[0m\u001b[0;34m\u001b[0m\u001b[0m\n\u001b[1;32m      8\u001b[0m             \u001b[0mindexes\u001b[0m\u001b[0;34m.\u001b[0m\u001b[0mappend\u001b[0m\u001b[0;34m(\u001b[0m\u001b[0mnp\u001b[0m\u001b[0;34m.\u001b[0m\u001b[0mwhere\u001b[0m\u001b[0;34m(\u001b[0m\u001b[0mto_remain\u001b[0m \u001b[0;34m==\u001b[0m \u001b[0melem\u001b[0m\u001b[0;34m)\u001b[0m\u001b[0;34m[\u001b[0m\u001b[0;36m0\u001b[0m\u001b[0;34m]\u001b[0m\u001b[0;34m[\u001b[0m\u001b[0;36m0\u001b[0m\u001b[0;34m]\u001b[0m\u001b[0;34m)\u001b[0m\u001b[0;34m\u001b[0m\u001b[0m\n",
      "\u001b[0;31mKeyboardInterrupt\u001b[0m: "
     ]
    }
   ],
   "source": [
    "from tqdm import tqdm\n",
    "\n",
    "reit_ = 1e9\n",
    "last_reit = 1e9\n",
    "SIMILARITY = 1e-5\n",
    "size = 40\n",
    "\n",
    "population = create_population.create_population(size, 5)\n",
    "\n",
    "for iteration in tqdm(range(100)):\n",
    "    new_population = []\n",
    "\n",
    "    sz = len(population)\n",
    "    print (sz)\n",
    "\n",
    "    new_population.append(population[0])\n",
    "\n",
    "    for i in range(sz // 30):\n",
    "        new_population.append(mutate_rand_tree(population[0]))\n",
    "        new_population.append(mutate_rand_tree(population[1]))\n",
    "        new_population.append(mutate_rand_tree(population[2]))\n",
    "    for i in range(sz // 10):\n",
    "        new_population.append(create_random_model(4))\n",
    "    for i in range(sz):\n",
    "        t1 = population[np.random.randint(0, sz / 2)]\n",
    "        t2 = population[np.random.randint(0, sz / 2)]\n",
    "        new_population.append(mutate_rand_tree(crossfit(t1, t2)))\n",
    "\n",
    "    population = np.array(list(population) + list(new_population))\n",
    "    values = rank_population(population, doc_ranks, queries, query_characteristics)\n",
    "    values = np.array(values)\n",
    "\n",
    "    indexes = np.arange(len(population))\n",
    "    indexes = sorted(indexes, key=lambda i: -values[i])\n",
    "\n",
    "    population = (population[indexes])[:size]\n",
    "    values = (values[indexes])[:size]\n",
    "\n",
    "    vis(population, values)\n",
    "\n",
    "    print(-values[0])"
   ]
  },
  {
   "cell_type": "code",
   "execution_count": 12,
   "metadata": {
    "scrolled": false
   },
   "outputs": [
    {
     "name": "stdout",
     "output_type": "stream",
     "text": [
      "0 13.7146015971845 log(log(add(idf, tf)))\n",
      "\n",
      "\n",
      "\n",
      "1 13.707644193790115 idf\n",
      "\n",
      "\n",
      "\n",
      "2 13.705856978286954 log(Sqrt(tf))\n",
      "\n",
      "\n",
      "\n",
      "3 13.705717691856453 idf\n",
      "\n",
      "\n",
      "\n",
      "4 13.687767561425476 Sqrt(idf)\n",
      "\n",
      "\n",
      "\n",
      "5 13.687767561425476 multiply(substract(substract(log(tf), idf), add(tf, tf)), idf)\n",
      "\n",
      "\n",
      "\n",
      "6 13.676574721209056 add(exp(add(log(idf), idf)), Sqrt(tf))\n",
      "\n",
      "\n",
      "\n",
      "7 13.676574721209056 idf\n",
      "\n",
      "\n",
      "\n",
      "8 13.653873949435443 Sqrt(tf)\n",
      "\n",
      "\n",
      "\n",
      "9 13.613928837632665 log(Sqrt(idf))\n",
      "\n",
      "\n",
      "\n",
      "10 13.594946851739461 Sqrt(multiply(divide(idf, idf), Sqrt(multiply(tf, tf))))\n",
      "\n",
      "\n",
      "\n",
      "11 13.421742159556738 multiply(multiply(exp(idf), tf), tf)\n",
      "\n",
      "\n",
      "\n",
      "12 13.397777657703243 exp(substract(tf, log(exp(idf))))\n",
      "\n",
      "\n",
      "\n",
      "13 13.373736382445232 tf\n",
      "\n",
      "\n",
      "\n",
      "14 13.363294125177099 divide(Sqrt(idf), log(divide(Sqrt(idf), tf)))\n",
      "\n",
      "\n",
      "\n",
      "15 13.363294125177099 idf\n",
      "\n",
      "\n",
      "\n",
      "16 13.236987983724829 divide(substract(tf, idf), divide(idf, idf))\n",
      "\n",
      "\n",
      "\n",
      "17 13.236363275912975 multiply(exp(add(log(idf), tf)), substract(substract(idf, tf), Sqrt(idf)))\n",
      "\n",
      "\n",
      "\n",
      "18 13.236363275912975 log(add(exp(tf), add(multiply(tf, tf), idf)))\n",
      "\n",
      "\n",
      "\n",
      "19 13.182704272927708 idf\n",
      "\n",
      "\n",
      "\n",
      "20 13.085137926114509 divide(substract(idf, idf), log(divide(divide(idf, tf), idf)))\n",
      "\n",
      "\n",
      "\n",
      "21 13.013165453971292 tf\n",
      "\n",
      "\n",
      "\n",
      "22 12.82162101979148 Sqrt(tf)\n",
      "\n",
      "\n",
      "\n",
      "23 12.663330402289244 tf\n",
      "\n",
      "\n",
      "\n",
      "24 12.311757341536989 substract(substract(tf, tf), substract(substract(tf, substract(tf, idf)), add(idf, exp(idf))))\n",
      "\n",
      "\n",
      "\n",
      "25 11.83501633261391 exp(Sqrt(multiply(exp(tf), idf)))\n",
      "\n",
      "\n",
      "\n",
      "26 11.72883586826222 Sqrt(Sqrt(add(idf, idf)))\n",
      "\n",
      "\n",
      "\n",
      "27 11.72667410175406 Sqrt(log(Sqrt(idf)))\n",
      "\n",
      "\n",
      "\n",
      "28 11.726029310190695 exp(log(exp(idf)))\n",
      "\n",
      "\n",
      "\n",
      "29 11.280772360287422 multiply(substract(log(idf), log(tf)), Sqrt(exp(idf)))\n",
      "\n",
      "\n",
      "\n",
      "30 11.279654220976083 tf\n",
      "\n",
      "\n",
      "\n",
      "31 11.279430307144155 substract(divide(Sqrt(idf), add(tf, tf)), tf)\n",
      "\n",
      "\n",
      "\n",
      "32 11.279430307144155 multiply(log(exp(log(tf))), log(Sqrt(tf)))\n",
      "\n",
      "\n",
      "\n",
      "33 11.279430307144155 log(tf)\n",
      "\n",
      "\n",
      "\n",
      "34 11.279430307144155 log(idf)\n",
      "\n",
      "\n",
      "\n",
      "35 11.279430307144155 log(log(add(idf, tf)))\n",
      "\n",
      "\n",
      "\n",
      "36 11.279430307144155 log(log(add(add(Sqrt(substract(idf, idf)), log(log(tf))), tf)))\n",
      "\n",
      "\n",
      "\n",
      "37 11.279430307144155 idf\n",
      "\n",
      "\n",
      "\n",
      "38 11.279430307144155 log(divide(tf, tf))\n",
      "\n",
      "\n",
      "\n",
      "39 11.279416198978788 add(multiply(multiply(tf, tf), tf), add(log(tf), multiply(exp(tf), multiply(tf, idf))))\n",
      "\n",
      "\n",
      "\n"
     ]
    }
   ],
   "source": [
    "for i, (val, pop) in enumerate(zip(values, population)):\n",
    "    print (i, val, pop, end=\"\\n\" * 4)"
   ]
  },
  {
   "cell_type": "code",
   "execution_count": 13,
   "metadata": {},
   "outputs": [
    {
     "name": "stdout",
     "output_type": "stream",
     "text": [
      " exp\n",
      " | log\n",
      " | | exp\n",
      " | | | idf\n"
     ]
    }
   ],
   "source": [
    "population[28].print_as_tree()"
   ]
  },
  {
   "cell_type": "markdown",
   "metadata": {},
   "source": [
    "13.9103081593 log(divide(substract(substract(divide(log(add(substract(idf, idf), tf)), idf), exp(tf)), exp(tf)), exp(idf)))\n",
    "\n",
    "\n",
    "$$ \\text{log}(\\frac{log(tf)}{idf} - 2 * exp(tf)) - idf$$"
   ]
  },
  {
   "cell_type": "code",
   "execution_count": null,
   "metadata": {
    "collapsed": true
   },
   "outputs": [],
   "source": []
  },
  {
   "cell_type": "code",
   "execution_count": 14,
   "metadata": {
    "scrolled": false
   },
   "outputs": [
    {
     "ename": "ValueError",
     "evalue": "operands could not be broadcast together with shapes (77,) (91,) ",
     "output_type": "error",
     "traceback": [
      "\u001b[0;31m---------------------------------------------------------------------------\u001b[0m",
      "\u001b[0;31mValueError\u001b[0m                                Traceback (most recent call last)",
      "\u001b[0;32m<ipython-input-14-9e31167b8006>\u001b[0m in \u001b[0;36m<module>\u001b[0;34m()\u001b[0m\n\u001b[0;32m----> 1\u001b[0;31m \u001b[0mlearn_population\u001b[0m\u001b[0;34m.\u001b[0m\u001b[0mlearn_population\u001b[0m\u001b[0;34m(\u001b[0m\u001b[0mpopulation\u001b[0m\u001b[0;34m,\u001b[0m \u001b[0mdoc_ranks\u001b[0m\u001b[0;34m,\u001b[0m \u001b[0mqueries\u001b[0m\u001b[0;34m,\u001b[0m \u001b[0mquery_characteristics\u001b[0m\u001b[0;34m,\u001b[0m \u001b[0mvis\u001b[0m\u001b[0;34m)\u001b[0m\u001b[0;34m\u001b[0m\u001b[0m\n\u001b[0m",
      "\u001b[0;32m~/Документы/MIPT_sem6/my_science/2019-Project-27/code/base_experiment/genetic_algorithm/learn_population.py\u001b[0m in \u001b[0;36mlearn_population\u001b[0;34m(population, doc_ranks, queries, query_characteristics, visualize, iterations)\u001b[0m\n\u001b[1;32m    103\u001b[0m             \u001b[0mnew_population\u001b[0m\u001b[0;34m.\u001b[0m\u001b[0mappend\u001b[0m\u001b[0;34m(\u001b[0m\u001b[0mmutate_rand_tree\u001b[0m\u001b[0;34m(\u001b[0m\u001b[0mcrossfit\u001b[0m\u001b[0;34m(\u001b[0m\u001b[0mt1\u001b[0m\u001b[0;34m,\u001b[0m \u001b[0mt2\u001b[0m\u001b[0;34m)\u001b[0m\u001b[0;34m)\u001b[0m\u001b[0;34m)\u001b[0m\u001b[0;34m\u001b[0m\u001b[0m\n\u001b[1;32m    104\u001b[0m \u001b[0;34m\u001b[0m\u001b[0m\n\u001b[0;32m--> 105\u001b[0;31m         \u001b[0mpopulation\u001b[0m \u001b[0;34m=\u001b[0m \u001b[0mnp\u001b[0m\u001b[0;34m.\u001b[0m\u001b[0marray\u001b[0m\u001b[0;34m(\u001b[0m\u001b[0mpopulation\u001b[0m \u001b[0;34m+\u001b[0m \u001b[0mnew_population\u001b[0m\u001b[0;34m)\u001b[0m\u001b[0;34m\u001b[0m\u001b[0m\n\u001b[0m\u001b[1;32m    106\u001b[0m         \u001b[0mvalues\u001b[0m \u001b[0;34m=\u001b[0m \u001b[0mrank_population\u001b[0m\u001b[0;34m(\u001b[0m\u001b[0mpopulation\u001b[0m\u001b[0;34m,\u001b[0m \u001b[0mdoc_ranks\u001b[0m\u001b[0;34m,\u001b[0m \u001b[0mqueries\u001b[0m\u001b[0;34m,\u001b[0m \u001b[0mquery_characteristics\u001b[0m\u001b[0;34m)\u001b[0m\u001b[0;34m\u001b[0m\u001b[0m\n\u001b[1;32m    107\u001b[0m         \u001b[0mvalues\u001b[0m \u001b[0;34m=\u001b[0m \u001b[0mnp\u001b[0m\u001b[0;34m.\u001b[0m\u001b[0marray\u001b[0m\u001b[0;34m(\u001b[0m\u001b[0mvalues\u001b[0m\u001b[0;34m)\u001b[0m\u001b[0;34m\u001b[0m\u001b[0m\n",
      "\u001b[0;31mValueError\u001b[0m: operands could not be broadcast together with shapes (77,) (91,) "
     ]
    }
   ],
   "source": [
    "learn_population.learn_population(population, doc_ranks, queries, query_characteristics, vis)"
   ]
  },
  {
   "cell_type": "code",
   "execution_count": null,
   "metadata": {
    "collapsed": true
   },
   "outputs": [],
   "source": []
  }
 ],
 "metadata": {
  "kernelspec": {
   "display_name": "Python 3",
   "language": "python",
   "name": "python3"
  },
  "language_info": {
   "codemirror_mode": {
    "name": "ipython",
    "version": 3
   },
   "file_extension": ".py",
   "mimetype": "text/x-python",
   "name": "python",
   "nbconvert_exporter": "python",
   "pygments_lexer": "ipython3",
   "version": "3.6.3"
  }
 },
 "nbformat": 4,
 "nbformat_minor": 2
}
