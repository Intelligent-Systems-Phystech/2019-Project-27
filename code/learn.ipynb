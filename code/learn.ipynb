{
 "cells": [
  {
   "cell_type": "code",
   "execution_count": 1,
   "metadata": {},
   "outputs": [],
   "source": [
    "trec_to_learn = 7\n",
    "random_seed = 42"
   ]
  },
  {
   "cell_type": "code",
   "execution_count": 2,
   "metadata": {},
   "outputs": [],
   "source": [
    "import receive_data"
   ]
  },
  {
   "cell_type": "code",
   "execution_count": 3,
   "metadata": {},
   "outputs": [
    {
     "name": "stdout",
     "output_type": "stream",
     "text": [
      "Query :  351\n",
      "Query :  352\n",
      "Query :  353\n",
      "Query :  354\n",
      "Query :  355\n",
      "Query :  356\n",
      "Query :  357\n",
      "Query :  358\n",
      "Query :  359\n",
      "Query :  360\n",
      "Query :  361\n",
      "Query :  362\n",
      "Query :  363\n",
      "Query :  364\n",
      "Query :  365\n",
      "Query :  366\n",
      "Query :  367\n",
      "Query :  368\n",
      "Query :  369\n",
      "Query :  370\n",
      "Query :  371\n",
      "Query :  372\n",
      "Query :  373\n",
      "Query :  374\n",
      "Query :  375\n",
      "Query :  376\n",
      "Query :  377\n",
      "Query :  378\n",
      "Query :  379\n",
      "Query :  380\n",
      "Query :  381\n",
      "Query :  382\n",
      "Query :  383\n",
      "Query :  384\n",
      "Query :  385\n",
      "Query :  386\n",
      "Query :  387\n",
      "Query :  388\n",
      "Query :  389\n",
      "Query :  390\n",
      "Query :  391\n",
      "Query :  392\n",
      "Query :  393\n",
      "Query :  394\n",
      "Query :  395\n",
      "Query :  396\n",
      "Query :  397\n",
      "Query :  398\n",
      "Query :  399\n",
      "Query :  400\n"
     ]
    }
   ],
   "source": [
    "doc_ranks, queries, query_characteristics = receive_data.loadData(trec_to_learn)"
   ]
  },
  {
   "cell_type": "code",
   "execution_count": 4,
   "metadata": {},
   "outputs": [],
   "source": [
    "import numpy as np\n",
    "import matplotlib.pyplot as plt\n",
    "\n",
    "import sys\n",
    "import os\n",
    "CUR_DIR = os.path.dirname(os.path.abspath(\"./\")) + \"/\"\n",
    "\n",
    "sys.path.append(CUR_DIR + 'genetic_algorithm')\n",
    "import create_population\n",
    "import learn_population"
   ]
  },
  {
   "cell_type": "code",
   "execution_count": 5,
   "metadata": {},
   "outputs": [],
   "source": [
    "import primitive\n",
    "import numpy as np\n",
    "\n",
    "from get_quality import get_quality\n",
    "from copy import deepcopy\n",
    "from mutation import mutate_rand_tree\n",
    "from crossover import crossfit\n",
    "from create_population import create_random_model\n",
    "from primitive import Primitives"
   ]
  },
  {
   "cell_type": "code",
   "execution_count": null,
   "metadata": {
    "scrolled": false
   },
   "outputs": [],
   "source": []
  },
  {
   "cell_type": "code",
   "execution_count": 6,
   "metadata": {},
   "outputs": [],
   "source": [
    "def vis(population, vals):\n",
    "    plt.figure(figsize=(10, 5))\n",
    "    plt.scatter(vals, [pop.get_tokens() for pop in population])\n",
    "    plt.show()\n",
    "    print (\"!\")"
   ]
  },
  {
   "cell_type": "code",
   "execution_count": 7,
   "metadata": {},
   "outputs": [],
   "source": [
    "def rank_population(population, doc_ranks, queries, query_characteristics):   \n",
    "\n",
    "    qualities = []\n",
    "    for model in population:\n",
    "        quality = get_quality(model, doc_ranks, queries, query_characteristics)\n",
    "        qualities.append(quality)\n",
    "\n",
    "    return qualities"
   ]
  },
  {
   "cell_type": "code",
   "execution_count": 8,
   "metadata": {},
   "outputs": [],
   "source": [
    "from tqdm import tqdm_notebook as tqdm"
   ]
  },
  {
   "cell_type": "code",
   "execution_count": 9,
   "metadata": {
    "scrolled": false
   },
   "outputs": [
    {
     "name": "stderr",
     "output_type": "stream",
     "text": [
      "/home/mike/Документы/MIPT_sem6/my_science/2019-Project-27/code/genetic_algorithm/primitive.py:83: RuntimeWarning: invalid value encountered in double_scalars\n",
      "  vars = np.array([fr.low * sc.low, fr.low * sc.high, fr.high * sc.low, fr.high * sc.high])\n",
      "/home/mike/Документы/MIPT_sem6/my_science/2019-Project-27/code/genetic_algorithm/primitive.py:91: RuntimeWarning: invalid value encountered in double_scalars\n",
      "  vars = np.array([fr.low * sc.low, fr.low * sc.high, fr.high * sc.low, fr.high * sc.high])\n"
     ]
    },
    {
     "data": {
      "application/vnd.jupyter.widget-view+json": {
       "model_id": "3810cb068d904f62b52525be9639642c",
       "version_major": 2,
       "version_minor": 0
      },
      "text/plain": [
       "HBox(children=(IntProgress(value=0), HTML(value='')))"
      ]
     },
     "metadata": {},
     "output_type": "display_data"
    },
    {
     "name": "stdout",
     "output_type": "stream",
     "text": [
      "39\n"
     ]
    },
    {
     "name": "stderr",
     "output_type": "stream",
     "text": [
      "/home/mike/Документы/MIPT_sem6/my_science/2019-Project-27/code/genetic_algorithm/primitive.py:59: RuntimeWarning: overflow encountered in exp\n",
      "  return self.get_correct_value(self.func(*[node.calc(x, y) for node in self.nodes]))\n",
      "/home/mike/Документы/MIPT_sem6/my_science/2019-Project-27/code/genetic_algorithm/primitive.py:178: RuntimeWarning: invalid value encountered in log10\n",
      "  LOG = Primitive(lambda x: np.log10(1+x), 1, DOMAINS.POSITIVE, DOMAINS.REAL, 'log')\n",
      "/home/mike/Документы/MIPT_sem6/my_science/2019-Project-27/code/genetic_algorithm/primitive.py:42: RuntimeWarning: invalid value encountered in greater\n",
      "  value[value > self.inf] = self.inf\n",
      "/home/mike/Документы/MIPT_sem6/my_science/2019-Project-27/code/genetic_algorithm/primitive.py:43: RuntimeWarning: invalid value encountered in less\n",
      "  value[value < -self.inf] = -self.inf\n",
      "/home/mike/Документы/MIPT_sem6/my_science/2019-Project-27/code/genetic_algorithm/primitive.py:59: RuntimeWarning: invalid value encountered in sqrt\n",
      "  return self.get_correct_value(self.func(*[node.calc(x, y) for node in self.nodes]))\n"
     ]
    },
    {
     "data": {
      "image/png": "[encoded data removed]",
      "text/plain": [
       "<Figure size 720x360 with 1 Axes>"
      ]
     },
     "metadata": {},
     "output_type": "display_data"
    },
    {
     "name": "stdout",
     "output_type": "stream",
     "text": [
      "!\n",
      "-0.19401951510881202\n",
      "40\n"
     ]
    },
    {
     "name": "stderr",
     "output_type": "stream",
     "text": [
      "/home/mike/Документы/MIPT_sem6/my_science/2019-Project-27/code/genetic_algorithm/primitive.py:59: RuntimeWarning: divide by zero encountered in true_divide\n",
      "  return self.get_correct_value(self.func(*[node.calc(x, y) for node in self.nodes]))\n"
     ]
    },
    {
     "data": {
      "image/png": "[encoded data removed]",
      "text/plain": [
       "<Figure size 720x360 with 1 Axes>"
      ]
     },
     "metadata": {},
     "output_type": "display_data"
    },
    {
     "name": "stdout",
     "output_type": "stream",
     "text": [
      "!\n",
      "-0.212698828415589\n",
      "40\n"
     ]
    },
    {
     "data": {
      "image/png": "[encoded data removed]",
      "text/plain": [
       "<Figure size 720x360 with 1 Axes>"
      ]
     },
     "metadata": {},
     "output_type": "display_data"
    },
    {
     "name": "stdout",
     "output_type": "stream",
     "text": [
      "!\n",
      "-0.212698828415589\n",
      "40\n"
     ]
    },
    {
     "data": {
      "image/png": "[encoded data removed]",
      "text/plain": [
       "<Figure size 720x360 with 1 Axes>"
      ]
     },
     "metadata": {},
     "output_type": "display_data"
    },
    {
     "name": "stdout",
     "output_type": "stream",
     "text": [
      "!\n",
      "-0.212698828415589\n",
      "40\n"
     ]
    },
    {
     "data": {
      "image/png": "[encoded data removed]",
      "text/plain": [
       "<Figure size 720x360 with 1 Axes>"
      ]
     },
     "metadata": {},
     "output_type": "display_data"
    },
    {
     "name": "stdout",
     "output_type": "stream",
     "text": [
      "!\n",
      "-0.21406002163631543\n",
      "40\n"
     ]
    },
    {
     "data": {
      "image/png": "[encoded data removed]",
      "text/plain": [
       "<Figure size 720x360 with 1 Axes>"
      ]
     },
     "metadata": {},
     "output_type": "display_data"
    },
    {
     "name": "stdout",
     "output_type": "stream",
     "text": [
      "!\n",
      "-0.21406002163631543\n",
      "40\n"
     ]
    },
    {
     "data": {
      "image/png": "[encoded data removed]",
      "text/plain": [
       "<Figure size 720x360 with 1 Axes>"
      ]
     },
     "metadata": {},
     "output_type": "display_data"
    },
    {
     "name": "stdout",
     "output_type": "stream",
     "text": [
      "!\n",
      "-0.21406002163631543\n",
      "40\n"
     ]
    },
    {
     "data": {
      "image/png": "[encoded data removed]",
      "text/plain": [
       "<Figure size 720x360 with 1 Axes>"
      ]
     },
     "metadata": {},
     "output_type": "display_data"
    },
    {
     "name": "stdout",
     "output_type": "stream",
     "text": [
      "!\n",
      "-0.21406002163631543\n",
      "40\n"
     ]
    },
    {
     "data": {
      "image/png": "[encoded data removed]",
      "text/plain": [
       "<Figure size 720x360 with 1 Axes>"
      ]
     },
     "metadata": {},
     "output_type": "display_data"
    },
    {
     "name": "stdout",
     "output_type": "stream",
     "text": [
      "!\n",
      "-0.2180403997752233\n",
      "40\n"
     ]
    },
    {
     "data": {
      "image/png": "[encoded data removed]",
      "text/plain": [
       "<Figure size 720x360 with 1 Axes>"
      ]
     },
     "metadata": {},
     "output_type": "display_data"
    },
    {
     "name": "stdout",
     "output_type": "stream",
     "text": [
      "!\n",
      "-0.2180403997752233\n",
      "40\n"
     ]
    },
    {
     "data": {
      "image/png": "[encoded data removed]",
      "text/plain": [
       "<Figure size 720x360 with 1 Axes>"
      ]
     },
     "metadata": {},
     "output_type": "display_data"
    },
    {
     "name": "stdout",
     "output_type": "stream",
     "text": [
      "!\n",
      "-0.2180403997752233\n",
      "40\n"
     ]
    },
    {
     "ename": "KeyboardInterrupt",
     "evalue": "",
     "output_type": "error",
     "traceback": [
      "\u001b[0;31m---------------------------------------------------------------------------\u001b[0m",
      "\u001b[0;31mKeyboardInterrupt\u001b[0m                         Traceback (most recent call last)",
      "\u001b[0;32m<ipython-input-9-eca46e383775>\u001b[0m in \u001b[0;36m<module>\u001b[0;34m()\u001b[0m\n\u001b[1;32m     27\u001b[0m \u001b[0;34m\u001b[0m\u001b[0m\n\u001b[1;32m     28\u001b[0m     \u001b[0mpopulation\u001b[0m \u001b[0;34m=\u001b[0m \u001b[0mnp\u001b[0m\u001b[0;34m.\u001b[0m\u001b[0marray\u001b[0m\u001b[0;34m(\u001b[0m\u001b[0mlist\u001b[0m\u001b[0;34m(\u001b[0m\u001b[0mpopulation\u001b[0m\u001b[0;34m)\u001b[0m \u001b[0;34m+\u001b[0m \u001b[0mlist\u001b[0m\u001b[0;34m(\u001b[0m\u001b[0mnew_population\u001b[0m\u001b[0;34m)\u001b[0m\u001b[0;34m)\u001b[0m\u001b[0;34m\u001b[0m\u001b[0m\n\u001b[0;32m---> 29\u001b[0;31m     \u001b[0mvalues\u001b[0m \u001b[0;34m=\u001b[0m \u001b[0mrank_population\u001b[0m\u001b[0;34m(\u001b[0m\u001b[0mpopulation\u001b[0m\u001b[0;34m,\u001b[0m \u001b[0mdoc_ranks\u001b[0m\u001b[0;34m,\u001b[0m \u001b[0mqueries\u001b[0m\u001b[0;34m,\u001b[0m \u001b[0mquery_characteristics\u001b[0m\u001b[0;34m)\u001b[0m\u001b[0;34m\u001b[0m\u001b[0m\n\u001b[0m\u001b[1;32m     30\u001b[0m     \u001b[0mvalues\u001b[0m \u001b[0;34m=\u001b[0m \u001b[0mnp\u001b[0m\u001b[0;34m.\u001b[0m\u001b[0marray\u001b[0m\u001b[0;34m(\u001b[0m\u001b[0mvalues\u001b[0m\u001b[0;34m)\u001b[0m\u001b[0;34m\u001b[0m\u001b[0m\n\u001b[1;32m     31\u001b[0m \u001b[0;34m\u001b[0m\u001b[0m\n",
      "\u001b[0;32m<ipython-input-7-e13f01d0721d>\u001b[0m in \u001b[0;36mrank_population\u001b[0;34m(population, doc_ranks, queries, query_characteristics)\u001b[0m\n\u001b[1;32m      3\u001b[0m     \u001b[0mqualities\u001b[0m \u001b[0;34m=\u001b[0m \u001b[0;34m[\u001b[0m\u001b[0;34m]\u001b[0m\u001b[0;34m\u001b[0m\u001b[0m\n\u001b[1;32m      4\u001b[0m     \u001b[0;32mfor\u001b[0m \u001b[0mmodel\u001b[0m \u001b[0;32min\u001b[0m \u001b[0mpopulation\u001b[0m\u001b[0;34m:\u001b[0m\u001b[0;34m\u001b[0m\u001b[0m\n\u001b[0;32m----> 5\u001b[0;31m         \u001b[0mquality\u001b[0m \u001b[0;34m=\u001b[0m \u001b[0mget_quality\u001b[0m\u001b[0;34m(\u001b[0m\u001b[0mmodel\u001b[0m\u001b[0;34m,\u001b[0m \u001b[0mdoc_ranks\u001b[0m\u001b[0;34m,\u001b[0m \u001b[0mqueries\u001b[0m\u001b[0;34m,\u001b[0m \u001b[0mquery_characteristics\u001b[0m\u001b[0;34m)\u001b[0m\u001b[0;34m\u001b[0m\u001b[0m\n\u001b[0m\u001b[1;32m      6\u001b[0m         \u001b[0mqualities\u001b[0m\u001b[0;34m.\u001b[0m\u001b[0mappend\u001b[0m\u001b[0;34m(\u001b[0m\u001b[0mquality\u001b[0m\u001b[0;34m)\u001b[0m\u001b[0;34m\u001b[0m\u001b[0m\n\u001b[1;32m      7\u001b[0m \u001b[0;34m\u001b[0m\u001b[0m\n",
      "\u001b[0;32m~/Документы/MIPT_sem6/my_science/2019-Project-27/code/genetic_algorithm/get_quality.py\u001b[0m in \u001b[0;36mget_quality\u001b[0;34m(model, doc_ranks, queries, query_characteristics)\u001b[0m\n\u001b[1;32m     43\u001b[0m     \u001b[0mvec_quality\u001b[0m \u001b[0;34m=\u001b[0m \u001b[0;34m[\u001b[0m\u001b[0;34m]\u001b[0m\u001b[0;34m\u001b[0m\u001b[0m\n\u001b[1;32m     44\u001b[0m     \u001b[0;32mfor\u001b[0m \u001b[0mi\u001b[0m\u001b[0;34m,\u001b[0m \u001b[0mquery_id\u001b[0m \u001b[0;32min\u001b[0m \u001b[0menumerate\u001b[0m\u001b[0;34m(\u001b[0m\u001b[0mqueries\u001b[0m\u001b[0;34m[\u001b[0m\u001b[0;34m'Id'\u001b[0m\u001b[0;34m]\u001b[0m\u001b[0;34m.\u001b[0m\u001b[0mvalues\u001b[0m\u001b[0;34m)\u001b[0m\u001b[0;34m:\u001b[0m\u001b[0;34m\u001b[0m\u001b[0m\n\u001b[0;32m---> 45\u001b[0;31m         \u001b[0mdoc_related\u001b[0m \u001b[0;34m=\u001b[0m \u001b[0mevaluate_model\u001b[0m\u001b[0;34m(\u001b[0m\u001b[0mmodel\u001b[0m\u001b[0;34m,\u001b[0m \u001b[0mquery_characteristics\u001b[0m\u001b[0;34m[\u001b[0m\u001b[0mi\u001b[0m\u001b[0;34m]\u001b[0m\u001b[0;34m)\u001b[0m\u001b[0;34m\u001b[0m\u001b[0m\n\u001b[0m\u001b[1;32m     46\u001b[0m         \u001b[0mquality\u001b[0m \u001b[0;34m=\u001b[0m \u001b[0mevaluate_quality\u001b[0m\u001b[0;34m(\u001b[0m\u001b[0mquery_id\u001b[0m\u001b[0;34m,\u001b[0m \u001b[0mdoc_related\u001b[0m\u001b[0;34m,\u001b[0m \u001b[0mdoc_ranks\u001b[0m\u001b[0;34m[\u001b[0m\u001b[0mi\u001b[0m\u001b[0;34m]\u001b[0m\u001b[0;34m)\u001b[0m\u001b[0;34m\u001b[0m\u001b[0m\n\u001b[1;32m     47\u001b[0m         \u001b[0mvec_quality\u001b[0m\u001b[0;34m.\u001b[0m\u001b[0mappend\u001b[0m\u001b[0;34m(\u001b[0m\u001b[0mquality\u001b[0m\u001b[0;34m)\u001b[0m\u001b[0;34m\u001b[0m\u001b[0m\n",
      "\u001b[0;32m~/Документы/MIPT_sem6/my_science/2019-Project-27/code/genetic_algorithm/get_quality.py\u001b[0m in \u001b[0;36mevaluate_model\u001b[0;34m(model, query_characteristics)\u001b[0m\n\u001b[1;32m     12\u001b[0m \u001b[0;34m\u001b[0m\u001b[0m\n\u001b[1;32m     13\u001b[0m \u001b[0;32mdef\u001b[0m \u001b[0mevaluate_model\u001b[0m\u001b[0;34m(\u001b[0m\u001b[0mmodel\u001b[0m\u001b[0;34m,\u001b[0m \u001b[0mquery_characteristics\u001b[0m\u001b[0;34m)\u001b[0m\u001b[0;34m:\u001b[0m\u001b[0;34m\u001b[0m\u001b[0m\n\u001b[0;32m---> 14\u001b[0;31m     \u001b[0mvalues\u001b[0m \u001b[0;34m=\u001b[0m \u001b[0mmodel\u001b[0m\u001b[0;34m.\u001b[0m\u001b[0mcalc\u001b[0m\u001b[0;34m(\u001b[0m\u001b[0;34m*\u001b[0m\u001b[0mquery_characteristics\u001b[0m\u001b[0;34m[\u001b[0m\u001b[0;36m2\u001b[0m\u001b[0;34m]\u001b[0m\u001b[0;34m)\u001b[0m\u001b[0;34m\u001b[0m\u001b[0m\n\u001b[0m\u001b[1;32m     15\u001b[0m     \u001b[0mresult\u001b[0m \u001b[0;34m=\u001b[0m \u001b[0mnp\u001b[0m\u001b[0;34m.\u001b[0m\u001b[0mzeros\u001b[0m\u001b[0;34m(\u001b[0m\u001b[0mquery_characteristics\u001b[0m\u001b[0;34m[\u001b[0m\u001b[0;36m0\u001b[0m\u001b[0;34m]\u001b[0m\u001b[0;34m.\u001b[0m\u001b[0mshape\u001b[0m\u001b[0;34m[\u001b[0m\u001b[0;36m0\u001b[0m\u001b[0;34m]\u001b[0m\u001b[0;34m)\u001b[0m\u001b[0;34m\u001b[0m\u001b[0m\n\u001b[1;32m     16\u001b[0m     \u001b[0;32mfor\u001b[0m \u001b[0mi\u001b[0m\u001b[0;34m,\u001b[0m \u001b[0mpos\u001b[0m \u001b[0;32min\u001b[0m \u001b[0menumerate\u001b[0m\u001b[0;34m(\u001b[0m\u001b[0mquery_characteristics\u001b[0m\u001b[0;34m[\u001b[0m\u001b[0;36m1\u001b[0m\u001b[0;34m]\u001b[0m\u001b[0;34m)\u001b[0m\u001b[0;34m:\u001b[0m\u001b[0;34m\u001b[0m\u001b[0m\n",
      "\u001b[0;32m~/Документы/MIPT_sem6/my_science/2019-Project-27/code/genetic_algorithm/primitive.py\u001b[0m in \u001b[0;36mcalc\u001b[0;34m(self, x, y)\u001b[0m\n\u001b[1;32m     57\u001b[0m         \u001b[0;32mif\u001b[0m \u001b[0mself\u001b[0m\u001b[0;34m.\u001b[0m\u001b[0mvalency\u001b[0m \u001b[0;34m==\u001b[0m \u001b[0;36m0\u001b[0m\u001b[0;34m:\u001b[0m\u001b[0;34m\u001b[0m\u001b[0m\n\u001b[1;32m     58\u001b[0m             \u001b[0;32mreturn\u001b[0m \u001b[0mself\u001b[0m\u001b[0;34m.\u001b[0m\u001b[0mget_correct_value\u001b[0m\u001b[0;34m(\u001b[0m\u001b[0mself\u001b[0m\u001b[0;34m.\u001b[0m\u001b[0mfunc\u001b[0m\u001b[0;34m(\u001b[0m\u001b[0mx\u001b[0m\u001b[0;34m,\u001b[0m \u001b[0my\u001b[0m\u001b[0;34m)\u001b[0m\u001b[0;34m)\u001b[0m\u001b[0;34m\u001b[0m\u001b[0m\n\u001b[0;32m---> 59\u001b[0;31m         \u001b[0;32mreturn\u001b[0m \u001b[0mself\u001b[0m\u001b[0;34m.\u001b[0m\u001b[0mget_correct_value\u001b[0m\u001b[0;34m(\u001b[0m\u001b[0mself\u001b[0m\u001b[0;34m.\u001b[0m\u001b[0mfunc\u001b[0m\u001b[0;34m(\u001b[0m\u001b[0;34m*\u001b[0m\u001b[0;34m[\u001b[0m\u001b[0mnode\u001b[0m\u001b[0;34m.\u001b[0m\u001b[0mcalc\u001b[0m\u001b[0;34m(\u001b[0m\u001b[0mx\u001b[0m\u001b[0;34m,\u001b[0m \u001b[0my\u001b[0m\u001b[0;34m)\u001b[0m \u001b[0;32mfor\u001b[0m \u001b[0mnode\u001b[0m \u001b[0;32min\u001b[0m \u001b[0mself\u001b[0m\u001b[0;34m.\u001b[0m\u001b[0mnodes\u001b[0m\u001b[0;34m]\u001b[0m\u001b[0;34m)\u001b[0m\u001b[0;34m)\u001b[0m\u001b[0;34m\u001b[0m\u001b[0m\n\u001b[0m\u001b[1;32m     60\u001b[0m \u001b[0;34m\u001b[0m\u001b[0m\n\u001b[1;32m     61\u001b[0m \u001b[0;34m\u001b[0m\u001b[0m\n",
      "\u001b[0;32m~/Документы/MIPT_sem6/my_science/2019-Project-27/code/genetic_algorithm/primitive.py\u001b[0m in \u001b[0;36m<listcomp>\u001b[0;34m(.0)\u001b[0m\n\u001b[1;32m     57\u001b[0m         \u001b[0;32mif\u001b[0m \u001b[0mself\u001b[0m\u001b[0;34m.\u001b[0m\u001b[0mvalency\u001b[0m \u001b[0;34m==\u001b[0m \u001b[0;36m0\u001b[0m\u001b[0;34m:\u001b[0m\u001b[0;34m\u001b[0m\u001b[0m\n\u001b[1;32m     58\u001b[0m             \u001b[0;32mreturn\u001b[0m \u001b[0mself\u001b[0m\u001b[0;34m.\u001b[0m\u001b[0mget_correct_value\u001b[0m\u001b[0;34m(\u001b[0m\u001b[0mself\u001b[0m\u001b[0;34m.\u001b[0m\u001b[0mfunc\u001b[0m\u001b[0;34m(\u001b[0m\u001b[0mx\u001b[0m\u001b[0;34m,\u001b[0m \u001b[0my\u001b[0m\u001b[0;34m)\u001b[0m\u001b[0;34m)\u001b[0m\u001b[0;34m\u001b[0m\u001b[0m\n\u001b[0;32m---> 59\u001b[0;31m         \u001b[0;32mreturn\u001b[0m \u001b[0mself\u001b[0m\u001b[0;34m.\u001b[0m\u001b[0mget_correct_value\u001b[0m\u001b[0;34m(\u001b[0m\u001b[0mself\u001b[0m\u001b[0;34m.\u001b[0m\u001b[0mfunc\u001b[0m\u001b[0;34m(\u001b[0m\u001b[0;34m*\u001b[0m\u001b[0;34m[\u001b[0m\u001b[0mnode\u001b[0m\u001b[0;34m.\u001b[0m\u001b[0mcalc\u001b[0m\u001b[0;34m(\u001b[0m\u001b[0mx\u001b[0m\u001b[0;34m,\u001b[0m \u001b[0my\u001b[0m\u001b[0;34m)\u001b[0m \u001b[0;32mfor\u001b[0m \u001b[0mnode\u001b[0m \u001b[0;32min\u001b[0m \u001b[0mself\u001b[0m\u001b[0;34m.\u001b[0m\u001b[0mnodes\u001b[0m\u001b[0;34m]\u001b[0m\u001b[0;34m)\u001b[0m\u001b[0;34m)\u001b[0m\u001b[0;34m\u001b[0m\u001b[0m\n\u001b[0m\u001b[1;32m     60\u001b[0m \u001b[0;34m\u001b[0m\u001b[0m\n\u001b[1;32m     61\u001b[0m \u001b[0;34m\u001b[0m\u001b[0m\n",
      "\u001b[0;32m~/Документы/MIPT_sem6/my_science/2019-Project-27/code/genetic_algorithm/primitive.py\u001b[0m in \u001b[0;36mcalc\u001b[0;34m(self, x, y)\u001b[0m\n\u001b[1;32m     57\u001b[0m         \u001b[0;32mif\u001b[0m \u001b[0mself\u001b[0m\u001b[0;34m.\u001b[0m\u001b[0mvalency\u001b[0m \u001b[0;34m==\u001b[0m \u001b[0;36m0\u001b[0m\u001b[0;34m:\u001b[0m\u001b[0;34m\u001b[0m\u001b[0m\n\u001b[1;32m     58\u001b[0m             \u001b[0;32mreturn\u001b[0m \u001b[0mself\u001b[0m\u001b[0;34m.\u001b[0m\u001b[0mget_correct_value\u001b[0m\u001b[0;34m(\u001b[0m\u001b[0mself\u001b[0m\u001b[0;34m.\u001b[0m\u001b[0mfunc\u001b[0m\u001b[0;34m(\u001b[0m\u001b[0mx\u001b[0m\u001b[0;34m,\u001b[0m \u001b[0my\u001b[0m\u001b[0;34m)\u001b[0m\u001b[0;34m)\u001b[0m\u001b[0;34m\u001b[0m\u001b[0m\n\u001b[0;32m---> 59\u001b[0;31m         \u001b[0;32mreturn\u001b[0m \u001b[0mself\u001b[0m\u001b[0;34m.\u001b[0m\u001b[0mget_correct_value\u001b[0m\u001b[0;34m(\u001b[0m\u001b[0mself\u001b[0m\u001b[0;34m.\u001b[0m\u001b[0mfunc\u001b[0m\u001b[0;34m(\u001b[0m\u001b[0;34m*\u001b[0m\u001b[0;34m[\u001b[0m\u001b[0mnode\u001b[0m\u001b[0;34m.\u001b[0m\u001b[0mcalc\u001b[0m\u001b[0;34m(\u001b[0m\u001b[0mx\u001b[0m\u001b[0;34m,\u001b[0m \u001b[0my\u001b[0m\u001b[0;34m)\u001b[0m \u001b[0;32mfor\u001b[0m \u001b[0mnode\u001b[0m \u001b[0;32min\u001b[0m \u001b[0mself\u001b[0m\u001b[0;34m.\u001b[0m\u001b[0mnodes\u001b[0m\u001b[0;34m]\u001b[0m\u001b[0;34m)\u001b[0m\u001b[0;34m)\u001b[0m\u001b[0;34m\u001b[0m\u001b[0m\n\u001b[0m\u001b[1;32m     60\u001b[0m \u001b[0;34m\u001b[0m\u001b[0m\n\u001b[1;32m     61\u001b[0m \u001b[0;34m\u001b[0m\u001b[0m\n",
      "\u001b[0;32m~/Документы/MIPT_sem6/my_science/2019-Project-27/code/genetic_algorithm/primitive.py\u001b[0m in \u001b[0;36m<listcomp>\u001b[0;34m(.0)\u001b[0m\n\u001b[1;32m     57\u001b[0m         \u001b[0;32mif\u001b[0m \u001b[0mself\u001b[0m\u001b[0;34m.\u001b[0m\u001b[0mvalency\u001b[0m \u001b[0;34m==\u001b[0m \u001b[0;36m0\u001b[0m\u001b[0;34m:\u001b[0m\u001b[0;34m\u001b[0m\u001b[0m\n\u001b[1;32m     58\u001b[0m             \u001b[0;32mreturn\u001b[0m \u001b[0mself\u001b[0m\u001b[0;34m.\u001b[0m\u001b[0mget_correct_value\u001b[0m\u001b[0;34m(\u001b[0m\u001b[0mself\u001b[0m\u001b[0;34m.\u001b[0m\u001b[0mfunc\u001b[0m\u001b[0;34m(\u001b[0m\u001b[0mx\u001b[0m\u001b[0;34m,\u001b[0m \u001b[0my\u001b[0m\u001b[0;34m)\u001b[0m\u001b[0;34m)\u001b[0m\u001b[0;34m\u001b[0m\u001b[0m\n\u001b[0;32m---> 59\u001b[0;31m         \u001b[0;32mreturn\u001b[0m \u001b[0mself\u001b[0m\u001b[0;34m.\u001b[0m\u001b[0mget_correct_value\u001b[0m\u001b[0;34m(\u001b[0m\u001b[0mself\u001b[0m\u001b[0;34m.\u001b[0m\u001b[0mfunc\u001b[0m\u001b[0;34m(\u001b[0m\u001b[0;34m*\u001b[0m\u001b[0;34m[\u001b[0m\u001b[0mnode\u001b[0m\u001b[0;34m.\u001b[0m\u001b[0mcalc\u001b[0m\u001b[0;34m(\u001b[0m\u001b[0mx\u001b[0m\u001b[0;34m,\u001b[0m \u001b[0my\u001b[0m\u001b[0;34m)\u001b[0m \u001b[0;32mfor\u001b[0m \u001b[0mnode\u001b[0m \u001b[0;32min\u001b[0m \u001b[0mself\u001b[0m\u001b[0;34m.\u001b[0m\u001b[0mnodes\u001b[0m\u001b[0;34m]\u001b[0m\u001b[0;34m)\u001b[0m\u001b[0;34m)\u001b[0m\u001b[0;34m\u001b[0m\u001b[0m\n\u001b[0m\u001b[1;32m     60\u001b[0m \u001b[0;34m\u001b[0m\u001b[0m\n\u001b[1;32m     61\u001b[0m \u001b[0;34m\u001b[0m\u001b[0m\n",
      "\u001b[0;32m~/Документы/MIPT_sem6/my_science/2019-Project-27/code/genetic_algorithm/primitive.py\u001b[0m in \u001b[0;36mcalc\u001b[0;34m(self, x, y)\u001b[0m\n\u001b[1;32m     57\u001b[0m         \u001b[0;32mif\u001b[0m \u001b[0mself\u001b[0m\u001b[0;34m.\u001b[0m\u001b[0mvalency\u001b[0m \u001b[0;34m==\u001b[0m \u001b[0;36m0\u001b[0m\u001b[0;34m:\u001b[0m\u001b[0;34m\u001b[0m\u001b[0m\n\u001b[1;32m     58\u001b[0m             \u001b[0;32mreturn\u001b[0m \u001b[0mself\u001b[0m\u001b[0;34m.\u001b[0m\u001b[0mget_correct_value\u001b[0m\u001b[0;34m(\u001b[0m\u001b[0mself\u001b[0m\u001b[0;34m.\u001b[0m\u001b[0mfunc\u001b[0m\u001b[0;34m(\u001b[0m\u001b[0mx\u001b[0m\u001b[0;34m,\u001b[0m \u001b[0my\u001b[0m\u001b[0;34m)\u001b[0m\u001b[0;34m)\u001b[0m\u001b[0;34m\u001b[0m\u001b[0m\n\u001b[0;32m---> 59\u001b[0;31m         \u001b[0;32mreturn\u001b[0m \u001b[0mself\u001b[0m\u001b[0;34m.\u001b[0m\u001b[0mget_correct_value\u001b[0m\u001b[0;34m(\u001b[0m\u001b[0mself\u001b[0m\u001b[0;34m.\u001b[0m\u001b[0mfunc\u001b[0m\u001b[0;34m(\u001b[0m\u001b[0;34m*\u001b[0m\u001b[0;34m[\u001b[0m\u001b[0mnode\u001b[0m\u001b[0;34m.\u001b[0m\u001b[0mcalc\u001b[0m\u001b[0;34m(\u001b[0m\u001b[0mx\u001b[0m\u001b[0;34m,\u001b[0m \u001b[0my\u001b[0m\u001b[0;34m)\u001b[0m \u001b[0;32mfor\u001b[0m \u001b[0mnode\u001b[0m \u001b[0;32min\u001b[0m \u001b[0mself\u001b[0m\u001b[0;34m.\u001b[0m\u001b[0mnodes\u001b[0m\u001b[0;34m]\u001b[0m\u001b[0;34m)\u001b[0m\u001b[0;34m)\u001b[0m\u001b[0;34m\u001b[0m\u001b[0m\n\u001b[0m\u001b[1;32m     60\u001b[0m \u001b[0;34m\u001b[0m\u001b[0m\n\u001b[1;32m     61\u001b[0m \u001b[0;34m\u001b[0m\u001b[0m\n",
      "\u001b[0;32m~/Документы/MIPT_sem6/my_science/2019-Project-27/code/genetic_algorithm/primitive.py\u001b[0m in \u001b[0;36m<listcomp>\u001b[0;34m(.0)\u001b[0m\n\u001b[1;32m     57\u001b[0m         \u001b[0;32mif\u001b[0m \u001b[0mself\u001b[0m\u001b[0;34m.\u001b[0m\u001b[0mvalency\u001b[0m \u001b[0;34m==\u001b[0m \u001b[0;36m0\u001b[0m\u001b[0;34m:\u001b[0m\u001b[0;34m\u001b[0m\u001b[0m\n\u001b[1;32m     58\u001b[0m             \u001b[0;32mreturn\u001b[0m \u001b[0mself\u001b[0m\u001b[0;34m.\u001b[0m\u001b[0mget_correct_value\u001b[0m\u001b[0;34m(\u001b[0m\u001b[0mself\u001b[0m\u001b[0;34m.\u001b[0m\u001b[0mfunc\u001b[0m\u001b[0;34m(\u001b[0m\u001b[0mx\u001b[0m\u001b[0;34m,\u001b[0m \u001b[0my\u001b[0m\u001b[0;34m)\u001b[0m\u001b[0;34m)\u001b[0m\u001b[0;34m\u001b[0m\u001b[0m\n\u001b[0;32m---> 59\u001b[0;31m         \u001b[0;32mreturn\u001b[0m \u001b[0mself\u001b[0m\u001b[0;34m.\u001b[0m\u001b[0mget_correct_value\u001b[0m\u001b[0;34m(\u001b[0m\u001b[0mself\u001b[0m\u001b[0;34m.\u001b[0m\u001b[0mfunc\u001b[0m\u001b[0;34m(\u001b[0m\u001b[0;34m*\u001b[0m\u001b[0;34m[\u001b[0m\u001b[0mnode\u001b[0m\u001b[0;34m.\u001b[0m\u001b[0mcalc\u001b[0m\u001b[0;34m(\u001b[0m\u001b[0mx\u001b[0m\u001b[0;34m,\u001b[0m \u001b[0my\u001b[0m\u001b[0;34m)\u001b[0m \u001b[0;32mfor\u001b[0m \u001b[0mnode\u001b[0m \u001b[0;32min\u001b[0m \u001b[0mself\u001b[0m\u001b[0;34m.\u001b[0m\u001b[0mnodes\u001b[0m\u001b[0;34m]\u001b[0m\u001b[0;34m)\u001b[0m\u001b[0;34m)\u001b[0m\u001b[0;34m\u001b[0m\u001b[0m\n\u001b[0m\u001b[1;32m     60\u001b[0m \u001b[0;34m\u001b[0m\u001b[0m\n\u001b[1;32m     61\u001b[0m \u001b[0;34m\u001b[0m\u001b[0m\n",
      "\u001b[0;32m~/Документы/MIPT_sem6/my_science/2019-Project-27/code/genetic_algorithm/primitive.py\u001b[0m in \u001b[0;36mcalc\u001b[0;34m(self, x, y)\u001b[0m\n\u001b[1;32m     57\u001b[0m         \u001b[0;32mif\u001b[0m \u001b[0mself\u001b[0m\u001b[0;34m.\u001b[0m\u001b[0mvalency\u001b[0m \u001b[0;34m==\u001b[0m \u001b[0;36m0\u001b[0m\u001b[0;34m:\u001b[0m\u001b[0;34m\u001b[0m\u001b[0m\n\u001b[1;32m     58\u001b[0m             \u001b[0;32mreturn\u001b[0m \u001b[0mself\u001b[0m\u001b[0;34m.\u001b[0m\u001b[0mget_correct_value\u001b[0m\u001b[0;34m(\u001b[0m\u001b[0mself\u001b[0m\u001b[0;34m.\u001b[0m\u001b[0mfunc\u001b[0m\u001b[0;34m(\u001b[0m\u001b[0mx\u001b[0m\u001b[0;34m,\u001b[0m \u001b[0my\u001b[0m\u001b[0;34m)\u001b[0m\u001b[0;34m)\u001b[0m\u001b[0;34m\u001b[0m\u001b[0m\n\u001b[0;32m---> 59\u001b[0;31m         \u001b[0;32mreturn\u001b[0m \u001b[0mself\u001b[0m\u001b[0;34m.\u001b[0m\u001b[0mget_correct_value\u001b[0m\u001b[0;34m(\u001b[0m\u001b[0mself\u001b[0m\u001b[0;34m.\u001b[0m\u001b[0mfunc\u001b[0m\u001b[0;34m(\u001b[0m\u001b[0;34m*\u001b[0m\u001b[0;34m[\u001b[0m\u001b[0mnode\u001b[0m\u001b[0;34m.\u001b[0m\u001b[0mcalc\u001b[0m\u001b[0;34m(\u001b[0m\u001b[0mx\u001b[0m\u001b[0;34m,\u001b[0m \u001b[0my\u001b[0m\u001b[0;34m)\u001b[0m \u001b[0;32mfor\u001b[0m \u001b[0mnode\u001b[0m \u001b[0;32min\u001b[0m \u001b[0mself\u001b[0m\u001b[0;34m.\u001b[0m\u001b[0mnodes\u001b[0m\u001b[0;34m]\u001b[0m\u001b[0;34m)\u001b[0m\u001b[0;34m)\u001b[0m\u001b[0;34m\u001b[0m\u001b[0m\n\u001b[0m\u001b[1;32m     60\u001b[0m \u001b[0;34m\u001b[0m\u001b[0m\n\u001b[1;32m     61\u001b[0m \u001b[0;34m\u001b[0m\u001b[0m\n",
      "\u001b[0;32m~/Документы/MIPT_sem6/my_science/2019-Project-27/code/genetic_algorithm/primitive.py\u001b[0m in \u001b[0;36mget_correct_value\u001b[0;34m(self, value)\u001b[0m\n\u001b[1;32m     38\u001b[0m \u001b[0;34m\u001b[0m\u001b[0m\n\u001b[1;32m     39\u001b[0m     \u001b[0;32mdef\u001b[0m \u001b[0mget_correct_value\u001b[0m\u001b[0;34m(\u001b[0m\u001b[0mself\u001b[0m\u001b[0;34m,\u001b[0m \u001b[0mvalue\u001b[0m\u001b[0;34m)\u001b[0m\u001b[0;34m:\u001b[0m\u001b[0;34m\u001b[0m\u001b[0m\n\u001b[0;32m---> 40\u001b[0;31m         \u001b[0mvalue\u001b[0m\u001b[0;34m[\u001b[0m\u001b[0mvalue\u001b[0m \u001b[0;34m==\u001b[0m \u001b[0mfloat\u001b[0m\u001b[0;34m(\u001b[0m\u001b[0;34m'inf'\u001b[0m\u001b[0;34m)\u001b[0m\u001b[0;34m]\u001b[0m \u001b[0;34m=\u001b[0m \u001b[0mself\u001b[0m\u001b[0;34m.\u001b[0m\u001b[0minf\u001b[0m\u001b[0;34m\u001b[0m\u001b[0m\n\u001b[0m\u001b[1;32m     41\u001b[0m         \u001b[0mvalue\u001b[0m\u001b[0;34m[\u001b[0m\u001b[0mvalue\u001b[0m \u001b[0;34m==\u001b[0m \u001b[0mfloat\u001b[0m\u001b[0;34m(\u001b[0m\u001b[0;34m'-inf'\u001b[0m\u001b[0;34m)\u001b[0m\u001b[0;34m]\u001b[0m \u001b[0;34m=\u001b[0m \u001b[0;34m-\u001b[0m\u001b[0mself\u001b[0m\u001b[0;34m.\u001b[0m\u001b[0minf\u001b[0m\u001b[0;34m\u001b[0m\u001b[0m\n\u001b[1;32m     42\u001b[0m         \u001b[0mvalue\u001b[0m\u001b[0;34m[\u001b[0m\u001b[0mvalue\u001b[0m \u001b[0;34m>\u001b[0m \u001b[0mself\u001b[0m\u001b[0;34m.\u001b[0m\u001b[0minf\u001b[0m\u001b[0;34m]\u001b[0m \u001b[0;34m=\u001b[0m \u001b[0mself\u001b[0m\u001b[0;34m.\u001b[0m\u001b[0minf\u001b[0m\u001b[0;34m\u001b[0m\u001b[0m\n",
      "\u001b[0;31mKeyboardInterrupt\u001b[0m: "
     ]
    }
   ],
   "source": [
    "np.random.seed(random_seed)\n",
    "\n",
    "size = 40\n",
    "\n",
    "population = create_population.create_population(size, 5)\n",
    "\n",
    "history = []\n",
    "\n",
    "for iteration in tqdm(range(100)):\n",
    "    new_population = []\n",
    "\n",
    "    sz = len(population)\n",
    "    print (sz)\n",
    "\n",
    "    new_population.append(population[0])\n",
    "\n",
    "    for i in range(sz // 30):\n",
    "        new_population.append(mutate_rand_tree(population[0]))\n",
    "        new_population.append(mutate_rand_tree(population[1]))\n",
    "        new_population.append(mutate_rand_tree(population[2]))\n",
    "    for i in range(sz // 10):\n",
    "        new_population.append(create_random_model(4))\n",
    "    for i in range(sz):\n",
    "        t1 = population[np.random.randint(0, sz / 2)]\n",
    "        t2 = population[np.random.randint(0, sz / 2)]\n",
    "        new_population.append(mutate_rand_tree(crossfit(t1, t2)))\n",
    "\n",
    "    population = np.array(list(population) + list(new_population))\n",
    "    values = rank_population(population, doc_ranks, queries, query_characteristics)\n",
    "    values = np.array(values)\n",
    "\n",
    "    indexes = np.arange(len(population))\n",
    "    indexes = sorted(indexes, key=lambda i: -values[i] + population[i].get_tokens() / 1000.)\n",
    "\n",
    "    population = (population[indexes])[:size]\n",
    "    values = (values[indexes])[:size]\n",
    "\n",
    "    vis(population, values)\n",
    "    history.append((population, values))\n",
    "\n",
    "    print(-values[0])"
   ]
  },
  {
   "cell_type": "code",
   "execution_count": 12,
   "metadata": {
    "collapsed": true
   },
   "outputs": [],
   "source": [
    "import dill\n",
    "import pickle\n",
    "import matplotlib.cm as cm"
   ]
  },
  {
   "cell_type": "code",
   "execution_count": 13,
   "metadata": {
    "collapsed": true
   },
   "outputs": [],
   "source": [
    "def save_object(obj, filename):\n",
    "    with open(filename, 'wb') as output:  # Overwrites any existing file.\n",
    "        pickle.dump(obj, output, pickle.HIGHEST_PROTOCOL)"
   ]
  },
  {
   "cell_type": "code",
   "execution_count": 14,
   "metadata": {
    "scrolled": false
   },
   "outputs": [
    {
     "ename": "PicklingError",
     "evalue": "Can't pickle <function Primitives.<lambda> at 0x7efe8bd0a400>: attribute lookup Primitives.<lambda> on primitive failed",
     "output_type": "error",
     "traceback": [
      "\u001b[0;31m---------------------------------------------------------------------------\u001b[0m",
      "\u001b[0;31mPicklingError\u001b[0m                             Traceback (most recent call last)",
      "\u001b[0;32m<ipython-input-14-0de07733161c>\u001b[0m in \u001b[0;36m<module>\u001b[0;34m()\u001b[0m\n\u001b[0;32m----> 1\u001b[0;31m \u001b[0msave_object\u001b[0m\u001b[0;34m(\u001b[0m\u001b[0mhistory\u001b[0m\u001b[0;34m,\u001b[0m \u001b[0;34m\"myhist\"\u001b[0m \u001b[0;34m+\u001b[0m \u001b[0mstr\u001b[0m\u001b[0;34m(\u001b[0m\u001b[0mtrec_to_learn\u001b[0m\u001b[0;34m)\u001b[0m\u001b[0;34m)\u001b[0m\u001b[0;34m\u001b[0m\u001b[0;34m\u001b[0m\u001b[0m\n\u001b[0m",
      "\u001b[0;32m<ipython-input-13-b4bff8a21021>\u001b[0m in \u001b[0;36msave_object\u001b[0;34m(obj, filename)\u001b[0m\n\u001b[1;32m      1\u001b[0m \u001b[0;32mdef\u001b[0m \u001b[0msave_object\u001b[0m\u001b[0;34m(\u001b[0m\u001b[0mobj\u001b[0m\u001b[0;34m,\u001b[0m \u001b[0mfilename\u001b[0m\u001b[0;34m)\u001b[0m\u001b[0;34m:\u001b[0m\u001b[0;34m\u001b[0m\u001b[0;34m\u001b[0m\u001b[0m\n\u001b[1;32m      2\u001b[0m     \u001b[0;32mwith\u001b[0m \u001b[0mopen\u001b[0m\u001b[0;34m(\u001b[0m\u001b[0mfilename\u001b[0m\u001b[0;34m,\u001b[0m \u001b[0;34m'wb'\u001b[0m\u001b[0;34m)\u001b[0m \u001b[0;32mas\u001b[0m \u001b[0moutput\u001b[0m\u001b[0;34m:\u001b[0m  \u001b[0;31m# Overwrites any existing file.\u001b[0m\u001b[0;34m\u001b[0m\u001b[0;34m\u001b[0m\u001b[0m\n\u001b[0;32m----> 3\u001b[0;31m         \u001b[0mpickle\u001b[0m\u001b[0;34m.\u001b[0m\u001b[0mdump\u001b[0m\u001b[0;34m(\u001b[0m\u001b[0mobj\u001b[0m\u001b[0;34m,\u001b[0m \u001b[0moutput\u001b[0m\u001b[0;34m,\u001b[0m \u001b[0mpickle\u001b[0m\u001b[0;34m.\u001b[0m\u001b[0mHIGHEST_PROTOCOL\u001b[0m\u001b[0;34m)\u001b[0m\u001b[0;34m\u001b[0m\u001b[0;34m\u001b[0m\u001b[0m\n\u001b[0m",
      "\u001b[0;31mPicklingError\u001b[0m: Can't pickle <function Primitives.<lambda> at 0x7efe8bd0a400>: attribute lookup Primitives.<lambda> on primitive failed"
     ]
    }
   ],
   "source": [
    "save_object(history, \"myhist\" + str(trec_to_learn))"
   ]
  },
  {
   "cell_type": "code",
   "execution_count": 15,
   "metadata": {},
   "outputs": [
    {
     "ename": "UnicodeDecodeError",
     "evalue": "'utf-8' codec can't decode byte 0x80 in position 0: invalid start byte",
     "output_type": "error",
     "traceback": [
      "\u001b[0;31m---------------------------------------------------------------------------\u001b[0m",
      "\u001b[0;31mUnicodeDecodeError\u001b[0m                        Traceback (most recent call last)",
      "\u001b[0;32m<ipython-input-15-d2da68b6c91e>\u001b[0m in \u001b[0;36m<module>\u001b[0;34m()\u001b[0m\n\u001b[0;32m----> 1\u001b[0;31m \u001b[0msaved_hist\u001b[0m \u001b[0;34m=\u001b[0m \u001b[0mpickle\u001b[0m\u001b[0;34m.\u001b[0m\u001b[0mload\u001b[0m\u001b[0;34m(\u001b[0m\u001b[0mopen\u001b[0m\u001b[0;34m(\u001b[0m\u001b[0;34m\"hist7.1\"\u001b[0m\u001b[0;34m)\u001b[0m\u001b[0;34m)\u001b[0m\u001b[0;34m\u001b[0m\u001b[0;34m\u001b[0m\u001b[0m\n\u001b[0m",
      "\u001b[0;32m~/anaconda3/lib/python3.6/codecs.py\u001b[0m in \u001b[0;36mdecode\u001b[0;34m(self, input, final)\u001b[0m\n\u001b[1;32m    319\u001b[0m         \u001b[0;31m# decode input (taking the buffer into account)\u001b[0m\u001b[0;34m\u001b[0m\u001b[0;34m\u001b[0m\u001b[0;34m\u001b[0m\u001b[0m\n\u001b[1;32m    320\u001b[0m         \u001b[0mdata\u001b[0m \u001b[0;34m=\u001b[0m \u001b[0mself\u001b[0m\u001b[0;34m.\u001b[0m\u001b[0mbuffer\u001b[0m \u001b[0;34m+\u001b[0m \u001b[0minput\u001b[0m\u001b[0;34m\u001b[0m\u001b[0;34m\u001b[0m\u001b[0m\n\u001b[0;32m--> 321\u001b[0;31m         \u001b[0;34m(\u001b[0m\u001b[0mresult\u001b[0m\u001b[0;34m,\u001b[0m \u001b[0mconsumed\u001b[0m\u001b[0;34m)\u001b[0m \u001b[0;34m=\u001b[0m \u001b[0mself\u001b[0m\u001b[0;34m.\u001b[0m\u001b[0m_buffer_decode\u001b[0m\u001b[0;34m(\u001b[0m\u001b[0mdata\u001b[0m\u001b[0;34m,\u001b[0m \u001b[0mself\u001b[0m\u001b[0;34m.\u001b[0m\u001b[0merrors\u001b[0m\u001b[0;34m,\u001b[0m \u001b[0mfinal\u001b[0m\u001b[0;34m)\u001b[0m\u001b[0;34m\u001b[0m\u001b[0;34m\u001b[0m\u001b[0m\n\u001b[0m\u001b[1;32m    322\u001b[0m         \u001b[0;31m# keep undecoded input until the next call\u001b[0m\u001b[0;34m\u001b[0m\u001b[0;34m\u001b[0m\u001b[0;34m\u001b[0m\u001b[0m\n\u001b[1;32m    323\u001b[0m         \u001b[0mself\u001b[0m\u001b[0;34m.\u001b[0m\u001b[0mbuffer\u001b[0m \u001b[0;34m=\u001b[0m \u001b[0mdata\u001b[0m\u001b[0;34m[\u001b[0m\u001b[0mconsumed\u001b[0m\u001b[0;34m:\u001b[0m\u001b[0;34m]\u001b[0m\u001b[0;34m\u001b[0m\u001b[0;34m\u001b[0m\u001b[0m\n",
      "\u001b[0;31mUnicodeDecodeError\u001b[0m: 'utf-8' codec can't decode byte 0x80 in position 0: invalid start byte"
     ]
    }
   ],
   "source": [
    "saved_hist = pickle.load(open(\"hist7.1\"))\n"
   ]
  },
  {
   "cell_type": "code",
   "execution_count": 33,
   "metadata": {
    "collapsed": true
   },
   "outputs": [],
   "source": [
    "import matplotlib\n",
    "font = {'family' : 'normal',\n",
    "        #'weight' : 'bold',\n",
    "        'size'   : 12}\n",
    "\n",
    "matplotlib.rc('font', **font)"
   ]
  },
  {
   "cell_type": "code",
   "execution_count": 34,
   "metadata": {},
   "outputs": [
    {
     "ename": "NameError",
     "evalue": "name 'saved_hist' is not defined",
     "output_type": "error",
     "traceback": [
      "\u001b[0;31m---------------------------------------------------------------------------\u001b[0m",
      "\u001b[0;31mNameError\u001b[0m                                 Traceback (most recent call last)",
      "\u001b[0;32m<ipython-input-34-1288ff201b06>\u001b[0m in \u001b[0;36m<module>\u001b[0;34m()\u001b[0m\n\u001b[1;32m      9\u001b[0m \u001b[0;32mfor\u001b[0m \u001b[0mi\u001b[0m \u001b[0;32min\u001b[0m \u001b[0mrange\u001b[0m\u001b[0;34m(\u001b[0m\u001b[0mL\u001b[0m\u001b[0;34m,\u001b[0m \u001b[0mR\u001b[0m\u001b[0;34m)\u001b[0m\u001b[0;34m:\u001b[0m\u001b[0;34m\u001b[0m\u001b[0m\n\u001b[1;32m     10\u001b[0m     \u001b[0;32mif\u001b[0m \u001b[0mi\u001b[0m \u001b[0;34m==\u001b[0m \u001b[0mL\u001b[0m\u001b[0;34m:\u001b[0m\u001b[0;34m\u001b[0m\u001b[0m\n\u001b[0;32m---> 11\u001b[0;31m         \u001b[0mplt\u001b[0m\u001b[0;34m.\u001b[0m\u001b[0mscatter\u001b[0m\u001b[0;34m(\u001b[0m\u001b[0msaved_hist\u001b[0m\u001b[0;34m[\u001b[0m\u001b[0mi\u001b[0m\u001b[0;34m]\u001b[0m\u001b[0;34m[\u001b[0m\u001b[0;36m1\u001b[0m\u001b[0;34m]\u001b[0m\u001b[0;34m,\u001b[0m \u001b[0;34m[\u001b[0m\u001b[0mp\u001b[0m\u001b[0;34m.\u001b[0m\u001b[0mget_tokens\u001b[0m\u001b[0;34m(\u001b[0m\u001b[0;34m)\u001b[0m \u001b[0;32mfor\u001b[0m \u001b[0mp\u001b[0m \u001b[0;32min\u001b[0m \u001b[0msaved_hist\u001b[0m\u001b[0;34m[\u001b[0m\u001b[0mi\u001b[0m\u001b[0;34m]\u001b[0m\u001b[0;34m[\u001b[0m\u001b[0;36m0\u001b[0m\u001b[0;34m]\u001b[0m\u001b[0;34m]\u001b[0m\u001b[0;34m,\u001b[0m                     \u001b[0mc\u001b[0m\u001b[0;34m=\u001b[0m\u001b[0mcolors\u001b[0m\u001b[0;34m[\u001b[0m\u001b[0mi\u001b[0m\u001b[0;34m]\u001b[0m\u001b[0;34m,\u001b[0m \u001b[0ms\u001b[0m\u001b[0;34m=\u001b[0m\u001b[0ms\u001b[0m\u001b[0;34m,\u001b[0m \u001b[0mlabel\u001b[0m\u001b[0;34m=\u001b[0m\u001b[0mstr\u001b[0m\u001b[0;34m(\u001b[0m\u001b[0mL\u001b[0m\u001b[0;34m)\u001b[0m \u001b[0;34m+\u001b[0m \u001b[0;34m'th generation'\u001b[0m\u001b[0;34m)\u001b[0m\u001b[0;34m\u001b[0m\u001b[0m\n\u001b[0m\u001b[1;32m     12\u001b[0m     \u001b[0;32melif\u001b[0m \u001b[0mi\u001b[0m \u001b[0;34m==\u001b[0m \u001b[0;34m(\u001b[0m\u001b[0mL\u001b[0m \u001b[0;34m+\u001b[0m \u001b[0mR\u001b[0m\u001b[0;34m)\u001b[0m \u001b[0;34m/\u001b[0m \u001b[0;36m2\u001b[0m\u001b[0;34m:\u001b[0m\u001b[0;34m\u001b[0m\u001b[0m\n\u001b[1;32m     13\u001b[0m         \u001b[0mplt\u001b[0m\u001b[0;34m.\u001b[0m\u001b[0mscatter\u001b[0m\u001b[0;34m(\u001b[0m\u001b[0msaved_hist\u001b[0m\u001b[0;34m[\u001b[0m\u001b[0mi\u001b[0m\u001b[0;34m]\u001b[0m\u001b[0;34m[\u001b[0m\u001b[0;36m1\u001b[0m\u001b[0;34m]\u001b[0m\u001b[0;34m,\u001b[0m \u001b[0;34m[\u001b[0m\u001b[0mp\u001b[0m\u001b[0;34m.\u001b[0m\u001b[0mget_tokens\u001b[0m\u001b[0;34m(\u001b[0m\u001b[0;34m)\u001b[0m \u001b[0;32mfor\u001b[0m \u001b[0mp\u001b[0m \u001b[0;32min\u001b[0m \u001b[0msaved_hist\u001b[0m\u001b[0;34m[\u001b[0m\u001b[0mi\u001b[0m\u001b[0;34m]\u001b[0m\u001b[0;34m[\u001b[0m\u001b[0;36m0\u001b[0m\u001b[0;34m]\u001b[0m\u001b[0;34m]\u001b[0m\u001b[0;34m,\u001b[0m                     \u001b[0mc\u001b[0m\u001b[0;34m=\u001b[0m\u001b[0mcolors\u001b[0m\u001b[0;34m[\u001b[0m\u001b[0mi\u001b[0m\u001b[0;34m]\u001b[0m\u001b[0;34m,\u001b[0m \u001b[0ms\u001b[0m\u001b[0;34m=\u001b[0m\u001b[0ms\u001b[0m\u001b[0;34m,\u001b[0m \u001b[0mlabel\u001b[0m\u001b[0;34m=\u001b[0m\u001b[0mstr\u001b[0m\u001b[0;34m(\u001b[0m\u001b[0;34m(\u001b[0m\u001b[0mL\u001b[0m \u001b[0;34m+\u001b[0m \u001b[0mR\u001b[0m\u001b[0;34m)\u001b[0m \u001b[0;34m/\u001b[0m \u001b[0;36m2\u001b[0m\u001b[0;34m)\u001b[0m \u001b[0;34m+\u001b[0m \u001b[0;34m'th generation'\u001b[0m\u001b[0;34m)\u001b[0m\u001b[0;34m\u001b[0m\u001b[0m\n",
      "\u001b[0;31mNameError\u001b[0m: name 'saved_hist' is not defined"
     ]
    }
   ],
   "source": [
    "plt.figure(figsize=(8, 5))\n",
    "\n",
    "colors = cm.rainbow(np.linspace(0, 1, 76))\n",
    "\n",
    "L = 30\n",
    "R = 76\n",
    "s = 60\n",
    "\n",
    "for i in range(L, R):\n",
    "    if i == L:\n",
    "        plt.scatter(saved_hist[i][1], [p.get_tokens() for p in saved_hist[i][0]], \\\n",
    "                    c=colors[i], s=s, label=str(L) + 'th generation')\n",
    "    elif i == (L + R) / 2:\n",
    "        plt.scatter(saved_hist[i][1], [p.get_tokens() for p in saved_hist[i][0]], \\\n",
    "                    c=colors[i], s=s, label=str((L + R) / 2) + 'th generation')\n",
    "    elif i == R - 1:\n",
    "        plt.scatter(saved_hist[i][1], [p.get_tokens() for p in saved_hist[i][0]], \\\n",
    "                    c=colors[i], s=s, label=str(R - 1) + 'th generation')\n",
    "    else:\n",
    "        plt.scatter(saved_hist[i][1], [p.get_tokens() for p in saved_hist[i][0]], c=colors[i], s=s)\n",
    "    \n",
    "        \n",
    "plt.ylabel(\"complexity (vertex number)\", size=18)\n",
    "plt.xlabel(\"score on TREC7\", size=18)\n",
    "plt.grid()\n",
    "plt.ylim((5, 38))\n",
    "plt.legend(loc='upper left', fontsize=14)\n",
    "#plt.vlines(11.04, 5, 35)\n",
    "plt.show()"
   ]
  },
  {
   "cell_type": "code",
   "execution_count": 35,
   "metadata": {},
   "outputs": [
    {
     "name": "stdout",
     "output_type": "stream",
     "text": [
      "Query :  301\n",
      "Query :  302\n",
      "Query :  303\n",
      "Query :  304\n",
      "Query :  305\n",
      "Query :  306\n",
      "Query :  307\n",
      "Query :  308\n",
      "Query :  309\n",
      "Query :  310\n",
      "Query :  311\n",
      "Query :  312\n",
      "Query :  313\n",
      "Query :  314\n",
      "Query :  315\n",
      "Query :  316\n",
      "Query :  317\n",
      "Query :  319\n",
      "Query :  320\n",
      "Query :  321\n",
      "Query :  322\n",
      "Query :  323\n",
      "Query :  324\n",
      "Query :  325\n",
      "Query :  326\n",
      "Query :  327\n",
      "Query :  328\n",
      "Query :  329\n",
      "Query :  330\n",
      "Query :  331\n",
      "Query :  332\n",
      "Query :  333\n",
      "Query :  334\n",
      "Query :  335\n",
      "Query :  336\n",
      "Query :  337\n",
      "Query :  338\n",
      "Query :  339\n",
      "Query :  340\n",
      "Query :  341\n",
      "Query :  342\n",
      "Query :  343\n",
      "Query :  344\n",
      "Query :  345\n",
      "Query :  346\n",
      "Query :  347\n",
      "Query :  348\n",
      "Query :  349\n",
      "Query :  350\n"
     ]
    }
   ],
   "source": [
    "doc_ranks, queries, query_characteristics = receive_data.loadData(6)"
   ]
  },
  {
   "cell_type": "code",
   "execution_count": 1,
   "metadata": {},
   "outputs": [
    {
     "ename": "NameError",
     "evalue": "name 'tqdm' is not defined",
     "output_type": "error",
     "traceback": [
      "\u001b[0;31m---------------------------------------------------------------------------\u001b[0m",
      "\u001b[0;31mNameError\u001b[0m                                 Traceback (most recent call last)",
      "\u001b[0;32m<ipython-input-1-4562a5e982e0>\u001b[0m in \u001b[0;36m<module>\u001b[0;34m()\u001b[0m\n\u001b[1;32m      1\u001b[0m \u001b[0mvals6\u001b[0m \u001b[0;34m=\u001b[0m \u001b[0;34m[\u001b[0m\u001b[0;34m]\u001b[0m\u001b[0;34m\u001b[0m\u001b[0;34m\u001b[0m\u001b[0m\n\u001b[0;32m----> 2\u001b[0;31m \u001b[0;32mfor\u001b[0m \u001b[0mpop\u001b[0m \u001b[0;32min\u001b[0m \u001b[0mtqdm\u001b[0m\u001b[0;34m(\u001b[0m\u001b[0msaved_hist\u001b[0m\u001b[0;34m)\u001b[0m\u001b[0;34m:\u001b[0m\u001b[0;34m\u001b[0m\u001b[0;34m\u001b[0m\u001b[0m\n\u001b[0m\u001b[1;32m      3\u001b[0m     \u001b[0mvals6\u001b[0m\u001b[0;34m.\u001b[0m\u001b[0mappend\u001b[0m\u001b[0;34m(\u001b[0m\u001b[0mrank_population\u001b[0m\u001b[0;34m(\u001b[0m\u001b[0mpop\u001b[0m\u001b[0;34m[\u001b[0m\u001b[0;36m0\u001b[0m\u001b[0;34m]\u001b[0m\u001b[0;34m,\u001b[0m \u001b[0mdoc_ranks\u001b[0m\u001b[0;34m,\u001b[0m \u001b[0mqueries\u001b[0m\u001b[0;34m,\u001b[0m \u001b[0mquery_characteristics\u001b[0m\u001b[0;34m)\u001b[0m\u001b[0;34m)\u001b[0m\u001b[0;34m\u001b[0m\u001b[0;34m\u001b[0m\u001b[0m\n",
      "\u001b[0;31mNameError\u001b[0m: name 'tqdm' is not defined"
     ]
    }
   ],
   "source": [
    "vals6 = []\n",
    "for pop in tqdm(saved_hist):\n",
    "    vals6.append(rank_population(pop[0], doc_ranks, queries, query_characteristics))"
   ]
  },
  {
   "cell_type": "code",
   "execution_count": 37,
   "metadata": {
    "collapsed": true
   },
   "outputs": [],
   "source": [
    "save_object(vals6, \"score76_seed42\")"
   ]
  },
  {
   "cell_type": "code",
   "execution_count": 38,
   "metadata": {},
   "outputs": [
    {
     "ename": "NameError",
     "evalue": "name 'saved_hist' is not defined",
     "output_type": "error",
     "traceback": [
      "\u001b[0;31m---------------------------------------------------------------------------\u001b[0m",
      "\u001b[0;31mNameError\u001b[0m                                 Traceback (most recent call last)",
      "\u001b[0;32m<ipython-input-38-93f74e80436f>\u001b[0m in \u001b[0;36m<module>\u001b[0;34m()\u001b[0m\n\u001b[0;32m----> 1\u001b[0;31m \u001b[0mprint\u001b[0m \u001b[0;34m(\u001b[0m\u001b[0mlen\u001b[0m\u001b[0;34m(\u001b[0m\u001b[0msaved_hist\u001b[0m\u001b[0;34m)\u001b[0m\u001b[0;34m)\u001b[0m\u001b[0;34m\u001b[0m\u001b[0m\n\u001b[0m\u001b[1;32m      2\u001b[0m \u001b[0mplt\u001b[0m\u001b[0;34m.\u001b[0m\u001b[0mfigure\u001b[0m\u001b[0;34m(\u001b[0m\u001b[0mfigsize\u001b[0m\u001b[0;34m=\u001b[0m\u001b[0;34m(\u001b[0m\u001b[0;36m8\u001b[0m\u001b[0;34m,\u001b[0m \u001b[0;36m5\u001b[0m\u001b[0;34m)\u001b[0m\u001b[0;34m)\u001b[0m\u001b[0;34m\u001b[0m\u001b[0m\n\u001b[1;32m      3\u001b[0m \u001b[0;34m\u001b[0m\u001b[0m\n\u001b[1;32m      4\u001b[0m \u001b[0mcolors\u001b[0m \u001b[0;34m=\u001b[0m \u001b[0mcm\u001b[0m\u001b[0;34m.\u001b[0m\u001b[0mrainbow\u001b[0m\u001b[0;34m(\u001b[0m\u001b[0mnp\u001b[0m\u001b[0;34m.\u001b[0m\u001b[0mlinspace\u001b[0m\u001b[0;34m(\u001b[0m\u001b[0;36m0\u001b[0m\u001b[0;34m,\u001b[0m \u001b[0;36m1\u001b[0m\u001b[0;34m,\u001b[0m \u001b[0;36m76\u001b[0m\u001b[0;34m)\u001b[0m\u001b[0;34m)\u001b[0m\u001b[0;34m\u001b[0m\u001b[0m\n\u001b[1;32m      5\u001b[0m \u001b[0;34m\u001b[0m\u001b[0m\n",
      "\u001b[0;31mNameError\u001b[0m: name 'saved_hist' is not defined"
     ]
    }
   ],
   "source": [
    "print (len(saved_hist))\n",
    "plt.figure(figsize=(8, 5))\n",
    "\n",
    "colors = cm.rainbow(np.linspace(0, 1, 76))\n",
    "\n",
    "L = 20\n",
    "R = 76\n",
    "s = 60\n",
    "\n",
    "for i in range(L, R):\n",
    "    if i == L:\n",
    "        plt.scatter(vals6[i], [p.get_tokens() for p in saved_hist[i][0]], \\\n",
    "                    c=colors[i], s=s, label=str(L) + 'th generation')\n",
    "    elif i == (L + R) / 2:\n",
    "        plt.scatter(vals6[i], [p.get_tokens() for p in saved_hist[i][0]], \\\n",
    "                    c=colors[i], s=s, label=str((L + R) / 2) + 'th generation')\n",
    "    elif i == R - 1:\n",
    "        plt.scatter(vals6[i], [p.get_tokens() for p in saved_hist[i][0]], \\\n",
    "                    c=colors[i], s=s, label=str(R - 1) + 'th generation')\n",
    "    else:\n",
    "        plt.scatter(vals6[i], [p.get_tokens() for p in saved_hist[i][0]], c=colors[i], s=s)\n",
    "    \n",
    "plt.title(\"models trained on TREC7\", size=20)\n",
    "plt.ylabel(\"complexity (vertex number)\", size=18)\n",
    "plt.xlabel(\"score on TREC6\", size=18)\n",
    "plt.grid()\n",
    "plt.ylim((5, 38))\n",
    "plt.legend(loc='upper left', fontsize=14)\n",
    "#plt.vlines(11.04, 5, 35)\n",
    "plt.show()"
   ]
  },
  {
   "cell_type": "code",
   "execution_count": 39,
   "metadata": {},
   "outputs": [
    {
     "ename": "NameError",
     "evalue": "name 'saved_hist' is not defined",
     "output_type": "error",
     "traceback": [
      "\u001b[0;31m---------------------------------------------------------------------------\u001b[0m",
      "\u001b[0;31mNameError\u001b[0m                                 Traceback (most recent call last)",
      "\u001b[0;32m<ipython-input-39-6c1a22f3be7b>\u001b[0m in \u001b[0;36m<module>\u001b[0;34m()\u001b[0m\n\u001b[0;32m----> 1\u001b[0;31m \u001b[0mprint\u001b[0m \u001b[0;34m(\u001b[0m\u001b[0mlen\u001b[0m\u001b[0;34m(\u001b[0m\u001b[0msaved_hist\u001b[0m\u001b[0;34m)\u001b[0m\u001b[0;34m)\u001b[0m\u001b[0;34m\u001b[0m\u001b[0m\n\u001b[0m\u001b[1;32m      2\u001b[0m \u001b[0mplt\u001b[0m\u001b[0;34m.\u001b[0m\u001b[0mfigure\u001b[0m\u001b[0;34m(\u001b[0m\u001b[0mfigsize\u001b[0m\u001b[0;34m=\u001b[0m\u001b[0;34m(\u001b[0m\u001b[0;36m8\u001b[0m\u001b[0;34m,\u001b[0m \u001b[0;36m5\u001b[0m\u001b[0;34m)\u001b[0m\u001b[0;34m)\u001b[0m\u001b[0;34m\u001b[0m\u001b[0m\n\u001b[1;32m      3\u001b[0m \u001b[0;34m\u001b[0m\u001b[0m\n\u001b[1;32m      4\u001b[0m \u001b[0mcolors\u001b[0m \u001b[0;34m=\u001b[0m \u001b[0mcm\u001b[0m\u001b[0;34m.\u001b[0m\u001b[0mrainbow\u001b[0m\u001b[0;34m(\u001b[0m\u001b[0mnp\u001b[0m\u001b[0;34m.\u001b[0m\u001b[0mlinspace\u001b[0m\u001b[0;34m(\u001b[0m\u001b[0;36m0\u001b[0m\u001b[0;34m,\u001b[0m \u001b[0;36m1\u001b[0m\u001b[0;34m,\u001b[0m \u001b[0;36m76\u001b[0m\u001b[0;34m)\u001b[0m\u001b[0;34m)\u001b[0m\u001b[0;34m\u001b[0m\u001b[0m\n\u001b[1;32m      5\u001b[0m \u001b[0;34m\u001b[0m\u001b[0m\n",
      "\u001b[0;31mNameError\u001b[0m: name 'saved_hist' is not defined"
     ]
    }
   ],
   "source": [
    "print (len(saved_hist))\n",
    "plt.figure(figsize=(8, 5))\n",
    "\n",
    "colors = cm.rainbow(np.linspace(0, 1, 76))\n",
    "\n",
    "L = 20\n",
    "R = 76\n",
    "s = 60\n",
    "\n",
    "for i in range(L, R):\n",
    "    if i == L:\n",
    "        plt.scatter(vals6[i], saved_hist[i][1], \\\n",
    "                    c=colors[i], s=s, label=str(L) + 'th generation')\n",
    "    elif i == (L + R) / 2:\n",
    "        plt.scatter(vals6[i], saved_hist[i][1], \\\n",
    "                    c=colors[i], s=s, label=str((L + R) / 2) + 'th generation')\n",
    "    elif i == R - 1:\n",
    "        plt.scatter(vals6[i], saved_hist[i][1], \\\n",
    "                    c=colors[i], s=s, label=str(R - 1) + 'th generation')\n",
    "    else:\n",
    "        plt.scatter(vals6[i], saved_hist[i][1], c=colors[i], s=s)\n",
    "    \n",
    "plt.title(\"models trained on TREC7\", size=20)\n",
    "plt.ylabel(\"score on TREC7\", size=18)\n",
    "plt.xlabel(\"score on TREC6\", size=18)\n",
    "plt.grid()\n",
    "#plt.ylim((5, 38))\n",
    "plt.legend(loc='upper left', fontsize=14)\n",
    "#plt.vlines(11.04, 5, 35)\n",
    "plt.show()"
   ]
  },
  {
   "cell_type": "code",
   "execution_count": 40,
   "metadata": {
    "collapsed": true
   },
   "outputs": [],
   "source": [
    "from primitive import Primitive\n",
    "#from Levenshtein import distance as leven_dist\n",
    "\n",
    "# consts for hashing\n",
    "P = 10003\n",
    "MOD = int(1e9 + 7)\n",
    "\n",
    "\n",
    "def check_commutativity(primitive):\n",
    "    if primitive.str in [\"add\", \"multiply\"]:\n",
    "        if hash(primitive.nodes[1]) > hash(primitive.nodes[0]):\n",
    "            primitive.nodes = primitive.nodes[::-1]\n",
    "\n",
    "\n",
    "def list_nodes_with_hashes(primitive):\n",
    "    ans = []\n",
    "    hash_ = hash(primitive.str) % MOD\n",
    "\n",
    "    check_commutativity(primitive)\n",
    "\n",
    "    for node in primitive.nodes:\n",
    "        list_nodes = list_nodes_with_hashes(node)\n",
    "        hash_ *= P\n",
    "        hash_ += list_nodes[-1][1]\n",
    "        hash_ %= MOD\n",
    "        ans += list_nodes\n",
    "\n",
    "    ans.append((primitive, hash_))\n",
    "    \n",
    "    return ans\n",
    "\n",
    "\n",
    "def compare(p1, p2):\n",
    "    if p1.str != p2.str:\n",
    "        return False\n",
    "\n",
    "    check_commutativity(p1)\n",
    "    check_commutativity(p2) \n",
    "\n",
    "    for l, r in zip(p1.nodes, p2.nodes):\n",
    "        if not compare(l, r):\n",
    "            return False\n",
    "\n",
    "    return True\n",
    "\n",
    "\n",
    "def get_first_structural_distance(p1, p2):\n",
    "\n",
    "    nodes1 = list_nodes_with_hashes(p1)\n",
    "    nodes2 = list_nodes_with_hashes(p2)\n",
    "    \n",
    "    max_same_part = 0\n",
    "    \n",
    "    for n1 in nodes1:\n",
    "        for n2 in nodes2:\n",
    "            if n1[1] == n2[1] and compare(n1[0], n2[0]):\n",
    "                max_same_part = max(max_same_part, n1[0].get_tokens())\n",
    "\n",
    "    return p1.get_tokens() + p2.get_tokens() - 2 * max_same_part\n",
    "\n",
    "\n",
    "def get_second_structural_distance(p1, p2):\n",
    "    w1 = p1.get_str_representation()\n",
    "    w2 = p2.get_str_representation()\n",
    "    #return leven_dist(w1, w2)\n"
   ]
  },
  {
   "cell_type": "code",
   "execution_count": 41,
   "metadata": {},
   "outputs": [
    {
     "ename": "NameError",
     "evalue": "name 'saved_hist' is not defined",
     "output_type": "error",
     "traceback": [
      "\u001b[0;31m---------------------------------------------------------------------------\u001b[0m",
      "\u001b[0;31mNameError\u001b[0m                                 Traceback (most recent call last)",
      "\u001b[0;32m<ipython-input-41-63506cf9c60c>\u001b[0m in \u001b[0;36m<module>\u001b[0;34m()\u001b[0m\n\u001b[0;32m----> 1\u001b[0;31m \u001b[0mprint\u001b[0m \u001b[0;34m(\u001b[0m\u001b[0mlen\u001b[0m\u001b[0;34m(\u001b[0m\u001b[0msaved_hist\u001b[0m\u001b[0;34m)\u001b[0m\u001b[0;34m)\u001b[0m\u001b[0;34m\u001b[0m\u001b[0m\n\u001b[0m\u001b[1;32m      2\u001b[0m \u001b[0mplt\u001b[0m\u001b[0;34m.\u001b[0m\u001b[0mfigure\u001b[0m\u001b[0;34m(\u001b[0m\u001b[0mfigsize\u001b[0m\u001b[0;34m=\u001b[0m\u001b[0;34m(\u001b[0m\u001b[0;36m8\u001b[0m\u001b[0;34m,\u001b[0m \u001b[0;36m5\u001b[0m\u001b[0;34m)\u001b[0m\u001b[0;34m)\u001b[0m\u001b[0;34m\u001b[0m\u001b[0m\n\u001b[1;32m      3\u001b[0m \u001b[0;34m\u001b[0m\u001b[0m\n\u001b[1;32m      4\u001b[0m \u001b[0mcolors\u001b[0m \u001b[0;34m=\u001b[0m \u001b[0mcm\u001b[0m\u001b[0;34m.\u001b[0m\u001b[0mrainbow\u001b[0m\u001b[0;34m(\u001b[0m\u001b[0mnp\u001b[0m\u001b[0;34m.\u001b[0m\u001b[0mlinspace\u001b[0m\u001b[0;34m(\u001b[0m\u001b[0;36m0\u001b[0m\u001b[0;34m,\u001b[0m \u001b[0;36m1\u001b[0m\u001b[0;34m,\u001b[0m \u001b[0;36m76\u001b[0m\u001b[0;34m)\u001b[0m\u001b[0;34m)\u001b[0m\u001b[0;34m\u001b[0m\u001b[0m\n\u001b[1;32m      5\u001b[0m \u001b[0;34m\u001b[0m\u001b[0m\n",
      "\u001b[0;31mNameError\u001b[0m: name 'saved_hist' is not defined"
     ]
    }
   ],
   "source": [
    "print (len(saved_hist))\n",
    "plt.figure(figsize=(8, 5))\n",
    "\n",
    "colors = cm.rainbow(np.linspace(0, 1, 76))\n",
    "\n",
    "L = 20\n",
    "R = 76\n",
    "s = 60\n",
    "\n",
    "dists = []\n",
    "for i in tqdm(range(L, R)):\n",
    "    dist = []\n",
    "    for tr1 in saved_hist[i][0]:\n",
    "        for tr2 in saved_hist[i][0]:\n",
    "            dist.append(get_first_structural_distance(tr1, tr2))\n",
    "    dists.append(dist)\n",
    "    \n",
    "plt.plot([max(dist) for dist in dists])\n",
    "plt.plot([sum(dist) / len(dist) for dist in dists])\n",
    "    \n",
    "plt.grid()\n",
    "plt.show()"
   ]
  },
  {
   "cell_type": "code",
   "execution_count": 42,
   "metadata": {},
   "outputs": [
    {
     "ename": "NameError",
     "evalue": "name 'saved_hist' is not defined",
     "output_type": "error",
     "traceback": [
      "\u001b[0;31m---------------------------------------------------------------------------\u001b[0m",
      "\u001b[0;31mNameError\u001b[0m                                 Traceback (most recent call last)",
      "\u001b[0;32m<ipython-input-42-5ea7fa2f8df8>\u001b[0m in \u001b[0;36m<module>\u001b[0;34m()\u001b[0m\n\u001b[0;32m----> 1\u001b[0;31m \u001b[0mprint\u001b[0m \u001b[0;34m(\u001b[0m\u001b[0mlen\u001b[0m\u001b[0;34m(\u001b[0m\u001b[0msaved_hist\u001b[0m\u001b[0;34m)\u001b[0m\u001b[0;34m)\u001b[0m\u001b[0;34m\u001b[0m\u001b[0m\n\u001b[0m\u001b[1;32m      2\u001b[0m \u001b[0mplt\u001b[0m\u001b[0;34m.\u001b[0m\u001b[0mfigure\u001b[0m\u001b[0;34m(\u001b[0m\u001b[0mfigsize\u001b[0m\u001b[0;34m=\u001b[0m\u001b[0;34m(\u001b[0m\u001b[0;36m8\u001b[0m\u001b[0;34m,\u001b[0m \u001b[0;36m5\u001b[0m\u001b[0;34m)\u001b[0m\u001b[0;34m)\u001b[0m\u001b[0;34m\u001b[0m\u001b[0m\n\u001b[1;32m      3\u001b[0m \u001b[0;34m\u001b[0m\u001b[0m\n\u001b[1;32m      4\u001b[0m \u001b[0mcolors\u001b[0m \u001b[0;34m=\u001b[0m \u001b[0mcm\u001b[0m\u001b[0;34m.\u001b[0m\u001b[0mrainbow\u001b[0m\u001b[0;34m(\u001b[0m\u001b[0mnp\u001b[0m\u001b[0;34m.\u001b[0m\u001b[0mlinspace\u001b[0m\u001b[0;34m(\u001b[0m\u001b[0;36m0\u001b[0m\u001b[0;34m,\u001b[0m \u001b[0;36m1\u001b[0m\u001b[0;34m,\u001b[0m \u001b[0;36m76\u001b[0m\u001b[0;34m)\u001b[0m\u001b[0;34m)\u001b[0m\u001b[0;34m\u001b[0m\u001b[0m\n\u001b[1;32m      5\u001b[0m \u001b[0;34m\u001b[0m\u001b[0m\n",
      "\u001b[0;31mNameError\u001b[0m: name 'saved_hist' is not defined"
     ]
    }
   ],
   "source": [
    "print (len(saved_hist))\n",
    "plt.figure(figsize=(8, 5))\n",
    "\n",
    "colors = cm.rainbow(np.linspace(0, 1, 76))\n",
    "\n",
    "L = 20\n",
    "R = 76\n",
    "s = 60\n",
    "    \n",
    "plt.plot(range(L, R), [max(dist) for dist in dists], label=\"max\")\n",
    "plt.plot(range(L, R), [sum(dist) / len(dist) for dist in dists], label=\"avg\")\n",
    "\n",
    "plt.title(\"models trained on TREC7\", size=20)\n",
    "plt.ylabel(\"structural distance v1\", size=18)\n",
    "plt.xlabel(\"generation\", size=18)\n",
    "plt.grid()\n",
    "#plt.ylim((5, 38))\n",
    "plt.legend(loc='upper right', fontsize=14)\n",
    "#plt.vlines(11.04, 5, 35)\n",
    "\n",
    "plt.show()\n"
   ]
  },
  {
   "cell_type": "code",
   "execution_count": 43,
   "metadata": {},
   "outputs": [
    {
     "name": "stdout",
     "output_type": "stream",
     "text": [
      "Python 3.6.7\r\n"
     ]
    }
   ],
   "source": [
    "! python --version\n"
   ]
  },
  {
   "cell_type": "code",
   "execution_count": 44,
   "metadata": {},
   "outputs": [
    {
     "ename": "NameError",
     "evalue": "name 'saved_hist' is not defined",
     "output_type": "error",
     "traceback": [
      "\u001b[0;31m---------------------------------------------------------------------------\u001b[0m",
      "\u001b[0;31mNameError\u001b[0m                                 Traceback (most recent call last)",
      "\u001b[0;32m<ipython-input-44-6839d58812b7>\u001b[0m in \u001b[0;36m<module>\u001b[0;34m()\u001b[0m\n\u001b[0;32m----> 1\u001b[0;31m \u001b[0mprint\u001b[0m \u001b[0;34m(\u001b[0m\u001b[0mlen\u001b[0m\u001b[0;34m(\u001b[0m\u001b[0msaved_hist\u001b[0m\u001b[0;34m)\u001b[0m\u001b[0;34m)\u001b[0m\u001b[0;34m\u001b[0m\u001b[0m\n\u001b[0m\u001b[1;32m      2\u001b[0m \u001b[0mplt\u001b[0m\u001b[0;34m.\u001b[0m\u001b[0mfigure\u001b[0m\u001b[0;34m(\u001b[0m\u001b[0mfigsize\u001b[0m\u001b[0;34m=\u001b[0m\u001b[0;34m(\u001b[0m\u001b[0;36m15\u001b[0m\u001b[0;34m,\u001b[0m \u001b[0;36m10\u001b[0m\u001b[0;34m)\u001b[0m\u001b[0;34m)\u001b[0m\u001b[0;34m\u001b[0m\u001b[0m\n\u001b[1;32m      3\u001b[0m \u001b[0;32mfor\u001b[0m \u001b[0;34m(\u001b[0m\u001b[0mpop\u001b[0m\u001b[0;34m,\u001b[0m \u001b[0mval\u001b[0m\u001b[0;34m)\u001b[0m \u001b[0;32min\u001b[0m \u001b[0msaved_hist\u001b[0m\u001b[0;34m:\u001b[0m\u001b[0;31m#[14:40]:\u001b[0m\u001b[0;34m\u001b[0m\u001b[0m\n\u001b[1;32m      4\u001b[0m     \u001b[0mplt\u001b[0m\u001b[0;34m.\u001b[0m\u001b[0mscatter\u001b[0m\u001b[0;34m(\u001b[0m\u001b[0mval\u001b[0m\u001b[0;34m,\u001b[0m \u001b[0;34m[\u001b[0m\u001b[0mp\u001b[0m\u001b[0;34m.\u001b[0m\u001b[0mget_tokens\u001b[0m\u001b[0;34m(\u001b[0m\u001b[0;34m)\u001b[0m \u001b[0;32mfor\u001b[0m \u001b[0mp\u001b[0m \u001b[0;32min\u001b[0m \u001b[0mpop\u001b[0m\u001b[0;34m]\u001b[0m\u001b[0;34m)\u001b[0m\u001b[0;34m\u001b[0m\u001b[0m\n\u001b[1;32m      5\u001b[0m \u001b[0mplt\u001b[0m\u001b[0;34m.\u001b[0m\u001b[0mgrid\u001b[0m\u001b[0;34m(\u001b[0m\u001b[0;34m)\u001b[0m\u001b[0;34m\u001b[0m\u001b[0m\n",
      "\u001b[0;31mNameError\u001b[0m: name 'saved_hist' is not defined"
     ]
    }
   ],
   "source": [
    "print (len(saved_hist))\n",
    "plt.figure(figsize=(15, 10))\n",
    "for (pop, val) in saved_hist:#[14:40]:\n",
    "    plt.scatter(val, [p.get_tokens() for p in pop])\n",
    "plt.grid()\n",
    "#for i in range(10):\n",
    "#    plt.plot([0, 14], [])\n",
    "plt.show()"
   ]
  },
  {
   "cell_type": "code",
   "execution_count": null,
   "metadata": {
    "collapsed": true
   },
   "outputs": [],
   "source": []
  },
  {
   "cell_type": "code",
   "execution_count": null,
   "metadata": {
    "collapsed": true
   },
   "outputs": [],
   "source": []
  },
  {
   "cell_type": "code",
   "execution_count": 26,
   "metadata": {
    "scrolled": false
   },
   "outputs": [
    {
     "name": "stdout",
     "output_type": "stream",
     "text": [
      "0 13.9469004007 log(add(add(divide(tf, idf), log(Sqrt(tf))), divide(substract(substract(substract(divide(add(add(divide(tf, idf), log(Sqrt(tf))), divide(substract(substract(substract(divide(divide(tf, idf), exp(tf)), substract(Sqrt(tf), idf)), exp(tf)), exp(tf)), exp(idf))), exp(tf)), substract(substract(idf, tf), substract(divide(idf, divide(exp(idf), add(add(multiply(idf, substract(tf, tf)), add(exp(tf), Sqrt(substract(substract(divide(log(add(idf, tf)), idf), idf), exp(tf))))), divide(substract(substract(substract(substract(divide(log(add(idf, tf)), idf), idf), log(divide(idf, exp(tf)))), idf), exp(tf)), exp(idf))))), idf))), exp(idf)), idf), exp(idf))))\n",
      "\n",
      "\n",
      "\n",
      "1 13.9421155109 log(add(add(divide(tf, idf), log(Sqrt(tf))), divide(substract(substract(substract(divide(add(add(divide(tf, idf), log(Sqrt(tf))), divide(substract(substract(substract(divide(divide(tf, idf), exp(tf)), substract(substract(exp(idf), idf), idf)), exp(tf)), exp(tf)), exp(idf))), exp(tf)), substract(substract(idf, tf), substract(divide(idf, divide(exp(idf), add(Sqrt(tf), divide(substract(substract(substract(substract(divide(log(add(idf, tf)), idf), idf), log(tf)), idf), exp(tf)), exp(idf))))), idf))), exp(tf)), exp(tf)), exp(idf))))\n",
      "\n",
      "\n",
      "\n",
      "2 13.9413401856 log(add(add(divide(tf, idf), log(Sqrt(tf))), divide(substract(substract(substract(divide(add(add(divide(tf, idf), log(Sqrt(tf))), divide(substract(substract(substract(divide(divide(tf, idf), exp(tf)), add(idf, tf)), exp(tf)), exp(tf)), exp(idf))), exp(tf)), substract(Sqrt(idf), substract(divide(idf, divide(exp(idf), add(add(multiply(idf, substract(tf, tf)), Sqrt(Sqrt(Sqrt(idf)))), divide(substract(substract(substract(substract(divide(log(add(idf, tf)), idf), idf), exp(tf)), idf), exp(tf)), exp(idf))))), idf))), exp(tf)), exp(tf)), exp(idf))))\n",
      "\n",
      "\n",
      "\n",
      "3 13.9412736605 log(add(add(divide(tf, idf), log(Sqrt(tf))), divide(substract(substract(substract(divide(add(add(divide(tf, idf), log(Sqrt(tf))), divide(substract(substract(substract(divide(divide(tf, idf), exp(tf)), substract(Sqrt(tf), idf)), exp(tf)), exp(tf)), exp(idf))), exp(tf)), substract(substract(idf, tf), substract(divide(idf, divide(exp(idf), add(add(multiply(idf, substract(tf, tf)), Sqrt(Sqrt(Sqrt(idf)))), divide(substract(substract(substract(substract(divide(log(Sqrt(tf)), idf), idf), exp(tf)), idf), exp(tf)), exp(idf))))), Sqrt(tf)))), exp(tf)), exp(tf)), exp(idf))))\n",
      "\n",
      "\n",
      "\n",
      "4 13.9412462385 log(add(add(divide(tf, idf), log(Sqrt(tf))), divide(substract(substract(substract(divide(add(add(divide(tf, idf), log(Sqrt(tf))), divide(substract(substract(substract(divide(divide(tf, idf), exp(tf)), substract(Sqrt(tf), idf)), exp(tf)), exp(tf)), exp(idf))), exp(tf)), substract(substract(idf, tf), substract(divide(idf, divide(exp(idf), add(add(multiply(idf, substract(tf, tf)), Sqrt(Sqrt(Sqrt(idf)))), divide(substract(substract(substract(substract(divide(log(add(idf, tf)), idf), idf), exp(tf)), idf), exp(tf)), exp(idf))))), idf))), exp(tf)), exp(tf)), exp(idf))))\n",
      "\n",
      "\n",
      "\n",
      "5 13.9412462385 log(add(add(divide(tf, idf), log(Sqrt(tf))), divide(substract(substract(substract(divide(add(add(divide(tf, idf), log(Sqrt(tf))), divide(substract(substract(substract(divide(divide(tf, idf), exp(tf)), substract(Sqrt(tf), idf)), exp(tf)), exp(tf)), exp(idf))), exp(tf)), substract(substract(idf, tf), substract(divide(idf, divide(exp(idf), add(add(multiply(idf, substract(tf, tf)), Sqrt(Sqrt(Sqrt(idf)))), divide(substract(substract(substract(substract(divide(log(add(idf, tf)), idf), idf), exp(tf)), idf), exp(tf)), exp(idf))))), idf))), exp(tf)), exp(tf)), exp(idf))))\n",
      "\n",
      "\n",
      "\n",
      "6 13.9412462385 log(add(add(divide(tf, idf), log(Sqrt(tf))), divide(substract(substract(substract(divide(add(add(divide(tf, idf), log(Sqrt(tf))), divide(substract(substract(substract(divide(divide(tf, idf), exp(tf)), substract(Sqrt(tf), idf)), exp(tf)), exp(tf)), exp(idf))), exp(tf)), substract(substract(idf, tf), substract(divide(idf, divide(exp(idf), add(add(multiply(idf, substract(tf, tf)), Sqrt(Sqrt(Sqrt(idf)))), divide(substract(substract(substract(substract(divide(log(add(idf, tf)), idf), idf), exp(tf)), idf), exp(tf)), exp(idf))))), idf))), exp(tf)), exp(tf)), exp(idf))))\n",
      "\n",
      "\n",
      "\n",
      "7 13.9412462385 log(add(add(divide(tf, idf), log(Sqrt(tf))), divide(substract(substract(substract(divide(add(add(divide(tf, idf), log(Sqrt(tf))), divide(substract(substract(substract(divide(divide(tf, idf), exp(tf)), substract(Sqrt(tf), idf)), exp(tf)), exp(tf)), exp(idf))), exp(tf)), substract(substract(idf, tf), substract(divide(idf, divide(exp(idf), add(add(multiply(idf, substract(tf, tf)), Sqrt(Sqrt(Sqrt(idf)))), divide(substract(substract(substract(substract(divide(log(add(idf, tf)), idf), idf), exp(tf)), idf), exp(tf)), exp(idf))))), idf))), exp(tf)), exp(tf)), exp(idf))))\n",
      "\n",
      "\n",
      "\n",
      "8 13.9412462385 log(add(add(divide(tf, idf), log(Sqrt(tf))), divide(substract(substract(substract(divide(add(add(divide(tf, idf), log(Sqrt(tf))), divide(substract(substract(substract(divide(divide(tf, idf), exp(tf)), substract(Sqrt(tf), idf)), exp(tf)), exp(tf)), exp(idf))), exp(tf)), substract(substract(idf, tf), substract(divide(idf, divide(exp(idf), add(add(multiply(idf, substract(tf, tf)), Sqrt(Sqrt(Sqrt(idf)))), divide(substract(substract(substract(substract(divide(log(add(idf, tf)), idf), idf), exp(tf)), idf), exp(tf)), exp(idf))))), idf))), exp(tf)), exp(tf)), exp(idf))))\n",
      "\n",
      "\n",
      "\n",
      "9 13.9412423484 log(add(add(divide(tf, idf), log(Sqrt(tf))), divide(substract(substract(substract(divide(add(add(divide(tf, idf), log(Sqrt(tf))), divide(substract(substract(substract(divide(divide(tf, idf), exp(tf)), substract(Sqrt(tf), idf)), exp(tf)), exp(tf)), exp(idf))), exp(tf)), substract(substract(idf, tf), substract(divide(idf, divide(exp(idf), add(add(multiply(idf, substract(tf, tf)), Sqrt(Sqrt(Sqrt(idf)))), divide(substract(substract(substract(substract(divide(log(add(idf, tf)), idf), idf), exp(tf)), tf), exp(tf)), exp(idf))))), idf))), exp(tf)), exp(tf)), exp(idf))))\n",
      "\n",
      "\n",
      "\n",
      "10 13.9412307387 log(add(add(divide(tf, idf), log(Sqrt(add(substract(add(idf, tf), idf), tf)))), divide(substract(substract(substract(divide(add(add(divide(tf, idf), log(Sqrt(tf))), divide(substract(substract(substract(divide(divide(tf, idf), exp(tf)), substract(Sqrt(tf), idf)), exp(tf)), exp(tf)), exp(idf))), exp(tf)), substract(substract(idf, tf), substract(divide(idf, divide(exp(idf), add(add(multiply(idf, substract(tf, tf)), Sqrt(Sqrt(Sqrt(idf)))), divide(substract(substract(substract(substract(divide(log(add(idf, tf)), idf), idf), exp(tf)), idf), exp(tf)), exp(idf))))), idf))), exp(tf)), exp(tf)), exp(idf))))\n",
      "\n",
      "\n",
      "\n",
      "11 13.9412262525 log(add(add(divide(tf, idf), log(Sqrt(tf))), divide(substract(substract(substract(divide(add(add(divide(tf, idf), log(Sqrt(tf))), divide(substract(substract(substract(divide(divide(tf, idf), exp(tf)), substract(Sqrt(tf), idf)), exp(tf)), exp(idf)), exp(idf))), exp(tf)), substract(substract(idf, tf), substract(divide(idf, divide(exp(idf), add(add(multiply(idf, substract(tf, tf)), Sqrt(Sqrt(Sqrt(idf)))), divide(substract(substract(substract(substract(divide(log(add(idf, tf)), idf), idf), exp(tf)), idf), exp(tf)), exp(idf))))), idf))), exp(tf)), exp(tf)), exp(idf))))\n",
      "\n",
      "\n",
      "\n",
      "12 13.9412239888 log(add(add(divide(tf, idf), log(Sqrt(tf))), divide(substract(substract(substract(divide(add(add(divide(tf, idf), log(Sqrt(tf))), divide(substract(substract(substract(divide(divide(tf, idf), exp(tf)), substract(Sqrt(tf), idf)), exp(tf)), exp(idf)), exp(idf))), exp(tf)), substract(substract(idf, tf), substract(divide(idf, divide(exp(idf), add(add(multiply(idf, substract(tf, tf)), Sqrt(Sqrt(add(add(divide(tf, idf), log(Sqrt(tf))), divide(substract(substract(substract(divide(add(add(divide(tf, idf), log(substract(tf, tf))), divide(substract(substract(substract(divide(divide(tf, idf), exp(tf)), substract(tf, idf)), exp(tf)), exp(tf)), exp(idf))), exp(tf)), substract(substract(idf, tf), substract(multiply(idf, tf), idf))), exp(tf)), exp(tf)), exp(idf)))))), divide(substract(substract(substract(substract(divide(log(add(idf, tf)), idf), idf), log(idf)), idf), exp(tf)), exp(idf))))), idf))), exp(tf)), exp(tf)), exp(idf))))\n",
      "\n",
      "\n",
      "\n",
      "13 13.9412130764 log(add(add(divide(tf, idf), log(Sqrt(tf))), divide(substract(substract(substract(divide(add(add(divide(tf, idf), log(Sqrt(tf))), divide(substract(substract(substract(divide(divide(tf, idf), exp(tf)), substract(Sqrt(tf), idf)), exp(tf)), exp(log(tf))), exp(idf))), exp(tf)), substract(substract(idf, tf), substract(divide(idf, divide(exp(idf), add(add(multiply(idf, substract(tf, tf)), Sqrt(Sqrt(Sqrt(idf)))), divide(substract(substract(substract(substract(divide(log(add(idf, tf)), idf), idf), exp(tf)), idf), exp(tf)), exp(idf))))), idf))), exp(tf)), exp(tf)), exp(idf))))\n",
      "\n",
      "\n",
      "\n",
      "14 13.9412114323 log(add(add(divide(tf, idf), log(Sqrt(tf))), divide(substract(substract(substract(divide(add(add(divide(tf, idf), log(Sqrt(tf))), divide(substract(substract(substract(divide(divide(tf, idf), exp(tf)), substract(Sqrt(tf), idf)), exp(tf)), exp(tf)), exp(idf))), exp(tf)), substract(substract(idf, tf), substract(divide(idf, divide(exp(idf), add(add(multiply(idf, exp(tf)), Sqrt(Sqrt(Sqrt(idf)))), divide(substract(substract(substract(substract(log(exp(idf)), idf), exp(tf)), idf), exp(tf)), exp(idf))))), idf))), exp(tf)), exp(tf)), exp(idf))))\n",
      "\n",
      "\n",
      "\n",
      "15 13.9411735158 log(add(add(divide(tf, idf), log(Sqrt(tf))), divide(substract(substract(substract(divide(add(add(divide(tf, idf), log(Sqrt(tf))), divide(substract(substract(substract(divide(divide(tf, idf), exp(tf)), substract(Sqrt(tf), idf)), exp(tf)), exp(tf)), exp(idf))), exp(tf)), substract(substract(idf, tf), substract(divide(idf, divide(exp(idf), add(add(multiply(idf, substract(tf, tf)), Sqrt(Sqrt(Sqrt(idf)))), divide(substract(substract(substract(substract(divide(log(add(idf, tf)), idf), idf), log(divide(idf, tf))), idf), exp(tf)), exp(idf))))), idf))), exp(tf)), exp(tf)), exp(idf))))\n",
      "\n",
      "\n",
      "\n",
      "16 13.9411735158 log(add(add(divide(tf, idf), log(Sqrt(tf))), divide(substract(substract(substract(divide(add(add(divide(tf, idf), log(Sqrt(tf))), divide(substract(substract(substract(divide(divide(tf, idf), exp(tf)), substract(Sqrt(tf), idf)), exp(tf)), exp(tf)), exp(idf))), exp(tf)), substract(substract(idf, tf), substract(divide(idf, divide(exp(idf), add(add(multiply(idf, substract(tf, tf)), Sqrt(Sqrt(Sqrt(idf)))), divide(substract(substract(substract(substract(divide(log(add(idf, tf)), idf), idf), log(tf)), idf), exp(tf)), exp(idf))))), idf))), exp(tf)), exp(tf)), exp(idf))))\n",
      "\n",
      "\n",
      "\n",
      "17 13.9411735158 log(add(add(divide(tf, idf), log(Sqrt(tf))), divide(substract(substract(substract(divide(add(add(divide(tf, idf), log(Sqrt(tf))), divide(substract(substract(substract(divide(divide(tf, idf), exp(tf)), substract(Sqrt(tf), idf)), exp(tf)), exp(tf)), exp(idf))), exp(tf)), substract(substract(idf, tf), substract(divide(idf, divide(exp(idf), add(add(multiply(idf, substract(tf, tf)), Sqrt(Sqrt(Sqrt(idf)))), divide(substract(substract(substract(substract(divide(log(add(idf, tf)), idf), idf), add(divide(tf, exp(divide(idf, add(tf, idf)))), log(Sqrt(tf)))), idf), exp(tf)), exp(idf))))), idf))), exp(tf)), exp(tf)), exp(idf))))\n",
      "\n",
      "\n",
      "\n",
      "18 13.9411685121 log(add(add(divide(tf, idf), log(Sqrt(tf))), divide(substract(substract(substract(divide(add(add(divide(tf, idf), log(Sqrt(tf))), divide(substract(substract(substract(divide(divide(tf, idf), exp(tf)), substract(Sqrt(tf), idf)), exp(tf)), exp(tf)), exp(idf))), exp(tf)), substract(substract(idf, tf), substract(multiply(idf, tf), idf))), exp(tf)), exp(tf)), exp(idf))))\n",
      "\n",
      "\n",
      "\n",
      "19 13.9411358495 log(add(add(divide(tf, idf), log(Sqrt(tf))), divide(substract(substract(substract(divide(add(add(divide(tf, idf), log(Sqrt(tf))), divide(substract(substract(substract(divide(divide(tf, idf), exp(tf)), substract(idf, idf)), exp(tf)), exp(tf)), exp(idf))), exp(tf)), substract(substract(idf, tf), substract(divide(idf, divide(exp(idf), add(add(multiply(idf, substract(tf, tf)), Sqrt(Sqrt(Sqrt(idf)))), divide(substract(substract(Sqrt(log(tf)), add(idf, idf)), exp(tf)), exp(idf))))), idf))), exp(tf)), exp(tf)), exp(idf))))\n",
      "\n",
      "\n",
      "\n",
      "20 13.9411204212 log(add(add(divide(tf, idf), log(Sqrt(tf))), divide(substract(substract(substract(divide(add(add(divide(tf, idf), log(substract(tf, tf))), divide(substract(substract(substract(divide(divide(tf, idf), exp(tf)), substract(tf, tf)), exp(tf)), exp(tf)), exp(idf))), exp(tf)), substract(substract(idf, tf), substract(multiply(idf, Sqrt(idf)), idf))), exp(tf)), exp(tf)), exp(idf))))\n",
      "\n",
      "\n",
      "\n",
      "21 13.9411036355 log(add(add(divide(tf, idf), log(Sqrt(tf))), divide(substract(substract(substract(divide(add(add(divide(tf, idf), Sqrt(tf)), divide(substract(substract(substract(divide(divide(tf, idf), exp(tf)), substract(Sqrt(tf), idf)), exp(tf)), exp(tf)), exp(idf))), exp(tf)), substract(substract(idf, tf), substract(divide(idf, divide(exp(idf), add(add(multiply(idf, substract(tf, tf)), Sqrt(Sqrt(Sqrt(substract(Sqrt(tf), idf))))), divide(substract(substract(substract(substract(divide(log(add(idf, tf)), idf), idf), log(divide(idf, tf))), idf), exp(tf)), exp(idf))))), idf))), exp(tf)), exp(tf)), exp(idf))))\n",
      "\n",
      "\n",
      "\n",
      "22 13.9410986192 log(add(add(divide(tf, idf), log(Sqrt(tf))), divide(substract(substract(substract(divide(add(add(divide(tf, idf), log(substract(tf, tf))), divide(substract(substract(substract(divide(divide(tf, idf), exp(tf)), substract(tf, idf)), exp(tf)), exp(tf)), exp(idf))), exp(tf)), substract(substract(idf, tf), substract(multiply(idf, tf), idf))), exp(tf)), exp(tf)), exp(idf))))\n",
      "\n",
      "\n",
      "\n",
      "23 13.9211748921 log(add(add(divide(tf, idf), log(Sqrt(tf))), divide(substract(substract(substract(divide(add(add(divide(tf, idf), log(Sqrt(tf))), divide(substract(substract(substract(divide(divide(tf, idf), exp(tf)), substract(Sqrt(tf), idf)), exp(tf)), exp(tf)), exp(idf))), exp(tf)), substract(substract(idf, tf), substract(divide(idf, divide(exp(idf), add(add(multiply(idf, substract(tf, tf)), Sqrt(Sqrt(Sqrt(idf)))), divide(substract(substract(substract(substract(divide(log(add(idf, tf)), idf), idf), log(divide(idf, tf))), idf), exp(tf)), exp(idf))))), idf))), exp(tf)), idf), exp(idf))))\n",
      "\n",
      "\n",
      "\n",
      "24 13.9211138612 log(add(add(divide(tf, idf), log(Sqrt(tf))), divide(substract(substract(substract(divide(add(add(divide(tf, idf), log(Sqrt(tf))), divide(substract(substract(substract(divide(divide(tf, idf), exp(tf)), substract(Sqrt(tf), idf)), exp(tf)), exp(tf)), exp(idf))), exp(tf)), substract(substract(idf, tf), substract(divide(idf, divide(exp(idf), add(add(multiply(idf, substract(tf, tf)), add(exp(tf), Sqrt(tf))), divide(substract(substract(substract(substract(divide(log(add(idf, tf)), idf), idf), log(divide(idf, exp(tf)))), idf), exp(tf)), exp(idf))))), idf))), exp(tf)), idf), exp(idf))))\n",
      "\n",
      "\n",
      "\n",
      "25 13.9211112272 log(add(add(divide(tf, idf), log(Sqrt(tf))), divide(substract(substract(substract(divide(add(add(divide(tf, idf), log(Sqrt(tf))), divide(substract(substract(substract(divide(divide(tf, idf), exp(tf)), substract(Sqrt(tf), idf)), exp(tf)), exp(tf)), exp(idf))), exp(tf)), substract(substract(idf, tf), substract(divide(idf, divide(exp(idf), add(add(multiply(idf, substract(tf, tf)), add(exp(tf), Sqrt(tf))), divide(substract(substract(substract(substract(divide(log(add(idf, idf)), idf), idf), log(divide(idf, log(idf)))), idf), exp(tf)), exp(idf))))), idf))), exp(tf)), idf), exp(idf))))\n",
      "\n",
      "\n",
      "\n",
      "26 13.9210795455 log(add(add(divide(tf, idf), log(Sqrt(tf))), divide(substract(substract(substract(divide(add(add(divide(tf, idf), log(Sqrt(tf))), divide(substract(substract(substract(divide(divide(tf, idf), exp(tf)), substract(Sqrt(tf), idf)), exp(tf)), exp(tf)), exp(idf))), exp(tf)), substract(substract(idf, tf), substract(divide(idf, divide(exp(tf), add(add(multiply(idf, idf), Sqrt(Sqrt(Sqrt(idf)))), divide(substract(substract(substract(substract(divide(log(add(idf, tf)), idf), idf), log(divide(idf, tf))), idf), exp(tf)), exp(idf))))), idf))), exp(tf)), idf), exp(idf))))\n",
      "\n",
      "\n",
      "\n",
      "27 13.9207234821 log(add(add(divide(tf, idf), log(Sqrt(tf))), divide(substract(substract(substract(divide(add(add(divide(tf, idf), log(Sqrt(tf))), divide(substract(substract(substract(divide(divide(tf, idf), exp(tf)), substract(Sqrt(tf), idf)), exp(tf)), idf), exp(idf))), exp(tf)), substract(substract(idf, tf), substract(divide(idf, divide(exp(idf), add(add(multiply(idf, exp(tf)), Sqrt(Sqrt(Sqrt(idf)))), divide(substract(substract(substract(substract(log(exp(idf)), idf), exp(tf)), idf), exp(tf)), exp(idf))))), idf))), log(tf)), exp(tf)), exp(idf))))\n",
      "\n",
      "\n",
      "\n",
      "28 13.9103081593 log(divide(substract(substract(divide(log(add(substract(idf, idf), tf)), idf), exp(tf)), exp(tf)), exp(idf)))\n",
      "\n",
      "\n",
      "\n",
      "29 13.9098573402 log(add(add(divide(tf, exp(divide(idf, add(tf, idf)))), log(Sqrt(tf))), divide(substract(substract(substract(divide(log(add(idf, tf)), idf), idf), exp(tf)), exp(tf)), exp(log(divide(tf, tf))))))\n",
      "\n",
      "\n",
      "\n",
      "30 13.9091716337 log(add(idf, divide(substract(substract(substract(divide(log(add(idf, tf)), idf), idf), exp(tf)), exp(tf)), exp(idf))))\n",
      "\n",
      "\n",
      "\n",
      "31 13.9091687005 log(divide(substract(substract(substract(substract(divide(log(add(idf, tf)), idf), idf), idf), exp(tf)), exp(tf)), exp(idf)))\n",
      "\n",
      "\n",
      "\n",
      "32 13.9091585709 log(add(substract(idf, idf), divide(substract(substract(substract(divide(log(add(idf, tf)), idf), idf), exp(tf)), exp(tf)), exp(idf))))\n",
      "\n",
      "\n",
      "\n",
      "33 13.9086586581 log(add(add(divide(tf, exp(Sqrt(exp(idf)))), log(Sqrt(tf))), divide(substract(substract(substract(divide(log(add(idf, tf)), idf), idf), exp(tf)), exp(tf)), exp(idf))))\n",
      "\n",
      "\n",
      "\n",
      "34 13.9082763283 log(add(Sqrt(add(tf, idf)), divide(substract(substract(substract(divide(log(add(idf, tf)), idf), idf), exp(tf)), exp(tf)), exp(idf))))\n",
      "\n",
      "\n",
      "\n",
      "35 13.9081987526 log(add(add(divide(tf, exp(divide(idf, add(tf, idf)))), log(Sqrt(tf))), divide(substract(substract(substract(divide(log(add(idf, tf)), idf), idf), exp(tf)), exp(tf)), exp(idf))))\n",
      "\n",
      "\n",
      "\n",
      "36 13.9081987526 log(add(add(divide(tf, exp(divide(idf, add(tf, idf)))), log(Sqrt(tf))), divide(substract(substract(substract(divide(log(add(idf, tf)), idf), idf), exp(tf)), exp(tf)), exp(idf))))\n",
      "\n",
      "\n",
      "\n",
      "37 13.9081987526 log(add(add(divide(tf, exp(divide(idf, add(tf, idf)))), log(Sqrt(tf))), divide(substract(substract(substract(divide(log(add(idf, tf)), idf), idf), exp(tf)), exp(tf)), exp(idf))))\n",
      "\n",
      "\n",
      "\n",
      "38 13.9081987526 log(add(add(divide(tf, exp(divide(idf, add(tf, idf)))), log(Sqrt(tf))), divide(substract(substract(substract(divide(log(add(idf, tf)), idf), idf), exp(tf)), exp(tf)), exp(idf))))\n",
      "\n",
      "\n",
      "\n",
      "39 13.9080902579 log(add(idf, divide(substract(substract(divide(log(add(add(tf, substract(idf, substract(tf, idf))), tf)), idf), exp(tf)), exp(tf)), exp(idf))))\n",
      "\n",
      "\n",
      "\n"
     ]
    }
   ],
   "source": [
    "for i, (val, pop) in enumerate(zip(values, population)):\n",
    "    print (i, val, pop, end=\"\\n\" * 4)"
   ]
  },
  {
   "cell_type": "code",
   "execution_count": 27,
   "metadata": {},
   "outputs": [
    {
     "name": "stdout",
     "output_type": "stream",
     "text": [
      " log\n",
      " | divide\n",
      " | | substract\n",
      " | | | substract\n",
      " | | | | divide\n",
      " | | | | | log\n",
      " | | | | | | add\n",
      " | | | | | | | substract\n",
      " | | | | | | | | idf\n",
      " | | | | | | | | idf\n",
      " | | | | | | | tf\n",
      " | | | | | idf\n",
      " | | | | exp\n",
      " | | | | | tf\n",
      " | | | exp\n",
      " | | | | tf\n",
      " | | exp\n",
      " | | | idf\n"
     ]
    }
   ],
   "source": [
    "population[28].print_as_tree()"
   ]
  },
  {
   "cell_type": "markdown",
   "metadata": {},
   "source": [
    "13.9103081593 log(divide(substract(substract(divide(log(add(substract(idf, idf), tf)), idf), exp(tf)), exp(tf)), exp(idf)))\n",
    "\n",
    "\n",
    "$$ \\text{log}(\\frac{log(tf)}{idf} - 2 * exp(tf)) - idf$$"
   ]
  },
  {
   "cell_type": "code",
   "execution_count": null,
   "metadata": {
    "collapsed": true
   },
   "outputs": [],
   "source": []
  },
  {
   "cell_type": "code",
   "execution_count": 11,
   "metadata": {
    "scrolled": false
   },
   "outputs": [
    {
     "name": "stdout",
     "output_type": "stream",
     "text": [
      "10.8264\n",
      "12.4228\n",
      "6.6033\n",
      "5.6938\n",
      "10.1121\n",
      "10.8245\n",
      "9.4921\n"
     ]
    },
    {
     "ename": "KeyboardInterrupt",
     "evalue": "",
     "output_type": "error",
     "traceback": [
      "\u001b[1;31m---------------------------------------------------------------------------\u001b[0m",
      "\u001b[1;31mKeyboardInterrupt\u001b[0m                         Traceback (most recent call last)",
      "\u001b[1;32m<ipython-input-11-9e31167b8006>\u001b[0m in \u001b[0;36m<module>\u001b[1;34m()\u001b[0m\n\u001b[1;32m----> 1\u001b[1;33m \u001b[0mlearn_population\u001b[0m\u001b[1;33m.\u001b[0m\u001b[0mlearn_population\u001b[0m\u001b[1;33m(\u001b[0m\u001b[0mpopulation\u001b[0m\u001b[1;33m,\u001b[0m \u001b[0mdoc_ranks\u001b[0m\u001b[1;33m,\u001b[0m \u001b[0mqueries\u001b[0m\u001b[1;33m,\u001b[0m \u001b[0mquery_characteristics\u001b[0m\u001b[1;33m,\u001b[0m \u001b[0mvis\u001b[0m\u001b[1;33m)\u001b[0m\u001b[1;33m\u001b[0m\u001b[0m\n\u001b[0m",
      "\u001b[1;32mC:\\Users\\Howl\\Desktop\\coding\\article\\Information-retrieval\\genetic_algorithm\\learn_population.py\u001b[0m in \u001b[0;36mlearn_population\u001b[1;34m(population, doc_ranks, queries, query_characteristics, visualize, iterations)\u001b[0m\n\u001b[0;32m    104\u001b[0m \u001b[1;33m\u001b[0m\u001b[0m\n\u001b[0;32m    105\u001b[0m         \u001b[0mpopulation\u001b[0m \u001b[1;33m=\u001b[0m \u001b[0mnp\u001b[0m\u001b[1;33m.\u001b[0m\u001b[0marray\u001b[0m\u001b[1;33m(\u001b[0m\u001b[0mpopulation\u001b[0m \u001b[1;33m+\u001b[0m \u001b[0mnew_population\u001b[0m\u001b[1;33m)\u001b[0m\u001b[1;33m\u001b[0m\u001b[0m\n\u001b[1;32m--> 106\u001b[1;33m         \u001b[0mvalues\u001b[0m \u001b[1;33m=\u001b[0m \u001b[0mrank_population\u001b[0m\u001b[1;33m(\u001b[0m\u001b[0mpopulation\u001b[0m\u001b[1;33m,\u001b[0m \u001b[0mdoc_ranks\u001b[0m\u001b[1;33m,\u001b[0m \u001b[0mqueries\u001b[0m\u001b[1;33m,\u001b[0m \u001b[0mquery_characteristics\u001b[0m\u001b[1;33m)\u001b[0m\u001b[1;33m\u001b[0m\u001b[0m\n\u001b[0m\u001b[0;32m    107\u001b[0m         \u001b[0mvalues\u001b[0m \u001b[1;33m=\u001b[0m \u001b[0mnp\u001b[0m\u001b[1;33m.\u001b[0m\u001b[0marray\u001b[0m\u001b[1;33m(\u001b[0m\u001b[0mvalues\u001b[0m\u001b[1;33m)\u001b[0m\u001b[1;33m\u001b[0m\u001b[0m\n\u001b[0;32m    108\u001b[0m \u001b[1;33m\u001b[0m\u001b[0m\n",
      "\u001b[1;32mC:\\Users\\Howl\\Desktop\\coding\\article\\Information-retrieval\\genetic_algorithm\\learn_population.py\u001b[0m in \u001b[0;36mrank_population\u001b[1;34m(population, doc_ranks, queries, query_characteristics)\u001b[0m\n\u001b[0;32m     13\u001b[0m     \u001b[0mqualities\u001b[0m \u001b[1;33m=\u001b[0m \u001b[1;33m[\u001b[0m\u001b[1;33m]\u001b[0m\u001b[1;33m\u001b[0m\u001b[0m\n\u001b[0;32m     14\u001b[0m     \u001b[1;32mfor\u001b[0m \u001b[0mmodel\u001b[0m \u001b[1;32min\u001b[0m \u001b[0mpopulation\u001b[0m\u001b[1;33m:\u001b[0m\u001b[1;33m\u001b[0m\u001b[0m\n\u001b[1;32m---> 15\u001b[1;33m         \u001b[0mquality\u001b[0m \u001b[1;33m=\u001b[0m \u001b[0mget_quality\u001b[0m\u001b[1;33m(\u001b[0m\u001b[0mmodel\u001b[0m\u001b[1;33m,\u001b[0m \u001b[0mdoc_ranks\u001b[0m\u001b[1;33m,\u001b[0m \u001b[0mqueries\u001b[0m\u001b[1;33m,\u001b[0m \u001b[0mquery_characteristics\u001b[0m\u001b[1;33m)\u001b[0m\u001b[1;33m\u001b[0m\u001b[0m\n\u001b[0m\u001b[0;32m     16\u001b[0m         \u001b[0mqualities\u001b[0m\u001b[1;33m.\u001b[0m\u001b[0mappend\u001b[0m\u001b[1;33m(\u001b[0m\u001b[0mquality\u001b[0m\u001b[1;33m)\u001b[0m\u001b[1;33m\u001b[0m\u001b[0m\n\u001b[0;32m     17\u001b[0m \u001b[1;33m\u001b[0m\u001b[0m\n",
      "\u001b[1;32mC:\\Users\\Howl\\Desktop\\coding\\article\\Information-retrieval/genetic_algorithm\\get_quality.py\u001b[0m in \u001b[0;36mget_quality\u001b[1;34m(model, doc_ranks, queries, query_characteristics)\u001b[0m\n\u001b[0;32m     44\u001b[0m     \u001b[1;32mfor\u001b[0m \u001b[0mi\u001b[0m\u001b[1;33m,\u001b[0m \u001b[0mquery_id\u001b[0m \u001b[1;32min\u001b[0m \u001b[0menumerate\u001b[0m\u001b[1;33m(\u001b[0m\u001b[0mqueries\u001b[0m\u001b[1;33m[\u001b[0m\u001b[1;34m'Id'\u001b[0m\u001b[1;33m]\u001b[0m\u001b[1;33m.\u001b[0m\u001b[0mvalues\u001b[0m\u001b[1;33m)\u001b[0m\u001b[1;33m:\u001b[0m\u001b[1;33m\u001b[0m\u001b[0m\n\u001b[0;32m     45\u001b[0m         \u001b[0mdoc_related\u001b[0m \u001b[1;33m=\u001b[0m \u001b[0mevaluate_model\u001b[0m\u001b[1;33m(\u001b[0m\u001b[0mmodel\u001b[0m\u001b[1;33m,\u001b[0m \u001b[0mquery_characteristics\u001b[0m\u001b[1;33m[\u001b[0m\u001b[0mi\u001b[0m\u001b[1;33m]\u001b[0m\u001b[1;33m)\u001b[0m\u001b[1;33m\u001b[0m\u001b[0m\n\u001b[1;32m---> 46\u001b[1;33m         \u001b[0mquality\u001b[0m \u001b[1;33m=\u001b[0m \u001b[0mevaluate_quality\u001b[0m\u001b[1;33m(\u001b[0m\u001b[0mquery_id\u001b[0m\u001b[1;33m,\u001b[0m \u001b[0mdoc_related\u001b[0m\u001b[1;33m,\u001b[0m \u001b[0mdoc_ranks\u001b[0m\u001b[1;33m[\u001b[0m\u001b[0mi\u001b[0m\u001b[1;33m]\u001b[0m\u001b[1;33m)\u001b[0m\u001b[1;33m\u001b[0m\u001b[0m\n\u001b[0m\u001b[0;32m     47\u001b[0m         \u001b[0mvec_quality\u001b[0m\u001b[1;33m.\u001b[0m\u001b[0mappend\u001b[0m\u001b[1;33m(\u001b[0m\u001b[0mquality\u001b[0m\u001b[1;33m)\u001b[0m\u001b[1;33m\u001b[0m\u001b[0m\n\u001b[0;32m     48\u001b[0m \u001b[1;33m\u001b[0m\u001b[0m\n",
      "\u001b[1;32mC:\\Users\\Howl\\Desktop\\coding\\article\\Information-retrieval/genetic_algorithm\\get_quality.py\u001b[0m in \u001b[0;36mevaluate_quality\u001b[1;34m(query_id, doc_related, doc_ranks)\u001b[0m\n\u001b[0;32m     26\u001b[0m     \u001b[0mdoc_related\u001b[0m \u001b[1;33m=\u001b[0m \u001b[0mdoc_related\u001b[0m\u001b[1;33m[\u001b[0m\u001b[1;33m:\u001b[0m\u001b[1;33m,\u001b[0m \u001b[0msort_indexes\u001b[0m\u001b[1;33m]\u001b[0m\u001b[1;33m\u001b[0m\u001b[0m\n\u001b[0;32m     27\u001b[0m \u001b[1;33m\u001b[0m\u001b[0m\n\u001b[1;32m---> 28\u001b[1;33m     \u001b[0mindsWhichAppear\u001b[0m\u001b[1;33m,\u001b[0m \u001b[0m_\u001b[0m \u001b[1;33m=\u001b[0m \u001b[0misMember\u001b[0m\u001b[1;33m(\u001b[0m\u001b[0mdoc_related\u001b[0m\u001b[1;33m[\u001b[0m\u001b[1;36m0\u001b[0m\u001b[1;33m]\u001b[0m\u001b[1;33m,\u001b[0m \u001b[0mvecDocIdEv\u001b[0m\u001b[1;33m)\u001b[0m\u001b[1;33m\u001b[0m\u001b[0m\n\u001b[0m\u001b[0;32m     29\u001b[0m     \u001b[0mdoc_related\u001b[0m \u001b[1;33m=\u001b[0m \u001b[0mnp\u001b[0m\u001b[1;33m.\u001b[0m\u001b[0mvstack\u001b[0m\u001b[1;33m(\u001b[0m\u001b[1;33m(\u001b[0m\u001b[0mdoc_related\u001b[0m\u001b[1;33m,\u001b[0m \u001b[0mindsWhichAppear\u001b[0m\u001b[1;33m)\u001b[0m\u001b[1;33m)\u001b[0m\u001b[1;33m\u001b[0m\u001b[0m\n\u001b[0;32m     30\u001b[0m \u001b[1;33m\u001b[0m\u001b[0m\n",
      "\u001b[1;32mC:\\Users\\Howl\\Desktop\\coding\\article\\Information-retrieval/genetic_algorithm\\get_quality.py\u001b[0m in \u001b[0;36misMember\u001b[1;34m(arr, to_remain)\u001b[0m\n\u001b[0;32m      4\u001b[0m     \u001b[0mresult\u001b[0m\u001b[1;33m,\u001b[0m \u001b[0mindexes\u001b[0m \u001b[1;33m=\u001b[0m \u001b[1;33m[\u001b[0m\u001b[1;33m]\u001b[0m\u001b[1;33m,\u001b[0m \u001b[1;33m[\u001b[0m\u001b[1;33m]\u001b[0m\u001b[1;33m\u001b[0m\u001b[0m\n\u001b[0;32m      5\u001b[0m     \u001b[1;32mfor\u001b[0m \u001b[0mi\u001b[0m\u001b[1;33m,\u001b[0m \u001b[0melem\u001b[0m \u001b[1;32min\u001b[0m \u001b[0menumerate\u001b[0m\u001b[1;33m(\u001b[0m\u001b[0marr\u001b[0m\u001b[1;33m)\u001b[0m\u001b[1;33m:\u001b[0m\u001b[1;33m\u001b[0m\u001b[0m\n\u001b[1;32m----> 6\u001b[1;33m         \u001b[0mresult\u001b[0m\u001b[1;33m.\u001b[0m\u001b[0mappend\u001b[0m\u001b[1;33m(\u001b[0m\u001b[0melem\u001b[0m \u001b[1;32min\u001b[0m \u001b[0mto_remain\u001b[0m\u001b[1;33m)\u001b[0m\u001b[1;33m\u001b[0m\u001b[0m\n\u001b[0m\u001b[0;32m      7\u001b[0m         \u001b[1;32mif\u001b[0m \u001b[0mresult\u001b[0m\u001b[1;33m[\u001b[0m\u001b[1;33m-\u001b[0m\u001b[1;36m1\u001b[0m\u001b[1;33m]\u001b[0m\u001b[1;33m:\u001b[0m\u001b[1;33m\u001b[0m\u001b[0m\n\u001b[0;32m      8\u001b[0m             \u001b[0mindexes\u001b[0m\u001b[1;33m.\u001b[0m\u001b[0mappend\u001b[0m\u001b[1;33m(\u001b[0m\u001b[0mnp\u001b[0m\u001b[1;33m.\u001b[0m\u001b[0mwhere\u001b[0m\u001b[1;33m(\u001b[0m\u001b[0mto_remain\u001b[0m \u001b[1;33m==\u001b[0m \u001b[0melem\u001b[0m\u001b[1;33m)\u001b[0m\u001b[1;33m[\u001b[0m\u001b[1;36m0\u001b[0m\u001b[1;33m]\u001b[0m\u001b[1;33m[\u001b[0m\u001b[1;36m0\u001b[0m\u001b[1;33m]\u001b[0m\u001b[1;33m)\u001b[0m\u001b[1;33m\u001b[0m\u001b[0m\n",
      "\u001b[1;31mKeyboardInterrupt\u001b[0m: "
     ]
    }
   ],
   "source": [
    "learn_population.learn_population(population, doc_ranks, queries, query_characteristics, vis)"
   ]
  },
  {
   "cell_type": "code",
   "execution_count": null,
   "metadata": {
    "collapsed": true
   },
   "outputs": [],
   "source": []
  }
 ],
 "metadata": {
  "kernelspec": {
   "display_name": "Python 2",
   "language": "python",
   "name": "python2"
  },
  "language_info": {
   "codemirror_mode": {
    "name": "ipython",
    "version": 3
   },
   "file_extension": ".py",
   "mimetype": "text/x-python",
   "name": "python",
   "nbconvert_exporter": "python",
   "pygments_lexer": "ipython3",
   "version": "3.6.5"
  }
 },
 "nbformat": 4,
 "nbformat_minor": 2
}
