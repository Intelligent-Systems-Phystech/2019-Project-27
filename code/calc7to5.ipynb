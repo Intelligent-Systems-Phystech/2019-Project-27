{
 "cells": [
  {
   "cell_type": "code",
   "execution_count": 1,
   "metadata": {},
   "outputs": [],
   "source": [
    "import receive_data"
   ]
  },
  {
   "cell_type": "code",
   "execution_count": 2,
   "metadata": {},
   "outputs": [],
   "source": [
    "import numpy as np\n",
    "import matplotlib.pyplot as plt\n",
    "\n",
    "import sys\n",
    "import os\n",
    "CUR_DIR = os.path.dirname(os.path.abspath(\"./\")) + \"/\"\n",
    "\n",
    "sys.path.append(CUR_DIR + 'genetic_algorithm')\n",
    "import create_population\n",
    "import learn_population"
   ]
  },
  {
   "cell_type": "code",
   "execution_count": 3,
   "metadata": {},
   "outputs": [],
   "source": [
    "import primitive\n",
    "import numpy as np\n",
    "\n",
    "from get_quality import get_quality\n",
    "from copy import deepcopy\n",
    "from mutation import mutate_rand_tree\n",
    "from crossover import crossfit\n",
    "from create_population import create_random_model\n",
    "from primitive import Primitives"
   ]
  },
  {
   "cell_type": "code",
   "execution_count": 4,
   "metadata": {},
   "outputs": [],
   "source": [
    "def rank_population(population, doc_ranks, queries, query_characteristics):   \n",
    "\n",
    "    qualities = []\n",
    "    for model in population:\n",
    "        quality = get_quality(model, doc_ranks, queries, query_characteristics)\n",
    "        qualities.append(quality)\n",
    "\n",
    "    return qualities"
   ]
  },
  {
   "cell_type": "code",
   "execution_count": 5,
   "metadata": {},
   "outputs": [],
   "source": [
    "from tqdm import tqdm_notebook as tqdm"
   ]
  },
  {
   "cell_type": "code",
   "execution_count": 6,
   "metadata": {},
   "outputs": [],
   "source": [
    "import dill\n",
    "import pickle\n",
    "import matplotlib.cm as cm"
   ]
  },
  {
   "cell_type": "code",
   "execution_count": 7,
   "metadata": {},
   "outputs": [],
   "source": [
    "def save_object(obj, filename):\n",
    "    with open(filename, 'wb') as output:  # Overwrites any existing file.\n",
    "        pickle.dump(obj, output, pickle.HIGHEST_PROTOCOL)"
   ]
  },
  {
   "cell_type": "code",
   "execution_count": 8,
   "metadata": {
    "scrolled": false
   },
   "outputs": [],
   "source": [
    "#save_object(history, \"hist7.1\")"
   ]
  },
  {
   "cell_type": "code",
   "execution_count": 9,
   "metadata": {},
   "outputs": [],
   "source": [
    "saved_hist = pickle.load(open(\"hist7.1\"))\n"
   ]
  },
  {
   "cell_type": "code",
   "execution_count": 10,
   "metadata": {},
   "outputs": [
    {
     "name": "stdout",
     "output_type": "stream",
     "text": [
      "('Query : ', 251)\n",
      "('Query : ', 252)\n",
      "('Query : ', 253)\n",
      "('Query : ', 254)\n",
      "('Query : ', 255)\n",
      "('Query : ', 256)\n",
      "('Query : ', 257)\n",
      "('Query : ', 258)\n",
      "('Query : ', 259)\n",
      "('Query : ', 260)\n",
      "('Query : ', 261)\n",
      "('Query : ', 262)\n",
      "('Query : ', 263)\n",
      "('Query : ', 264)\n",
      "('Query : ', 265)\n",
      "('Query : ', 266)\n",
      "('Query : ', 267)\n",
      "('Query : ', 268)\n",
      "('Query : ', 269)\n",
      "('Query : ', 270)\n",
      "('Query : ', 271)\n",
      "('Query : ', 272)\n",
      "('Query : ', 273)\n",
      "('Query : ', 274)\n",
      "('Query : ', 275)\n",
      "('Query : ', 276)\n",
      "('Query : ', 277)\n",
      "('Query : ', 278)\n",
      "('Query : ', 279)\n",
      "('Query : ', 280)\n",
      "('Query : ', 281)\n",
      "('Query : ', 282)\n",
      "('Query : ', 283)\n",
      "('Query : ', 284)\n",
      "('Query : ', 285)\n",
      "('Query : ', 286)\n",
      "('Query : ', 287)\n",
      "('Query : ', 288)\n",
      "('Query : ', 289)\n",
      "('Query : ', 290)\n",
      "('Query : ', 291)\n",
      "('Query : ', 292)\n",
      "('Query : ', 293)\n",
      "('Query : ', 294)\n",
      "('Query : ', 295)\n",
      "('Query : ', 296)\n",
      "('Query : ', 297)\n",
      "('Query : ', 298)\n",
      "('Query : ', 299)\n",
      "('Query : ', 300)\n"
     ]
    }
   ],
   "source": [
    "doc_ranks, queries, query_characteristics = receive_data.loadData(5)"
   ]
  },
  {
   "cell_type": "code",
   "execution_count": null,
   "metadata": {},
   "outputs": [
    {
     "data": {
      "application/vnd.jupyter.widget-view+json": {
       "model_id": "f0d86e6582774381a9b4b8a7287a3bfd",
       "version_major": 2,
       "version_minor": 0
      },
      "text/html": [
       "<p>Failed to display Jupyter Widget of type <code>HBox</code>.</p>\n",
       "<p>\n",
       "  If you're reading this message in the Jupyter Notebook or JupyterLab Notebook, it may mean\n",
       "  that the widgets JavaScript is still loading. If this message persists, it\n",
       "  likely means that the widgets JavaScript library is either not installed or\n",
       "  not enabled. See the <a href=\"https://ipywidgets.readthedocs.io/en/stable/user_install.html\">Jupyter\n",
       "  Widgets Documentation</a> for setup instructions.\n",
       "</p>\n",
       "<p>\n",
       "  If you're reading this message in another frontend (for example, a static\n",
       "  rendering on GitHub or <a href=\"https://nbviewer.jupyter.org/\">NBViewer</a>),\n",
       "  it may mean that your frontend doesn't currently support widgets.\n",
       "</p>\n"
      ],
      "text/plain": [
       "HBox(children=(IntProgress(value=0, max=76), HTML(value=u'')))"
      ]
     },
     "metadata": {},
     "output_type": "display_data"
    },
    {
     "name": "stderr",
     "output_type": "stream",
     "text": [
      "/home/howl/coding/article/Information-retrieval/genetic_algorithm/primitive.py:41: RuntimeWarning: invalid value encountered in sqrt\n",
      "  return self.func(*[node.calc(x, y) for node in self.nodes])\n",
      "/home/howl/coding/article/Information-retrieval/genetic_algorithm/primitive.py:160: RuntimeWarning: invalid value encountered in log10\n",
      "  LOG = Primitive(lambda x: np.log10(1+x), 1, DOMAINS.POSITIVE, DOMAINS.REAL, 'log')\n"
     ]
    }
   ],
   "source": [
    "vals5 = []\n",
    "for pop in tqdm(saved_hist):\n",
    "    vals5.append(rank_population(pop[0], doc_ranks, queries, query_characteristics))"
   ]
  },
  {
   "cell_type": "code",
   "execution_count": null,
   "metadata": {},
   "outputs": [],
   "source": []
  },
  {
   "cell_type": "code",
   "execution_count": null,
   "metadata": {},
   "outputs": [],
   "source": []
  },
  {
   "cell_type": "code",
   "execution_count": null,
   "metadata": {},
   "outputs": [],
   "source": []
  },
  {
   "cell_type": "code",
   "execution_count": null,
   "metadata": {},
   "outputs": [],
   "source": []
  },
  {
   "cell_type": "code",
   "execution_count": null,
   "metadata": {},
   "outputs": [],
   "source": []
  },
  {
   "cell_type": "code",
   "execution_count": null,
   "metadata": {},
   "outputs": [],
   "source": []
  },
  {
   "cell_type": "code",
   "execution_count": null,
   "metadata": {},
   "outputs": [],
   "source": [
    "print (len(saved_hist))\n",
    "plt.figure(figsize=(15, 10))\n",
    "for (pop, val) in saved_hist:#[14:40]:\n",
    "    plt.scatter(val, [p.get_tokens() for p in pop])\n",
    "plt.grid()\n",
    "#for i in range(10):\n",
    "#    plt.plot([0, 14], [])\n",
    "plt.show()"
   ]
  },
  {
   "cell_type": "code",
   "execution_count": null,
   "metadata": {},
   "outputs": [],
   "source": []
  },
  {
   "cell_type": "code",
   "execution_count": null,
   "metadata": {},
   "outputs": [],
   "source": []
  },
  {
   "cell_type": "code",
   "execution_count": 26,
   "metadata": {
    "scrolled": false
   },
   "outputs": [
    {
     "name": "stdout",
     "output_type": "stream",
     "text": [
      "0 13.9469004007 log(add(add(divide(tf, idf), log(Sqrt(tf))), divide(substract(substract(substract(divide(add(add(divide(tf, idf), log(Sqrt(tf))), divide(substract(substract(substract(divide(divide(tf, idf), exp(tf)), substract(Sqrt(tf), idf)), exp(tf)), exp(tf)), exp(idf))), exp(tf)), substract(substract(idf, tf), substract(divide(idf, divide(exp(idf), add(add(multiply(idf, substract(tf, tf)), add(exp(tf), Sqrt(substract(substract(divide(log(add(idf, tf)), idf), idf), exp(tf))))), divide(substract(substract(substract(substract(divide(log(add(idf, tf)), idf), idf), log(divide(idf, exp(tf)))), idf), exp(tf)), exp(idf))))), idf))), exp(idf)), idf), exp(idf))))\n",
      "\n",
      "\n",
      "\n",
      "1 13.9421155109 log(add(add(divide(tf, idf), log(Sqrt(tf))), divide(substract(substract(substract(divide(add(add(divide(tf, idf), log(Sqrt(tf))), divide(substract(substract(substract(divide(divide(tf, idf), exp(tf)), substract(substract(exp(idf), idf), idf)), exp(tf)), exp(tf)), exp(idf))), exp(tf)), substract(substract(idf, tf), substract(divide(idf, divide(exp(idf), add(Sqrt(tf), divide(substract(substract(substract(substract(divide(log(add(idf, tf)), idf), idf), log(tf)), idf), exp(tf)), exp(idf))))), idf))), exp(tf)), exp(tf)), exp(idf))))\n",
      "\n",
      "\n",
      "\n",
      "2 13.9413401856 log(add(add(divide(tf, idf), log(Sqrt(tf))), divide(substract(substract(substract(divide(add(add(divide(tf, idf), log(Sqrt(tf))), divide(substract(substract(substract(divide(divide(tf, idf), exp(tf)), add(idf, tf)), exp(tf)), exp(tf)), exp(idf))), exp(tf)), substract(Sqrt(idf), substract(divide(idf, divide(exp(idf), add(add(multiply(idf, substract(tf, tf)), Sqrt(Sqrt(Sqrt(idf)))), divide(substract(substract(substract(substract(divide(log(add(idf, tf)), idf), idf), exp(tf)), idf), exp(tf)), exp(idf))))), idf))), exp(tf)), exp(tf)), exp(idf))))\n",
      "\n",
      "\n",
      "\n",
      "3 13.9412736605 log(add(add(divide(tf, idf), log(Sqrt(tf))), divide(substract(substract(substract(divide(add(add(divide(tf, idf), log(Sqrt(tf))), divide(substract(substract(substract(divide(divide(tf, idf), exp(tf)), substract(Sqrt(tf), idf)), exp(tf)), exp(tf)), exp(idf))), exp(tf)), substract(substract(idf, tf), substract(divide(idf, divide(exp(idf), add(add(multiply(idf, substract(tf, tf)), Sqrt(Sqrt(Sqrt(idf)))), divide(substract(substract(substract(substract(divide(log(Sqrt(tf)), idf), idf), exp(tf)), idf), exp(tf)), exp(idf))))), Sqrt(tf)))), exp(tf)), exp(tf)), exp(idf))))\n",
      "\n",
      "\n",
      "\n",
      "4 13.9412462385 log(add(add(divide(tf, idf), log(Sqrt(tf))), divide(substract(substract(substract(divide(add(add(divide(tf, idf), log(Sqrt(tf))), divide(substract(substract(substract(divide(divide(tf, idf), exp(tf)), substract(Sqrt(tf), idf)), exp(tf)), exp(tf)), exp(idf))), exp(tf)), substract(substract(idf, tf), substract(divide(idf, divide(exp(idf), add(add(multiply(idf, substract(tf, tf)), Sqrt(Sqrt(Sqrt(idf)))), divide(substract(substract(substract(substract(divide(log(add(idf, tf)), idf), idf), exp(tf)), idf), exp(tf)), exp(idf))))), idf))), exp(tf)), exp(tf)), exp(idf))))\n",
      "\n",
      "\n",
      "\n",
      "5 13.9412462385 log(add(add(divide(tf, idf), log(Sqrt(tf))), divide(substract(substract(substract(divide(add(add(divide(tf, idf), log(Sqrt(tf))), divide(substract(substract(substract(divide(divide(tf, idf), exp(tf)), substract(Sqrt(tf), idf)), exp(tf)), exp(tf)), exp(idf))), exp(tf)), substract(substract(idf, tf), substract(divide(idf, divide(exp(idf), add(add(multiply(idf, substract(tf, tf)), Sqrt(Sqrt(Sqrt(idf)))), divide(substract(substract(substract(substract(divide(log(add(idf, tf)), idf), idf), exp(tf)), idf), exp(tf)), exp(idf))))), idf))), exp(tf)), exp(tf)), exp(idf))))\n",
      "\n",
      "\n",
      "\n",
      "6 13.9412462385 log(add(add(divide(tf, idf), log(Sqrt(tf))), divide(substract(substract(substract(divide(add(add(divide(tf, idf), log(Sqrt(tf))), divide(substract(substract(substract(divide(divide(tf, idf), exp(tf)), substract(Sqrt(tf), idf)), exp(tf)), exp(tf)), exp(idf))), exp(tf)), substract(substract(idf, tf), substract(divide(idf, divide(exp(idf), add(add(multiply(idf, substract(tf, tf)), Sqrt(Sqrt(Sqrt(idf)))), divide(substract(substract(substract(substract(divide(log(add(idf, tf)), idf), idf), exp(tf)), idf), exp(tf)), exp(idf))))), idf))), exp(tf)), exp(tf)), exp(idf))))\n",
      "\n",
      "\n",
      "\n",
      "7 13.9412462385 log(add(add(divide(tf, idf), log(Sqrt(tf))), divide(substract(substract(substract(divide(add(add(divide(tf, idf), log(Sqrt(tf))), divide(substract(substract(substract(divide(divide(tf, idf), exp(tf)), substract(Sqrt(tf), idf)), exp(tf)), exp(tf)), exp(idf))), exp(tf)), substract(substract(idf, tf), substract(divide(idf, divide(exp(idf), add(add(multiply(idf, substract(tf, tf)), Sqrt(Sqrt(Sqrt(idf)))), divide(substract(substract(substract(substract(divide(log(add(idf, tf)), idf), idf), exp(tf)), idf), exp(tf)), exp(idf))))), idf))), exp(tf)), exp(tf)), exp(idf))))\n",
      "\n",
      "\n",
      "\n",
      "8 13.9412462385 log(add(add(divide(tf, idf), log(Sqrt(tf))), divide(substract(substract(substract(divide(add(add(divide(tf, idf), log(Sqrt(tf))), divide(substract(substract(substract(divide(divide(tf, idf), exp(tf)), substract(Sqrt(tf), idf)), exp(tf)), exp(tf)), exp(idf))), exp(tf)), substract(substract(idf, tf), substract(divide(idf, divide(exp(idf), add(add(multiply(idf, substract(tf, tf)), Sqrt(Sqrt(Sqrt(idf)))), divide(substract(substract(substract(substract(divide(log(add(idf, tf)), idf), idf), exp(tf)), idf), exp(tf)), exp(idf))))), idf))), exp(tf)), exp(tf)), exp(idf))))\n",
      "\n",
      "\n",
      "\n",
      "9 13.9412423484 log(add(add(divide(tf, idf), log(Sqrt(tf))), divide(substract(substract(substract(divide(add(add(divide(tf, idf), log(Sqrt(tf))), divide(substract(substract(substract(divide(divide(tf, idf), exp(tf)), substract(Sqrt(tf), idf)), exp(tf)), exp(tf)), exp(idf))), exp(tf)), substract(substract(idf, tf), substract(divide(idf, divide(exp(idf), add(add(multiply(idf, substract(tf, tf)), Sqrt(Sqrt(Sqrt(idf)))), divide(substract(substract(substract(substract(divide(log(add(idf, tf)), idf), idf), exp(tf)), tf), exp(tf)), exp(idf))))), idf))), exp(tf)), exp(tf)), exp(idf))))\n",
      "\n",
      "\n",
      "\n",
      "10 13.9412307387 log(add(add(divide(tf, idf), log(Sqrt(add(substract(add(idf, tf), idf), tf)))), divide(substract(substract(substract(divide(add(add(divide(tf, idf), log(Sqrt(tf))), divide(substract(substract(substract(divide(divide(tf, idf), exp(tf)), substract(Sqrt(tf), idf)), exp(tf)), exp(tf)), exp(idf))), exp(tf)), substract(substract(idf, tf), substract(divide(idf, divide(exp(idf), add(add(multiply(idf, substract(tf, tf)), Sqrt(Sqrt(Sqrt(idf)))), divide(substract(substract(substract(substract(divide(log(add(idf, tf)), idf), idf), exp(tf)), idf), exp(tf)), exp(idf))))), idf))), exp(tf)), exp(tf)), exp(idf))))\n",
      "\n",
      "\n",
      "\n",
      "11 13.9412262525 log(add(add(divide(tf, idf), log(Sqrt(tf))), divide(substract(substract(substract(divide(add(add(divide(tf, idf), log(Sqrt(tf))), divide(substract(substract(substract(divide(divide(tf, idf), exp(tf)), substract(Sqrt(tf), idf)), exp(tf)), exp(idf)), exp(idf))), exp(tf)), substract(substract(idf, tf), substract(divide(idf, divide(exp(idf), add(add(multiply(idf, substract(tf, tf)), Sqrt(Sqrt(Sqrt(idf)))), divide(substract(substract(substract(substract(divide(log(add(idf, tf)), idf), idf), exp(tf)), idf), exp(tf)), exp(idf))))), idf))), exp(tf)), exp(tf)), exp(idf))))\n",
      "\n",
      "\n",
      "\n",
      "12 13.9412239888 log(add(add(divide(tf, idf), log(Sqrt(tf))), divide(substract(substract(substract(divide(add(add(divide(tf, idf), log(Sqrt(tf))), divide(substract(substract(substract(divide(divide(tf, idf), exp(tf)), substract(Sqrt(tf), idf)), exp(tf)), exp(idf)), exp(idf))), exp(tf)), substract(substract(idf, tf), substract(divide(idf, divide(exp(idf), add(add(multiply(idf, substract(tf, tf)), Sqrt(Sqrt(add(add(divide(tf, idf), log(Sqrt(tf))), divide(substract(substract(substract(divide(add(add(divide(tf, idf), log(substract(tf, tf))), divide(substract(substract(substract(divide(divide(tf, idf), exp(tf)), substract(tf, idf)), exp(tf)), exp(tf)), exp(idf))), exp(tf)), substract(substract(idf, tf), substract(multiply(idf, tf), idf))), exp(tf)), exp(tf)), exp(idf)))))), divide(substract(substract(substract(substract(divide(log(add(idf, tf)), idf), idf), log(idf)), idf), exp(tf)), exp(idf))))), idf))), exp(tf)), exp(tf)), exp(idf))))\n",
      "\n",
      "\n",
      "\n",
      "13 13.9412130764 log(add(add(divide(tf, idf), log(Sqrt(tf))), divide(substract(substract(substract(divide(add(add(divide(tf, idf), log(Sqrt(tf))), divide(substract(substract(substract(divide(divide(tf, idf), exp(tf)), substract(Sqrt(tf), idf)), exp(tf)), exp(log(tf))), exp(idf))), exp(tf)), substract(substract(idf, tf), substract(divide(idf, divide(exp(idf), add(add(multiply(idf, substract(tf, tf)), Sqrt(Sqrt(Sqrt(idf)))), divide(substract(substract(substract(substract(divide(log(add(idf, tf)), idf), idf), exp(tf)), idf), exp(tf)), exp(idf))))), idf))), exp(tf)), exp(tf)), exp(idf))))\n",
      "\n",
      "\n",
      "\n",
      "14 13.9412114323 log(add(add(divide(tf, idf), log(Sqrt(tf))), divide(substract(substract(substract(divide(add(add(divide(tf, idf), log(Sqrt(tf))), divide(substract(substract(substract(divide(divide(tf, idf), exp(tf)), substract(Sqrt(tf), idf)), exp(tf)), exp(tf)), exp(idf))), exp(tf)), substract(substract(idf, tf), substract(divide(idf, divide(exp(idf), add(add(multiply(idf, exp(tf)), Sqrt(Sqrt(Sqrt(idf)))), divide(substract(substract(substract(substract(log(exp(idf)), idf), exp(tf)), idf), exp(tf)), exp(idf))))), idf))), exp(tf)), exp(tf)), exp(idf))))\n",
      "\n",
      "\n",
      "\n",
      "15 13.9411735158 log(add(add(divide(tf, idf), log(Sqrt(tf))), divide(substract(substract(substract(divide(add(add(divide(tf, idf), log(Sqrt(tf))), divide(substract(substract(substract(divide(divide(tf, idf), exp(tf)), substract(Sqrt(tf), idf)), exp(tf)), exp(tf)), exp(idf))), exp(tf)), substract(substract(idf, tf), substract(divide(idf, divide(exp(idf), add(add(multiply(idf, substract(tf, tf)), Sqrt(Sqrt(Sqrt(idf)))), divide(substract(substract(substract(substract(divide(log(add(idf, tf)), idf), idf), log(divide(idf, tf))), idf), exp(tf)), exp(idf))))), idf))), exp(tf)), exp(tf)), exp(idf))))\n",
      "\n",
      "\n",
      "\n",
      "16 13.9411735158 log(add(add(divide(tf, idf), log(Sqrt(tf))), divide(substract(substract(substract(divide(add(add(divide(tf, idf), log(Sqrt(tf))), divide(substract(substract(substract(divide(divide(tf, idf), exp(tf)), substract(Sqrt(tf), idf)), exp(tf)), exp(tf)), exp(idf))), exp(tf)), substract(substract(idf, tf), substract(divide(idf, divide(exp(idf), add(add(multiply(idf, substract(tf, tf)), Sqrt(Sqrt(Sqrt(idf)))), divide(substract(substract(substract(substract(divide(log(add(idf, tf)), idf), idf), log(tf)), idf), exp(tf)), exp(idf))))), idf))), exp(tf)), exp(tf)), exp(idf))))\n",
      "\n",
      "\n",
      "\n",
      "17 13.9411735158 log(add(add(divide(tf, idf), log(Sqrt(tf))), divide(substract(substract(substract(divide(add(add(divide(tf, idf), log(Sqrt(tf))), divide(substract(substract(substract(divide(divide(tf, idf), exp(tf)), substract(Sqrt(tf), idf)), exp(tf)), exp(tf)), exp(idf))), exp(tf)), substract(substract(idf, tf), substract(divide(idf, divide(exp(idf), add(add(multiply(idf, substract(tf, tf)), Sqrt(Sqrt(Sqrt(idf)))), divide(substract(substract(substract(substract(divide(log(add(idf, tf)), idf), idf), add(divide(tf, exp(divide(idf, add(tf, idf)))), log(Sqrt(tf)))), idf), exp(tf)), exp(idf))))), idf))), exp(tf)), exp(tf)), exp(idf))))\n",
      "\n",
      "\n",
      "\n",
      "18 13.9411685121 log(add(add(divide(tf, idf), log(Sqrt(tf))), divide(substract(substract(substract(divide(add(add(divide(tf, idf), log(Sqrt(tf))), divide(substract(substract(substract(divide(divide(tf, idf), exp(tf)), substract(Sqrt(tf), idf)), exp(tf)), exp(tf)), exp(idf))), exp(tf)), substract(substract(idf, tf), substract(multiply(idf, tf), idf))), exp(tf)), exp(tf)), exp(idf))))\n",
      "\n",
      "\n",
      "\n",
      "19 13.9411358495 log(add(add(divide(tf, idf), log(Sqrt(tf))), divide(substract(substract(substract(divide(add(add(divide(tf, idf), log(Sqrt(tf))), divide(substract(substract(substract(divide(divide(tf, idf), exp(tf)), substract(idf, idf)), exp(tf)), exp(tf)), exp(idf))), exp(tf)), substract(substract(idf, tf), substract(divide(idf, divide(exp(idf), add(add(multiply(idf, substract(tf, tf)), Sqrt(Sqrt(Sqrt(idf)))), divide(substract(substract(Sqrt(log(tf)), add(idf, idf)), exp(tf)), exp(idf))))), idf))), exp(tf)), exp(tf)), exp(idf))))\n",
      "\n",
      "\n",
      "\n",
      "20 13.9411204212 log(add(add(divide(tf, idf), log(Sqrt(tf))), divide(substract(substract(substract(divide(add(add(divide(tf, idf), log(substract(tf, tf))), divide(substract(substract(substract(divide(divide(tf, idf), exp(tf)), substract(tf, tf)), exp(tf)), exp(tf)), exp(idf))), exp(tf)), substract(substract(idf, tf), substract(multiply(idf, Sqrt(idf)), idf))), exp(tf)), exp(tf)), exp(idf))))\n",
      "\n",
      "\n",
      "\n",
      "21 13.9411036355 log(add(add(divide(tf, idf), log(Sqrt(tf))), divide(substract(substract(substract(divide(add(add(divide(tf, idf), Sqrt(tf)), divide(substract(substract(substract(divide(divide(tf, idf), exp(tf)), substract(Sqrt(tf), idf)), exp(tf)), exp(tf)), exp(idf))), exp(tf)), substract(substract(idf, tf), substract(divide(idf, divide(exp(idf), add(add(multiply(idf, substract(tf, tf)), Sqrt(Sqrt(Sqrt(substract(Sqrt(tf), idf))))), divide(substract(substract(substract(substract(divide(log(add(idf, tf)), idf), idf), log(divide(idf, tf))), idf), exp(tf)), exp(idf))))), idf))), exp(tf)), exp(tf)), exp(idf))))\n",
      "\n",
      "\n",
      "\n",
      "22 13.9410986192 log(add(add(divide(tf, idf), log(Sqrt(tf))), divide(substract(substract(substract(divide(add(add(divide(tf, idf), log(substract(tf, tf))), divide(substract(substract(substract(divide(divide(tf, idf), exp(tf)), substract(tf, idf)), exp(tf)), exp(tf)), exp(idf))), exp(tf)), substract(substract(idf, tf), substract(multiply(idf, tf), idf))), exp(tf)), exp(tf)), exp(idf))))\n",
      "\n",
      "\n",
      "\n",
      "23 13.9211748921 log(add(add(divide(tf, idf), log(Sqrt(tf))), divide(substract(substract(substract(divide(add(add(divide(tf, idf), log(Sqrt(tf))), divide(substract(substract(substract(divide(divide(tf, idf), exp(tf)), substract(Sqrt(tf), idf)), exp(tf)), exp(tf)), exp(idf))), exp(tf)), substract(substract(idf, tf), substract(divide(idf, divide(exp(idf), add(add(multiply(idf, substract(tf, tf)), Sqrt(Sqrt(Sqrt(idf)))), divide(substract(substract(substract(substract(divide(log(add(idf, tf)), idf), idf), log(divide(idf, tf))), idf), exp(tf)), exp(idf))))), idf))), exp(tf)), idf), exp(idf))))\n",
      "\n",
      "\n",
      "\n",
      "24 13.9211138612 log(add(add(divide(tf, idf), log(Sqrt(tf))), divide(substract(substract(substract(divide(add(add(divide(tf, idf), log(Sqrt(tf))), divide(substract(substract(substract(divide(divide(tf, idf), exp(tf)), substract(Sqrt(tf), idf)), exp(tf)), exp(tf)), exp(idf))), exp(tf)), substract(substract(idf, tf), substract(divide(idf, divide(exp(idf), add(add(multiply(idf, substract(tf, tf)), add(exp(tf), Sqrt(tf))), divide(substract(substract(substract(substract(divide(log(add(idf, tf)), idf), idf), log(divide(idf, exp(tf)))), idf), exp(tf)), exp(idf))))), idf))), exp(tf)), idf), exp(idf))))\n",
      "\n",
      "\n",
      "\n",
      "25 13.9211112272 log(add(add(divide(tf, idf), log(Sqrt(tf))), divide(substract(substract(substract(divide(add(add(divide(tf, idf), log(Sqrt(tf))), divide(substract(substract(substract(divide(divide(tf, idf), exp(tf)), substract(Sqrt(tf), idf)), exp(tf)), exp(tf)), exp(idf))), exp(tf)), substract(substract(idf, tf), substract(divide(idf, divide(exp(idf), add(add(multiply(idf, substract(tf, tf)), add(exp(tf), Sqrt(tf))), divide(substract(substract(substract(substract(divide(log(add(idf, idf)), idf), idf), log(divide(idf, log(idf)))), idf), exp(tf)), exp(idf))))), idf))), exp(tf)), idf), exp(idf))))\n",
      "\n",
      "\n",
      "\n",
      "26 13.9210795455 log(add(add(divide(tf, idf), log(Sqrt(tf))), divide(substract(substract(substract(divide(add(add(divide(tf, idf), log(Sqrt(tf))), divide(substract(substract(substract(divide(divide(tf, idf), exp(tf)), substract(Sqrt(tf), idf)), exp(tf)), exp(tf)), exp(idf))), exp(tf)), substract(substract(idf, tf), substract(divide(idf, divide(exp(tf), add(add(multiply(idf, idf), Sqrt(Sqrt(Sqrt(idf)))), divide(substract(substract(substract(substract(divide(log(add(idf, tf)), idf), idf), log(divide(idf, tf))), idf), exp(tf)), exp(idf))))), idf))), exp(tf)), idf), exp(idf))))\n",
      "\n",
      "\n",
      "\n",
      "27 13.9207234821 log(add(add(divide(tf, idf), log(Sqrt(tf))), divide(substract(substract(substract(divide(add(add(divide(tf, idf), log(Sqrt(tf))), divide(substract(substract(substract(divide(divide(tf, idf), exp(tf)), substract(Sqrt(tf), idf)), exp(tf)), idf), exp(idf))), exp(tf)), substract(substract(idf, tf), substract(divide(idf, divide(exp(idf), add(add(multiply(idf, exp(tf)), Sqrt(Sqrt(Sqrt(idf)))), divide(substract(substract(substract(substract(log(exp(idf)), idf), exp(tf)), idf), exp(tf)), exp(idf))))), idf))), log(tf)), exp(tf)), exp(idf))))\n",
      "\n",
      "\n",
      "\n",
      "28 13.9103081593 log(divide(substract(substract(divide(log(add(substract(idf, idf), tf)), idf), exp(tf)), exp(tf)), exp(idf)))\n",
      "\n",
      "\n",
      "\n",
      "29 13.9098573402 log(add(add(divide(tf, exp(divide(idf, add(tf, idf)))), log(Sqrt(tf))), divide(substract(substract(substract(divide(log(add(idf, tf)), idf), idf), exp(tf)), exp(tf)), exp(log(divide(tf, tf))))))\n",
      "\n",
      "\n",
      "\n",
      "30 13.9091716337 log(add(idf, divide(substract(substract(substract(divide(log(add(idf, tf)), idf), idf), exp(tf)), exp(tf)), exp(idf))))\n",
      "\n",
      "\n",
      "\n",
      "31 13.9091687005 log(divide(substract(substract(substract(substract(divide(log(add(idf, tf)), idf), idf), idf), exp(tf)), exp(tf)), exp(idf)))\n",
      "\n",
      "\n",
      "\n",
      "32 13.9091585709 log(add(substract(idf, idf), divide(substract(substract(substract(divide(log(add(idf, tf)), idf), idf), exp(tf)), exp(tf)), exp(idf))))\n",
      "\n",
      "\n",
      "\n",
      "33 13.9086586581 log(add(add(divide(tf, exp(Sqrt(exp(idf)))), log(Sqrt(tf))), divide(substract(substract(substract(divide(log(add(idf, tf)), idf), idf), exp(tf)), exp(tf)), exp(idf))))\n",
      "\n",
      "\n",
      "\n",
      "34 13.9082763283 log(add(Sqrt(add(tf, idf)), divide(substract(substract(substract(divide(log(add(idf, tf)), idf), idf), exp(tf)), exp(tf)), exp(idf))))\n",
      "\n",
      "\n",
      "\n",
      "35 13.9081987526 log(add(add(divide(tf, exp(divide(idf, add(tf, idf)))), log(Sqrt(tf))), divide(substract(substract(substract(divide(log(add(idf, tf)), idf), idf), exp(tf)), exp(tf)), exp(idf))))\n",
      "\n",
      "\n",
      "\n",
      "36 13.9081987526 log(add(add(divide(tf, exp(divide(idf, add(tf, idf)))), log(Sqrt(tf))), divide(substract(substract(substract(divide(log(add(idf, tf)), idf), idf), exp(tf)), exp(tf)), exp(idf))))\n",
      "\n",
      "\n",
      "\n",
      "37 13.9081987526 log(add(add(divide(tf, exp(divide(idf, add(tf, idf)))), log(Sqrt(tf))), divide(substract(substract(substract(divide(log(add(idf, tf)), idf), idf), exp(tf)), exp(tf)), exp(idf))))\n",
      "\n",
      "\n",
      "\n",
      "38 13.9081987526 log(add(add(divide(tf, exp(divide(idf, add(tf, idf)))), log(Sqrt(tf))), divide(substract(substract(substract(divide(log(add(idf, tf)), idf), idf), exp(tf)), exp(tf)), exp(idf))))\n",
      "\n",
      "\n",
      "\n",
      "39 13.9080902579 log(add(idf, divide(substract(substract(divide(log(add(add(tf, substract(idf, substract(tf, idf))), tf)), idf), exp(tf)), exp(tf)), exp(idf))))\n",
      "\n",
      "\n",
      "\n"
     ]
    }
   ],
   "source": [
    "for i, (val, pop) in enumerate(zip(values, population)):\n",
    "    print (i, val, pop, end=\"\\n\" * 4)"
   ]
  },
  {
   "cell_type": "code",
   "execution_count": 27,
   "metadata": {},
   "outputs": [
    {
     "name": "stdout",
     "output_type": "stream",
     "text": [
      " log\n",
      " | divide\n",
      " | | substract\n",
      " | | | substract\n",
      " | | | | divide\n",
      " | | | | | log\n",
      " | | | | | | add\n",
      " | | | | | | | substract\n",
      " | | | | | | | | idf\n",
      " | | | | | | | | idf\n",
      " | | | | | | | tf\n",
      " | | | | | idf\n",
      " | | | | exp\n",
      " | | | | | tf\n",
      " | | | exp\n",
      " | | | | tf\n",
      " | | exp\n",
      " | | | idf\n"
     ]
    }
   ],
   "source": [
    "population[28].print_as_tree()"
   ]
  },
  {
   "cell_type": "markdown",
   "metadata": {},
   "source": [
    "13.9103081593 log(divide(substract(substract(divide(log(add(substract(idf, idf), tf)), idf), exp(tf)), exp(tf)), exp(idf)))\n",
    "\n",
    "\n",
    "$$ \\text{log}(\\frac{log(tf)}{idf} - 2 * exp(tf)) - idf$$"
   ]
  },
  {
   "cell_type": "code",
   "execution_count": null,
   "metadata": {
    "collapsed": true
   },
   "outputs": [],
   "source": []
  },
  {
   "cell_type": "code",
   "execution_count": 11,
   "metadata": {
    "scrolled": false
   },
   "outputs": [
    {
     "name": "stdout",
     "output_type": "stream",
     "text": [
      "10.8264\n",
      "12.4228\n",
      "6.6033\n",
      "5.6938\n",
      "10.1121\n",
      "10.8245\n",
      "9.4921\n"
     ]
    },
    {
     "ename": "KeyboardInterrupt",
     "evalue": "",
     "output_type": "error",
     "traceback": [
      "\u001b[1;31m---------------------------------------------------------------------------\u001b[0m",
      "\u001b[1;31mKeyboardInterrupt\u001b[0m                         Traceback (most recent call last)",
      "\u001b[1;32m<ipython-input-11-9e31167b8006>\u001b[0m in \u001b[0;36m<module>\u001b[1;34m()\u001b[0m\n\u001b[1;32m----> 1\u001b[1;33m \u001b[0mlearn_population\u001b[0m\u001b[1;33m.\u001b[0m\u001b[0mlearn_population\u001b[0m\u001b[1;33m(\u001b[0m\u001b[0mpopulation\u001b[0m\u001b[1;33m,\u001b[0m \u001b[0mdoc_ranks\u001b[0m\u001b[1;33m,\u001b[0m \u001b[0mqueries\u001b[0m\u001b[1;33m,\u001b[0m \u001b[0mquery_characteristics\u001b[0m\u001b[1;33m,\u001b[0m \u001b[0mvis\u001b[0m\u001b[1;33m)\u001b[0m\u001b[1;33m\u001b[0m\u001b[0m\n\u001b[0m",
      "\u001b[1;32mC:\\Users\\Howl\\Desktop\\coding\\article\\Information-retrieval\\genetic_algorithm\\learn_population.py\u001b[0m in \u001b[0;36mlearn_population\u001b[1;34m(population, doc_ranks, queries, query_characteristics, visualize, iterations)\u001b[0m\n\u001b[0;32m    104\u001b[0m \u001b[1;33m\u001b[0m\u001b[0m\n\u001b[0;32m    105\u001b[0m         \u001b[0mpopulation\u001b[0m \u001b[1;33m=\u001b[0m \u001b[0mnp\u001b[0m\u001b[1;33m.\u001b[0m\u001b[0marray\u001b[0m\u001b[1;33m(\u001b[0m\u001b[0mpopulation\u001b[0m \u001b[1;33m+\u001b[0m \u001b[0mnew_population\u001b[0m\u001b[1;33m)\u001b[0m\u001b[1;33m\u001b[0m\u001b[0m\n\u001b[1;32m--> 106\u001b[1;33m         \u001b[0mvalues\u001b[0m \u001b[1;33m=\u001b[0m \u001b[0mrank_population\u001b[0m\u001b[1;33m(\u001b[0m\u001b[0mpopulation\u001b[0m\u001b[1;33m,\u001b[0m \u001b[0mdoc_ranks\u001b[0m\u001b[1;33m,\u001b[0m \u001b[0mqueries\u001b[0m\u001b[1;33m,\u001b[0m \u001b[0mquery_characteristics\u001b[0m\u001b[1;33m)\u001b[0m\u001b[1;33m\u001b[0m\u001b[0m\n\u001b[0m\u001b[0;32m    107\u001b[0m         \u001b[0mvalues\u001b[0m \u001b[1;33m=\u001b[0m \u001b[0mnp\u001b[0m\u001b[1;33m.\u001b[0m\u001b[0marray\u001b[0m\u001b[1;33m(\u001b[0m\u001b[0mvalues\u001b[0m\u001b[1;33m)\u001b[0m\u001b[1;33m\u001b[0m\u001b[0m\n\u001b[0;32m    108\u001b[0m \u001b[1;33m\u001b[0m\u001b[0m\n",
      "\u001b[1;32mC:\\Users\\Howl\\Desktop\\coding\\article\\Information-retrieval\\genetic_algorithm\\learn_population.py\u001b[0m in \u001b[0;36mrank_population\u001b[1;34m(population, doc_ranks, queries, query_characteristics)\u001b[0m\n\u001b[0;32m     13\u001b[0m     \u001b[0mqualities\u001b[0m \u001b[1;33m=\u001b[0m \u001b[1;33m[\u001b[0m\u001b[1;33m]\u001b[0m\u001b[1;33m\u001b[0m\u001b[0m\n\u001b[0;32m     14\u001b[0m     \u001b[1;32mfor\u001b[0m \u001b[0mmodel\u001b[0m \u001b[1;32min\u001b[0m \u001b[0mpopulation\u001b[0m\u001b[1;33m:\u001b[0m\u001b[1;33m\u001b[0m\u001b[0m\n\u001b[1;32m---> 15\u001b[1;33m         \u001b[0mquality\u001b[0m \u001b[1;33m=\u001b[0m \u001b[0mget_quality\u001b[0m\u001b[1;33m(\u001b[0m\u001b[0mmodel\u001b[0m\u001b[1;33m,\u001b[0m \u001b[0mdoc_ranks\u001b[0m\u001b[1;33m,\u001b[0m \u001b[0mqueries\u001b[0m\u001b[1;33m,\u001b[0m \u001b[0mquery_characteristics\u001b[0m\u001b[1;33m)\u001b[0m\u001b[1;33m\u001b[0m\u001b[0m\n\u001b[0m\u001b[0;32m     16\u001b[0m         \u001b[0mqualities\u001b[0m\u001b[1;33m.\u001b[0m\u001b[0mappend\u001b[0m\u001b[1;33m(\u001b[0m\u001b[0mquality\u001b[0m\u001b[1;33m)\u001b[0m\u001b[1;33m\u001b[0m\u001b[0m\n\u001b[0;32m     17\u001b[0m \u001b[1;33m\u001b[0m\u001b[0m\n",
      "\u001b[1;32mC:\\Users\\Howl\\Desktop\\coding\\article\\Information-retrieval/genetic_algorithm\\get_quality.py\u001b[0m in \u001b[0;36mget_quality\u001b[1;34m(model, doc_ranks, queries, query_characteristics)\u001b[0m\n\u001b[0;32m     44\u001b[0m     \u001b[1;32mfor\u001b[0m \u001b[0mi\u001b[0m\u001b[1;33m,\u001b[0m \u001b[0mquery_id\u001b[0m \u001b[1;32min\u001b[0m \u001b[0menumerate\u001b[0m\u001b[1;33m(\u001b[0m\u001b[0mqueries\u001b[0m\u001b[1;33m[\u001b[0m\u001b[1;34m'Id'\u001b[0m\u001b[1;33m]\u001b[0m\u001b[1;33m.\u001b[0m\u001b[0mvalues\u001b[0m\u001b[1;33m)\u001b[0m\u001b[1;33m:\u001b[0m\u001b[1;33m\u001b[0m\u001b[0m\n\u001b[0;32m     45\u001b[0m         \u001b[0mdoc_related\u001b[0m \u001b[1;33m=\u001b[0m \u001b[0mevaluate_model\u001b[0m\u001b[1;33m(\u001b[0m\u001b[0mmodel\u001b[0m\u001b[1;33m,\u001b[0m \u001b[0mquery_characteristics\u001b[0m\u001b[1;33m[\u001b[0m\u001b[0mi\u001b[0m\u001b[1;33m]\u001b[0m\u001b[1;33m)\u001b[0m\u001b[1;33m\u001b[0m\u001b[0m\n\u001b[1;32m---> 46\u001b[1;33m         \u001b[0mquality\u001b[0m \u001b[1;33m=\u001b[0m \u001b[0mevaluate_quality\u001b[0m\u001b[1;33m(\u001b[0m\u001b[0mquery_id\u001b[0m\u001b[1;33m,\u001b[0m \u001b[0mdoc_related\u001b[0m\u001b[1;33m,\u001b[0m \u001b[0mdoc_ranks\u001b[0m\u001b[1;33m[\u001b[0m\u001b[0mi\u001b[0m\u001b[1;33m]\u001b[0m\u001b[1;33m)\u001b[0m\u001b[1;33m\u001b[0m\u001b[0m\n\u001b[0m\u001b[0;32m     47\u001b[0m         \u001b[0mvec_quality\u001b[0m\u001b[1;33m.\u001b[0m\u001b[0mappend\u001b[0m\u001b[1;33m(\u001b[0m\u001b[0mquality\u001b[0m\u001b[1;33m)\u001b[0m\u001b[1;33m\u001b[0m\u001b[0m\n\u001b[0;32m     48\u001b[0m \u001b[1;33m\u001b[0m\u001b[0m\n",
      "\u001b[1;32mC:\\Users\\Howl\\Desktop\\coding\\article\\Information-retrieval/genetic_algorithm\\get_quality.py\u001b[0m in \u001b[0;36mevaluate_quality\u001b[1;34m(query_id, doc_related, doc_ranks)\u001b[0m\n\u001b[0;32m     26\u001b[0m     \u001b[0mdoc_related\u001b[0m \u001b[1;33m=\u001b[0m \u001b[0mdoc_related\u001b[0m\u001b[1;33m[\u001b[0m\u001b[1;33m:\u001b[0m\u001b[1;33m,\u001b[0m \u001b[0msort_indexes\u001b[0m\u001b[1;33m]\u001b[0m\u001b[1;33m\u001b[0m\u001b[0m\n\u001b[0;32m     27\u001b[0m \u001b[1;33m\u001b[0m\u001b[0m\n\u001b[1;32m---> 28\u001b[1;33m     \u001b[0mindsWhichAppear\u001b[0m\u001b[1;33m,\u001b[0m \u001b[0m_\u001b[0m \u001b[1;33m=\u001b[0m \u001b[0misMember\u001b[0m\u001b[1;33m(\u001b[0m\u001b[0mdoc_related\u001b[0m\u001b[1;33m[\u001b[0m\u001b[1;36m0\u001b[0m\u001b[1;33m]\u001b[0m\u001b[1;33m,\u001b[0m \u001b[0mvecDocIdEv\u001b[0m\u001b[1;33m)\u001b[0m\u001b[1;33m\u001b[0m\u001b[0m\n\u001b[0m\u001b[0;32m     29\u001b[0m     \u001b[0mdoc_related\u001b[0m \u001b[1;33m=\u001b[0m \u001b[0mnp\u001b[0m\u001b[1;33m.\u001b[0m\u001b[0mvstack\u001b[0m\u001b[1;33m(\u001b[0m\u001b[1;33m(\u001b[0m\u001b[0mdoc_related\u001b[0m\u001b[1;33m,\u001b[0m \u001b[0mindsWhichAppear\u001b[0m\u001b[1;33m)\u001b[0m\u001b[1;33m)\u001b[0m\u001b[1;33m\u001b[0m\u001b[0m\n\u001b[0;32m     30\u001b[0m \u001b[1;33m\u001b[0m\u001b[0m\n",
      "\u001b[1;32mC:\\Users\\Howl\\Desktop\\coding\\article\\Information-retrieval/genetic_algorithm\\get_quality.py\u001b[0m in \u001b[0;36misMember\u001b[1;34m(arr, to_remain)\u001b[0m\n\u001b[0;32m      4\u001b[0m     \u001b[0mresult\u001b[0m\u001b[1;33m,\u001b[0m \u001b[0mindexes\u001b[0m \u001b[1;33m=\u001b[0m \u001b[1;33m[\u001b[0m\u001b[1;33m]\u001b[0m\u001b[1;33m,\u001b[0m \u001b[1;33m[\u001b[0m\u001b[1;33m]\u001b[0m\u001b[1;33m\u001b[0m\u001b[0m\n\u001b[0;32m      5\u001b[0m     \u001b[1;32mfor\u001b[0m \u001b[0mi\u001b[0m\u001b[1;33m,\u001b[0m \u001b[0melem\u001b[0m \u001b[1;32min\u001b[0m \u001b[0menumerate\u001b[0m\u001b[1;33m(\u001b[0m\u001b[0marr\u001b[0m\u001b[1;33m)\u001b[0m\u001b[1;33m:\u001b[0m\u001b[1;33m\u001b[0m\u001b[0m\n\u001b[1;32m----> 6\u001b[1;33m         \u001b[0mresult\u001b[0m\u001b[1;33m.\u001b[0m\u001b[0mappend\u001b[0m\u001b[1;33m(\u001b[0m\u001b[0melem\u001b[0m \u001b[1;32min\u001b[0m \u001b[0mto_remain\u001b[0m\u001b[1;33m)\u001b[0m\u001b[1;33m\u001b[0m\u001b[0m\n\u001b[0m\u001b[0;32m      7\u001b[0m         \u001b[1;32mif\u001b[0m \u001b[0mresult\u001b[0m\u001b[1;33m[\u001b[0m\u001b[1;33m-\u001b[0m\u001b[1;36m1\u001b[0m\u001b[1;33m]\u001b[0m\u001b[1;33m:\u001b[0m\u001b[1;33m\u001b[0m\u001b[0m\n\u001b[0;32m      8\u001b[0m             \u001b[0mindexes\u001b[0m\u001b[1;33m.\u001b[0m\u001b[0mappend\u001b[0m\u001b[1;33m(\u001b[0m\u001b[0mnp\u001b[0m\u001b[1;33m.\u001b[0m\u001b[0mwhere\u001b[0m\u001b[1;33m(\u001b[0m\u001b[0mto_remain\u001b[0m \u001b[1;33m==\u001b[0m \u001b[0melem\u001b[0m\u001b[1;33m)\u001b[0m\u001b[1;33m[\u001b[0m\u001b[1;36m0\u001b[0m\u001b[1;33m]\u001b[0m\u001b[1;33m[\u001b[0m\u001b[1;36m0\u001b[0m\u001b[1;33m]\u001b[0m\u001b[1;33m)\u001b[0m\u001b[1;33m\u001b[0m\u001b[0m\n",
      "\u001b[1;31mKeyboardInterrupt\u001b[0m: "
     ]
    }
   ],
   "source": [
    "learn_population.learn_population(population, doc_ranks, queries, query_characteristics, vis)"
   ]
  },
  {
   "cell_type": "code",
   "execution_count": null,
   "metadata": {
    "collapsed": true
   },
   "outputs": [],
   "source": []
  }
 ],
 "metadata": {
  "kernelspec": {
   "display_name": "Python 3",
   "language": "python",
   "name": "python3"
  },
  "language_info": {
   "codemirror_mode": {
    "name": "ipython",
    "version": 2
   },
   "file_extension": ".py",
   "mimetype": "text/x-python",
   "name": "python",
   "nbconvert_exporter": "python",
   "pygments_lexer": "ipython2",
   "version": "2.7.12"
  }
 },
 "nbformat": 4,
 "nbformat_minor": 2
}
